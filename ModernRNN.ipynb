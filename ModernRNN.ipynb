{
  "nbformat": 4,
  "nbformat_minor": 0,
  "metadata": {
    "kernelspec": {
      "name": "python3",
      "display_name": "Python 3",
      "language": "python"
    },
    "language_info": {
      "name": "python",
      "version": "3.7.3",
      "mimetype": "text/x-python",
      "codemirror_mode": {
        "name": "ipython",
        "version": 3
      },
      "pygments_lexer": "ipython3",
      "nbconvert_exporter": "python",
      "file_extension": ".py"
    },
    "colab": {
      "name": "ModernRNN.ipynb",
      "provenance": []
    }
  },
  "cells": [
    {
      "cell_type": "code",
      "metadata": {
        "id": "303B4A29B33E4646B59188EC4D57BA14",
        "jupyter": {},
        "tags": [],
        "scrolled": false,
        "colab_type": "code",
        "colab": {},
        "outputId": "d9ab056c-c1d1-4310-d9cf-67e04bdb11d7"
      },
      "source": [
        "import os\n",
        "os.listdir('/home/kesci/input')"
      ],
      "execution_count": 0,
      "outputs": [
        {
          "output_type": "execute_result",
          "data": {
            "text/plain": [
              "['d2lzh1981', 'houseprices2807', 'jaychou_lyrics4703', 'd2l_jay9460']"
            ]
          },
          "metadata": {
            "tags": []
          },
          "execution_count": 1
        }
      ]
    },
    {
      "cell_type": "code",
      "metadata": {
        "jupyter": {},
        "tags": [],
        "id": "954C3D57745047D587E4BFA23CE0BFA0",
        "scrolled": false,
        "colab_type": "code",
        "colab": {}
      },
      "source": [
        "import numpy as np\n",
        "import torch\n",
        "from torch import nn, optim\n",
        "import torch.nn.functional as F\n",
        "\n"
      ],
      "execution_count": 0,
      "outputs": []
    },
    {
      "cell_type": "code",
      "metadata": {
        "scrolled": false,
        "jupyter": {},
        "tags": [],
        "id": "64E106307FF64926859FD92A826422D6",
        "colab_type": "code",
        "colab": {}
      },
      "source": [
        "import sys\n",
        "sys.path.append(\"../input/\")\n",
        "import d2l_jay9460 as d2l\n",
        "device = torch.device('cuda' if torch.cuda.is_available() else 'cpu')\n",
        "\n",
        "(corpus_indices, char_to_idx, idx_to_char, vocab_size) = d2l.load_data_jay_lyrics()"
      ],
      "execution_count": 0,
      "outputs": []
    },
    {
      "cell_type": "code",
      "metadata": {
        "jupyter": {},
        "tags": [],
        "id": "9FB61618A6DB406D843C7BCEDDA63EB1",
        "scrolled": false,
        "colab_type": "code",
        "colab": {},
        "outputId": "e585acf6-515d-4828-9fb0-c3225f21a096"
      },
      "source": [
        "num_inputs, num_hiddens, num_outputs = vocab_size, 256, vocab_size\n",
        "print('will use', device)\n",
        "\n",
        "def get_params():  \n",
        "    def _one(shape):\n",
        "        ts = torch.tensor(np.random.normal(0, 0.01, size=shape), device=device, dtype=torch.float32) #正态分布\n",
        "        return torch.nn.Parameter(ts, requires_grad=True)\n",
        "    def _three():\n",
        "        return (_one((num_inputs, num_hiddens)),\n",
        "                _one((num_hiddens, num_hiddens)),\n",
        "                torch.nn.Parameter(torch.zeros(num_hiddens, device=device, dtype=torch.float32), requires_grad=True))\n",
        "     \n",
        "    W_xz, W_hz, b_z = _three()  # 更新门参数\n",
        "    W_xr, W_hr, b_r = _three()  # 重置门参数\n",
        "    W_xh, W_hh, b_h = _three()  # 候选隐藏状态参数\n",
        "    \n",
        "    # 输出层参数\n",
        "    W_hq = _one((num_hiddens, num_outputs))\n",
        "    b_q = torch.nn.Parameter(torch.zeros(num_outputs, device=device, dtype=torch.float32), requires_grad=True)\n",
        "    return nn.ParameterList([W_xz, W_hz, b_z, W_xr, W_hr, b_r, W_xh, W_hh, b_h, W_hq, b_q])\n",
        "\n",
        "def init_gru_state(batch_size, num_hiddens, device):   #隐藏状态初始化\n",
        "    return (torch.zeros((batch_size, num_hiddens), device=device), )"
      ],
      "execution_count": 0,
      "outputs": [
        {
          "output_type": "stream",
          "text": [
            "will use cpu\n"
          ],
          "name": "stdout"
        }
      ]
    },
    {
      "cell_type": "code",
      "metadata": {
        "jupyter": {},
        "tags": [],
        "id": "F4D5CB26DCBE45E58DECB282979C85D0",
        "scrolled": false,
        "colab_type": "code",
        "colab": {}
      },
      "source": [
        "def gru(inputs, state, params):\n",
        "    W_xz, W_hz, b_z, W_xr, W_hr, b_r, W_xh, W_hh, b_h, W_hq, b_q = params\n",
        "    H, = state\n",
        "    outputs = []\n",
        "    for X in inputs:\n",
        "        Z = torch.sigmoid(torch.matmul(X, W_xz) + torch.matmul(H, W_hz) + b_z)\n",
        "        R = torch.sigmoid(torch.matmul(X, W_xr) + torch.matmul(H, W_hr) + b_r)\n",
        "        H_tilda = torch.tanh(torch.matmul(X, W_xh) + R * torch.matmul(H, W_hh) + b_h)\n",
        "        H = Z * H + (1 - Z) * H_tilda\n",
        "        Y = torch.matmul(H, W_hq) + b_q\n",
        "        outputs.append(Y)\n",
        "    return outputs, (H,)"
      ],
      "execution_count": 0,
      "outputs": []
    },
    {
      "cell_type": "code",
      "metadata": {
        "jupyter": {},
        "tags": [],
        "id": "CF81DCA87B884C2E996632B5E49BB9D9",
        "scrolled": false,
        "colab_type": "code",
        "colab": {}
      },
      "source": [
        "num_epochs, num_steps, batch_size, lr, clipping_theta = 160, 35, 32, 1e2, 1e-2\n",
        "pred_period, pred_len, prefixes = 40, 50, ['分开', '不分开']"
      ],
      "execution_count": 0,
      "outputs": []
    },
    {
      "cell_type": "code",
      "metadata": {
        "jupyter": {},
        "tags": [],
        "id": "4FA0FC8D41C04605BD1FCA235D00233B",
        "scrolled": false,
        "colab_type": "code",
        "colab": {},
        "outputId": "a1dbd331-5f21-45db-b6cf-7cce56af9d74"
      },
      "source": [
        "d2l.train_and_predict_rnn(gru, get_params, init_gru_state, num_hiddens,\n",
        "                          vocab_size, device, corpus_indices, idx_to_char,\n",
        "                          char_to_idx, False, num_epochs, num_steps, lr,\n",
        "                          clipping_theta, batch_size, pred_period, pred_len,\n",
        "                          prefixes)"
      ],
      "execution_count": 0,
      "outputs": [
        {
          "output_type": "stream",
          "text": [
            "epoch 40, perplexity 149.271885, time 1.17 sec\n",
            " - 分开 我想我不不 我想你的让我 你想我的让我 你想我不想 我想你我想想想想想你想你的可爱人  坏我的让我\n",
            " - 不分开 我想你我不想 你不我 我想你的爱爱 我想你的让我 我想你我想想想想想想你的可爱人  坏我的让我 我\n",
            "epoch 160, perplexity 1.427383, time 1.16 sec\n",
            " - 分开 我已带口 你已已是不起 让你知没面对我 甩散球我满腔的怒火 我想揍你已经很久 别想躲 说你眼睛看着\n",
            " - 不分开 整过 是你开的玩笑 想通 却又再考倒我 说散 你想很久了吧? 败给你的黑色幽默 说散 你想很久了吧\n"
          ],
          "name": "stdout"
        }
      ]
    },
    {
      "cell_type": "code",
      "metadata": {
        "jupyter": {},
        "tags": [],
        "id": "CAE438B5EC9A454B8C1AAAF4EFEF7548",
        "colab_type": "code",
        "colab": {},
        "outputId": "dcf47639-f23d-4201-eefd-7e69aa9e4112"
      },
      "source": [
        "num_hiddens=256\n",
        "num_epochs, num_steps, batch_size, lr, clipping_theta = 160, 35, 32, 1e2, 1e-2\n",
        "pred_period, pred_len, prefixes = 40, 50, ['分开', '不分开']\n",
        "\n",
        "lr = 1e-2 # 注意调整学习率\n",
        "gru_layer = nn.GRU(input_size=vocab_size, hidden_size=num_hiddens)\n",
        "model = d2l.RNNModel(gru_layer, vocab_size).to(device)\n",
        "d2l.train_and_predict_rnn_pytorch(model, num_hiddens, vocab_size, device,\n",
        "                                corpus_indices, idx_to_char, char_to_idx,\n",
        "                                num_epochs, num_steps, lr, clipping_theta,\n",
        "                                batch_size, pred_period, pred_len, prefixes)"
      ],
      "execution_count": 0,
      "outputs": [
        {
          "output_type": "stream",
          "text": [
            "epoch 40, perplexity 1.016101, time 0.89 sec\n",
            " - 分开始想像 爸和妈当年的模样 说著一口吴侬软语的姑娘缓缓走过外滩 消失的 旧时光 一九四三 回头看 的片\n",
            " - 不分开暴风圈来不及逃 我不能再想 我不能再想 我不 我不 我不能 爱情走的太快就像龙卷风 不能承受我已无处\n",
            "epoch 80, perplexity 1.010881, time 0.96 sec\n",
            " - 分开都会值得去做 我想大声宣布 对你依依不舍 连隔壁邻居都猜到我现在的感受 河边的风 在吹着头发飘动 牵\n",
            " - 不分开暴风圈来不及逃 我不能再想 我不能再想 我不 我不 我不能 爱情走的太快就像龙卷风 不能承受我已无处\n",
            "epoch 120, perplexity 1.011403, time 0.95 sec\n",
            " - 分开的我爱你看棒球 想这样没担忧 唱着歌 一直走 我想就这样牵着你的手不放开 爱可不可以简简单单没有伤害\n",
            " - 不分开暴风圈来不及逃 我不能再想 我不能再想 我不 我不 我不能 爱情走的太快就像龙卷风 不能承受我已无处\n",
            "epoch 160, perplexity 1.058085, time 0.88 sec\n",
            " - 分开始打呼 管到当初爱你的时空 停格内容不忠 所有回忆对着我进攻   简单爱情来的太快就像龙卷风 离不开\n",
            " - 不分开始打呼 管家是一只是我怕眼泪撑不住 不懂 你给我抬起头 有话去对医药箱说 别怪我 别怪我 说你怎么面\n"
          ],
          "name": "stdout"
        }
      ]
    },
    {
      "cell_type": "code",
      "metadata": {
        "jupyter": {},
        "tags": [],
        "id": "E296216AE65A40608DA0B7856091AA39",
        "scrolled": false,
        "colab_type": "code",
        "colab": {},
        "outputId": "78f64d72-8692-427b-e97e-c96df140dec4"
      },
      "source": [
        "num_inputs, num_hiddens, num_outputs = vocab_size, 256, vocab_size\n",
        "print('will use', device)\n",
        "\n",
        "def get_params():\n",
        "    def _one(shape):\n",
        "        ts = torch.tensor(np.random.normal(0, 0.01, size=shape), device=device, dtype=torch.float32)\n",
        "        return torch.nn.Parameter(ts, requires_grad=True)\n",
        "    def _three():\n",
        "        return (_one((num_inputs, num_hiddens)),\n",
        "                _one((num_hiddens, num_hiddens)),\n",
        "                torch.nn.Parameter(torch.zeros(num_hiddens, device=device, dtype=torch.float32), requires_grad=True))\n",
        "    \n",
        "    W_xi, W_hi, b_i = _three()  # 输入门参数\n",
        "    W_xf, W_hf, b_f = _three()  # 遗忘门参数\n",
        "    W_xo, W_ho, b_o = _three()  # 输出门参数\n",
        "    W_xc, W_hc, b_c = _three()  # 候选记忆细胞参数\n",
        "    \n",
        "    # 输出层参数\n",
        "    W_hq = _one((num_hiddens, num_outputs))\n",
        "    b_q = torch.nn.Parameter(torch.zeros(num_outputs, device=device, dtype=torch.float32), requires_grad=True)\n",
        "    return nn.ParameterList([W_xi, W_hi, b_i, W_xf, W_hf, b_f, W_xo, W_ho, b_o, W_xc, W_hc, b_c, W_hq, b_q])\n",
        "\n",
        "def init_lstm_state(batch_size, num_hiddens, device):\n",
        "    return (torch.zeros((batch_size, num_hiddens), device=device), \n",
        "            torch.zeros((batch_size, num_hiddens), device=device))"
      ],
      "execution_count": 0,
      "outputs": [
        {
          "output_type": "stream",
          "text": [
            "will use cpu\n"
          ],
          "name": "stdout"
        }
      ]
    },
    {
      "cell_type": "code",
      "metadata": {
        "jupyter": {},
        "tags": [],
        "id": "27A0EBB56386481F895FA2FFB0E9180F",
        "scrolled": false,
        "colab_type": "code",
        "colab": {}
      },
      "source": [
        "def lstm(inputs, state, params):\n",
        "    [W_xi, W_hi, b_i, W_xf, W_hf, b_f, W_xo, W_ho, b_o, W_xc, W_hc, b_c, W_hq, b_q] = params\n",
        "    (H, C) = state\n",
        "    outputs = []\n",
        "    for X in inputs:\n",
        "        I = torch.sigmoid(torch.matmul(X, W_xi) + torch.matmul(H, W_hi) + b_i)\n",
        "        F = torch.sigmoid(torch.matmul(X, W_xf) + torch.matmul(H, W_hf) + b_f)\n",
        "        O = torch.sigmoid(torch.matmul(X, W_xo) + torch.matmul(H, W_ho) + b_o)\n",
        "        C_tilda = torch.tanh(torch.matmul(X, W_xc) + torch.matmul(H, W_hc) + b_c)\n",
        "        C = F * C + I * C_tilda\n",
        "        H = O * C.tanh()\n",
        "        Y = torch.matmul(H, W_hq) + b_q\n",
        "        outputs.append(Y)\n",
        "    return outputs, (H, C)"
      ],
      "execution_count": 0,
      "outputs": []
    },
    {
      "cell_type": "code",
      "metadata": {
        "jupyter": {},
        "tags": [],
        "id": "DD60C69E13F84A17BA441F7E75984E2F",
        "scrolled": false,
        "colab_type": "code",
        "colab": {},
        "outputId": "5f465ab0-3240-48bc-854e-65689637c88c"
      },
      "source": [
        "num_epochs, num_steps, batch_size, lr, clipping_theta = 160, 35, 32, 1e2, 1e-2\n",
        "pred_period, pred_len, prefixes = 40, 50, ['分开', '不分开']\n",
        "\n",
        "d2l.train_and_predict_rnn(lstm, get_params, init_lstm_state, num_hiddens,\n",
        "                          vocab_size, device, corpus_indices, idx_to_char,\n",
        "                          char_to_idx, False, num_epochs, num_steps, lr,\n",
        "                          clipping_theta, batch_size, pred_period, pred_len,\n",
        "                          prefixes)"
      ],
      "execution_count": 0,
      "outputs": [
        {
          "output_type": "stream",
          "text": [
            "epoch 40, perplexity 211.457328, time 1.51 sec\n",
            " - 分开 我不的我 我不的我 我不不 我不的我 我不不 我不的我 我不不 我不的我 我不不 我不的我 我不不\n",
            " - 不分开 我不不 我不的我 我不不 我不的我 我不不 我不的我 我不不 我不的我 我不不 我不的我 我不不 \n",
            "epoch 80, perplexity 68.458662, time 1.50 sec\n",
            " - 分开 我想你这你 我不要这你 我不要这你 我不要这你 我不要这你 我不要这你 我不要这你 我不要这你 我\n",
            " - 不分开 我想你你的你 我想要你 我不要 我不要 我不要 我不要 我不要 我不要 我不要 我不要 我不要 我\n",
            "epoch 120, perplexity 15.034657, time 1.49 sec\n",
            " - 分开 我想你你的你笑 不知不觉 你你了一我不我 别发抖 快给我抬起起着你 别发抖 快给我抬起头 有你去对\n",
            " - 不分开 我想你你 我不要再想我 不知不觉 你你了离不我 不知不觉 你跟了离不我 不知不觉 我该了这节活 后\n",
            "epoch 160, perplexity 3.897414, time 1.49 sec\n",
            " - 分开 我想带你里嵩山 学少林跟了了刚 我想就你了嵩着 我想去这生嵩 不天到双截棍 哼哼哈兮 快使用双截棍\n",
            " - 不分开 我 我你你的微笑 像通  又又我 我想就这样牵着你的手不放  穿过来回单单 我 想和你样堡堡 我想\n"
          ],
          "name": "stdout"
        }
      ]
    },
    {
      "cell_type": "code",
      "metadata": {
        "jupyter": {},
        "tags": [],
        "id": "8AC2F2314D8C4DA097334B838732F9D2",
        "scrolled": false,
        "colab_type": "code",
        "colab": {},
        "outputId": "4453843b-91bd-449d-9dd5-d06b98a70451"
      },
      "source": [
        "num_hiddens=256\n",
        "num_epochs, num_steps, batch_size, lr, clipping_theta = 160, 35, 32, 1e2, 1e-2\n",
        "pred_period, pred_len, prefixes = 40, 50, ['分开', '不分开']\n",
        "\n",
        "lr = 1e-2 # 注意调整学习率\n",
        "lstm_layer = nn.LSTM(input_size=vocab_size, hidden_size=num_hiddens)\n",
        "model = d2l.RNNModel(lstm_layer, vocab_size)\n",
        "d2l.train_and_predict_rnn_pytorch(model, num_hiddens, vocab_size, device,\n",
        "                                corpus_indices, idx_to_char, char_to_idx,\n",
        "                                num_epochs, num_steps, lr, clipping_theta,\n",
        "                                batch_size, pred_period, pred_len, prefixes)"
      ],
      "execution_count": 0,
      "outputs": [
        {
          "output_type": "stream",
          "text": [
            "epoch 40, perplexity 1.019881, time 1.04 sec\n",
            " - 分开始打呼 管家是一只会说法语举止优雅的猪 吸血前会念约翰福音做为弥补 拥有一双蓝色眼睛的凯萨琳公主 专\n",
            " - 不分开的玩笑 想通 却又再考倒我 说散 你想很久了吧? 败给你的黑色幽默 不想太多 我想一定是我听错弄错搞\n",
            "epoch 80, perplexity 1.013078, time 1.01 sec\n",
            " - 分开的话像语言暴力 我已无能为力再提起 决定中断熟悉 然后在这里 不限日期 然后将过去 慢慢温习 让我爱\n",
            " - 不分开的玩笑 想通 却又再考倒我 说散 你想很久了吧? 败给你的黑色幽默 说散 你想很久了吧? 我的认真败\n",
            "epoch 120, perplexity 1.010264, time 1.01 sec\n",
            " - 分开 我们儿子她人在江南等我 泪不休 语沉默 一壶好酒 再来一碗热粥 配上几斤的牛肉 我说店小二 三两银\n",
            " - 不分开 我有你看棒球 想这样没担忧 唱着歌 一直走 我想就这样牵着你的手不放开 爱可不可以简简单单没有伤害\n",
            "epoch 160, perplexity 1.008950, time 1.02 sec\n",
            " - 分开 我才  原来我只想要你 陪我去吃汉堡  说穿了其实我的愿望就怎么小 就怎么每天祈祷我的心跳你知道 \n",
            " - 不分开 我才你看 我想要再这样打我妈妈 我说的话 你甘会听 不要再这样打我妈妈 难道你手不会痛吗 其实我回\n"
          ],
          "name": "stdout"
        }
      ]
    },
    {
      "cell_type": "code",
      "metadata": {
        "jupyter": {},
        "tags": [],
        "id": "9E06D2B447EA485B88F31C9B57ED3A79",
        "scrolled": false,
        "colab_type": "code",
        "colab": {},
        "outputId": "377dd814-c5b1-4fd8-fab5-6012ac8c2e72"
      },
      "source": [
        "\n",
        "\n",
        "num_hiddens=256\n",
        "num_epochs, num_steps, batch_size, lr, clipping_theta = 160, 35, 32, 1e2, 1e-2\n",
        "pred_period, pred_len, prefixes = 40, 50, ['分开', '不分开']\n",
        "\n",
        "lr = 1e-2 # 注意调整学习率\n",
        "\n",
        "gru_layer = nn.LSTM(input_size=vocab_size, hidden_size=num_hiddens,num_layers=2)\n",
        "model = d2l.RNNModel(gru_layer, vocab_size).to(device)\n",
        "d2l.train_and_predict_rnn_pytorch(model, num_hiddens, vocab_size, device,\n",
        "                                corpus_indices, idx_to_char, char_to_idx,\n",
        "                                num_epochs, num_steps, lr, clipping_theta,\n",
        "                                batch_size, pred_period, pred_len, prefixes)"
      ],
      "execution_count": 0,
      "outputs": [
        {
          "output_type": "stream",
          "text": [
            "epoch 40, perplexity 12.840496, time 1.52 sec\n",
            " - 分开我 想你的话我在想再你的让我女疼 我想你 我有要有 想你你 想你的让我女沉 我想你你 想你的让我女沉\n",
            " - 不分开的经爱女人 坏坏的让我疯狂的可爱女人 坏坏的让我疯狂的可爱女人 坏坏的让我疯狂的可爱女人 坏坏的让我\n",
            "epoch 80, perplexity 1.247634, time 1.52 sec\n",
            " - 分开有一条热昏头的响尾蛇 无力的躺在干枯的河 在等待雨季来临变沼泽 灰狼啃食著水鹿的骨头 秃鹰盘旋死盯着\n",
            " - 不分开的会手 穿梭放受 一朵一朵因你而香 试图让夕阳飞翔 带领你我环绕大自然 迎著风 开始共渡每一天 手牵\n",
            "epoch 120, perplexity 1.021974, time 1.56 sec\n",
            " - 分开我妈妈 我有多重要 我后悔没让你知道 安静的听你撒娇 看你睡著一直到老 就是开不了口让她知道 就是那\n",
            " - 不分开的会堡  想要将我不投 又不会掩护我 选你这种队友 瞎透了我 说你说 分数怎么停留 一直在停留 谁让\n",
            "epoch 160, perplexity 1.016324, time 1.59 sec\n",
            " - 分开在没有一个人身留  旧时光 一九四三 在回忆 的路上 时间变好慢 老街坊 小弄堂 是属于那年代白墙黑\n",
            " - 不分开的我有 有样的要再这样打我妈妈 难道你手不会痛吗 不要再这样打我妈妈 难道你手不会痛吗 不要再这样打\n"
          ],
          "name": "stdout"
        }
      ]
    },
    {
      "cell_type": "code",
      "metadata": {
        "jupyter": {},
        "tags": [],
        "id": "E386044D687F4D5D862CE5F6E3E2C00A",
        "scrolled": false,
        "colab_type": "code",
        "colab": {},
        "outputId": "d6e964ce-1d3d-4d3b-a39b-d9c596144c93"
      },
      "source": [
        "gru_layer = nn.LSTM(input_size=vocab_size, hidden_size=num_hiddens,num_layers=6)\n",
        "model = d2l.RNNModel(gru_layer, vocab_size).to(device)\n",
        "d2l.train_and_predict_rnn_pytorch(model, num_hiddens, vocab_size, device,\n",
        "                                corpus_indices, idx_to_char, char_to_idx,\n",
        "                                num_epochs, num_steps, lr, clipping_theta,\n",
        "                                batch_size, pred_period, pred_len, prefixes)"
      ],
      "execution_count": 0,
      "outputs": [
        {
          "output_type": "stream",
          "text": [
            "epoch 40, perplexity 276.815235, time 8.50 sec\n",
            " - 分开                                                  \n",
            " - 不分开                                                  \n",
            "epoch 80, perplexity 276.278550, time 8.51 sec\n",
            " - 分开                                                  \n",
            " - 不分开                                                  \n",
            "epoch 120, perplexity 276.146710, time 8.53 sec\n",
            " - 分开                                                  \n",
            " - 不分开                                                  \n",
            "epoch 160, perplexity 275.739864, time 9.04 sec\n",
            " - 分开                                                  \n",
            " - 不分开                                                  \n"
          ],
          "name": "stdout"
        }
      ]
    },
    {
      "cell_type": "code",
      "metadata": {
        "jupyter": {},
        "tags": [],
        "id": "176C228203A040D38D18DC194099C9EA",
        "scrolled": false,
        "colab_type": "code",
        "colab": {},
        "outputId": "3a0fccf6-a229-4eab-ead6-bbf8bf96479a"
      },
      "source": [
        "num_hiddens=128\n",
        "num_epochs, num_steps, batch_size, lr, clipping_theta = 160, 35, 32, 1e-2, 1e-2\n",
        "pred_period, pred_len, prefixes = 40, 50, ['分开', '不分开']\n",
        "\n",
        "lr = 1e-2 # 注意调整学习率\n",
        "\n",
        "gru_layer = nn.GRU(input_size=vocab_size, hidden_size=num_hiddens,bidirectional=True)\n",
        "model = d2l.RNNModel(gru_layer, vocab_size).to(device)\n",
        "d2l.train_and_predict_rnn_pytorch(model, num_hiddens, vocab_size, device,\n",
        "                                corpus_indices, idx_to_char, char_to_idx,\n",
        "                                num_epochs, num_steps, lr, clipping_theta,\n",
        "                                batch_size, pred_period, pred_len, prefixes)"
      ],
      "execution_count": 0,
      "outputs": [
        {
          "output_type": "stream",
          "text": [
            "epoch 40, perplexity 1.001741, time 0.91 sec\n",
            " - 分开始开始开始开始开始开始开始开始开始开始开始开始开始开始开始开始开始开始开始开始开始开始开始开始开始开\n",
            " - 不分开始开始开始开始开始开始开始开始开始开始开始开始开始开始开始开始开始开始开始开始开始开始开始开始开始开\n",
            "epoch 80, perplexity 1.000520, time 0.91 sec\n",
            " - 分开始开始开始开始开始开始开始开始开始开始开始开始开始开始开始开始开始开始开始开始开始开始开始开始开始开\n",
            " - 不分开始开始开始开始开始开始开始开始开始开始开始开始开始开始开始开始开始开始开始开始开始开始开始开始开始开\n",
            "epoch 120, perplexity 1.000255, time 0.99 sec\n",
            " - 分开始开始开始开始开始开始开始开始开始开始开始开始开始开始开始开始开始开始开始开始开始开始开始开始开始开\n",
            " - 不分开球我球我球我球我球我球我球我球我球我球我球我球我球我球我球我球我球我球我球我球我球我球我球我球我球我\n",
            "epoch 160, perplexity 1.000151, time 0.92 sec\n",
            " - 分开始开始开始开始开始开始开始开始开始开始开始开始开始开始开始开始开始开始开始开始开始开始开始开始开始开\n",
            " - 不分开球我球我球我球我球我球我球我球我球我球我球我球我球我球我球我球我球我球我球我球我球我球我球我球我球我\n"
          ],
          "name": "stdout"
        }
      ]
    }
  ]
}