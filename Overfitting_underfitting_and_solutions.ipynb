{
  "nbformat": 4,
  "nbformat_minor": 0,
  "metadata": {
    "kernelspec": {
      "name": "python3",
      "display_name": "Python 3",
      "language": "python"
    },
    "language_info": {
      "name": "python",
      "version": "3.7.3",
      "mimetype": "text/x-python",
      "codemirror_mode": {
        "name": "ipython",
        "version": 3
      },
      "pygments_lexer": "ipython3",
      "nbconvert_exporter": "python",
      "file_extension": ".py"
    },
    "colab": {
      "name": "Overfitting underfitting and solutions.ipynb",
      "provenance": []
    }
  },
  "cells": [
    {
      "cell_type": "code",
      "metadata": {
        "_cell_guid": "b1076dfc-b9ad-4769-8c92-a6c4dae69d19",
        "_uuid": "8f2839f25d086af736a60e9eeb907d3b93b6e0e5",
        "graffitiCellId": "id_yjb9esq",
        "jupyter": {},
        "tags": [],
        "id": "F39C60E42E09441D8602243557564E0A",
        "scrolled": false,
        "colab_type": "code",
        "colab": {},
        "outputId": "cb4b651c-0222-49c8-c179-2487782145aa"
      },
      "source": [
        "%matplotlib inline\n",
        "import torch\n",
        "import numpy as np\n",
        "import sys\n",
        "sys.path.append(\"/home/kesci/input\")\n",
        "import d2lzh1981 as d2l\n",
        "print(torch.__version__)"
      ],
      "execution_count": 0,
      "outputs": [
        {
          "output_type": "stream",
          "text": [
            "1.3.0\n"
          ],
          "name": "stdout"
        }
      ]
    },
    {
      "cell_type": "code",
      "metadata": {
        "_cell_guid": "79c7e3d0-c299-4dcb-8224-4455121ee9b0",
        "_uuid": "d629ff2d2480ee46fbb7e2d37f6b5fab8052498a",
        "graffitiCellId": "id_3xv7jo8",
        "jupyter": {},
        "tags": [],
        "id": "9714C0B5EF3344AB89F6C05008E10951",
        "scrolled": false,
        "colab_type": "code",
        "colab": {}
      },
      "source": [
        "n_train, n_test, true_w, true_b = 100, 100, [1.2, -3.4, 5.6], 5\n",
        "features = torch.randn((n_train + n_test, 1))\n",
        "poly_features = torch.cat((features, torch.pow(features, 2), torch.pow(features, 3)), 1) \n",
        "labels = (true_w[0] * poly_features[:, 0] + true_w[1] * poly_features[:, 1]\n",
        "          + true_w[2] * poly_features[:, 2] + true_b)\n",
        "labels += torch.tensor(np.random.normal(0, 0.01, size=labels.size()), dtype=torch.float)"
      ],
      "execution_count": 0,
      "outputs": []
    },
    {
      "cell_type": "code",
      "metadata": {
        "graffitiCellId": "id_m2mu8wo",
        "jupyter": {},
        "tags": [],
        "id": "FDF06E080C72455296FF40E5A03C8A1D",
        "scrolled": false,
        "colab_type": "code",
        "colab": {},
        "outputId": "b1fd4d0a-8b31-494d-bfda-024286745a82"
      },
      "source": [
        "features[:2], poly_features[:2], labels[:2]"
      ],
      "execution_count": 0,
      "outputs": [
        {
          "output_type": "execute_result",
          "data": {
            "text/plain": [
              "(tensor([[-0.8589],\n",
              "         [-0.2534]]), tensor([[-0.8589,  0.7377, -0.6335],\n",
              "         [-0.2534,  0.0642, -0.0163]]), tensor([-2.0794,  4.4039]))"
            ]
          },
          "metadata": {
            "tags": []
          },
          "execution_count": 5
        }
      ]
    },
    {
      "cell_type": "code",
      "metadata": {
        "graffitiCellId": "id_tq07955",
        "jupyter": {},
        "tags": [],
        "id": "DD5CB5E380BE4BF498E4F3D5A9F97F43",
        "scrolled": false,
        "colab_type": "code",
        "colab": {}
      },
      "source": [
        "def semilogy(x_vals, y_vals, x_label, y_label, x2_vals=None, y2_vals=None,\n",
        "             legend=None, figsize=(3.5, 2.5)):\n",
        "    # d2l.set_figsize(figsize)\n",
        "    d2l.plt.xlabel(x_label)\n",
        "    d2l.plt.ylabel(y_label)\n",
        "    d2l.plt.semilogy(x_vals, y_vals)\n",
        "    if x2_vals and y2_vals:\n",
        "        d2l.plt.semilogy(x2_vals, y2_vals, linestyle=':')\n",
        "        d2l.plt.legend(legend)"
      ],
      "execution_count": 0,
      "outputs": []
    },
    {
      "cell_type": "code",
      "metadata": {
        "graffitiCellId": "id_3lzy7bj",
        "jupyter": {},
        "tags": [],
        "id": "3DA4335947C44C018CD2C8B215A641ED",
        "scrolled": false,
        "colab_type": "code",
        "colab": {}
      },
      "source": [
        "num_epochs, loss = 100, torch.nn.MSELoss()\n",
        "\n",
        "def fit_and_plot(train_features, test_features, train_labels, test_labels):\n",
        "    # 初始化网络模型\n",
        "    net = torch.nn.Linear(train_features.shape[-1], 1)\n",
        "    # 通过Linear文档可知，pytorch已经将参数初始化了，所以我们这里就不手动初始化了\n",
        "    \n",
        "    # 设置批量大小\n",
        "    batch_size = min(10, train_labels.shape[0])    \n",
        "    dataset = torch.utils.data.TensorDataset(train_features, train_labels)      # 设置数据集\n",
        "    train_iter = torch.utils.data.DataLoader(dataset, batch_size, shuffle=True) # 设置获取数据方式\n",
        "    \n",
        "    optimizer = torch.optim.SGD(net.parameters(), lr=0.01)                      # 设置优化函数，使用的是随机梯度下降优化\n",
        "    train_ls, test_ls = [], []\n",
        "    for _ in range(num_epochs):\n",
        "        for X, y in train_iter:                                                 # 取一个批量的数据\n",
        "            l = loss(net(X), y.view(-1, 1))                                     # 输入到网络中计算输出，并和标签比较求得损失函数\n",
        "            optimizer.zero_grad()                                               # 梯度清零，防止梯度累加干扰优化\n",
        "            l.backward()                                                        # 求梯度\n",
        "            optimizer.step()                                                    # 迭代优化函数，进行参数优化\n",
        "        train_labels = train_labels.view(-1, 1)\n",
        "        test_labels = test_labels.view(-1, 1)\n",
        "        train_ls.append(loss(net(train_features), train_labels).item())         # 将训练损失保存到train_ls中\n",
        "        test_ls.append(loss(net(test_features), test_labels).item())            # 将测试损失保存到test_ls中\n",
        "    print('final epoch: train loss', train_ls[-1], 'test loss', test_ls[-1])    \n",
        "    semilogy(range(1, num_epochs + 1), train_ls, 'epochs', 'loss',\n",
        "             range(1, num_epochs + 1), test_ls, ['train', 'test'])\n",
        "    print('weight:', net.weight.data,\n",
        "          '\\nbias:', net.bias.data)"
      ],
      "execution_count": 0,
      "outputs": []
    },
    {
      "cell_type": "code",
      "metadata": {
        "graffitiCellId": "id_pc28vr5",
        "jupyter": {},
        "tags": [],
        "id": "CD685B472B744329A1CFC47C9F0B5E89",
        "scrolled": false,
        "colab_type": "code",
        "colab": {},
        "outputId": "9fd23436-a347-45f9-aaad-eb2872328350"
      },
      "source": [
        "fit_and_plot(poly_features[:n_train, :], poly_features[n_train:, :], labels[:n_train], labels[n_train:])"
      ],
      "execution_count": 0,
      "outputs": [
        {
          "output_type": "stream",
          "text": [
            "final epoch: train loss 8887.298828125 test loss 1145.94287109375\n",
            "weight: tensor([[-8.5120, 19.0351, 12.8616]]) \n",
            "bias: tensor([-5.4607])\n"
          ],
          "name": "stdout"
        },
        {
          "output_type": "display_data",
          "data": {
            "text/plain": [
              "<Figure size 432x288 with 1 Axes>"
            ],
            "text/html": [
              "<img src=\"https://cdn.kesci.com/rt_upload/CD685B472B744329A1CFC47C9F0B5E89/q5jf5azjcn.png\">"
            ]
          },
          "metadata": {
            "tags": [],
            "needs_background": "light"
          }
        }
      ]
    },
    {
      "cell_type": "code",
      "metadata": {
        "graffitiCellId": "id_07e409i",
        "jupyter": {},
        "tags": [],
        "id": "33AD626DA0B94DB7A28D47697312B45D",
        "scrolled": false,
        "colab_type": "code",
        "colab": {},
        "outputId": "0426ec70-4c9f-488e-8b55-580e5c75e195"
      },
      "source": [
        "fit_and_plot(features[:n_train, :], features[n_train:, :], labels[:n_train], labels[n_train:])"
      ],
      "execution_count": 0,
      "outputs": [
        {
          "output_type": "stream",
          "text": [
            "final epoch: train loss 781.689453125 test loss 329.79852294921875\n",
            "weight: tensor([[26.8753]]) \n",
            "bias: tensor([6.1426])\n"
          ],
          "name": "stdout"
        },
        {
          "output_type": "display_data",
          "data": {
            "text/plain": [
              "<Figure size 432x288 with 1 Axes>"
            ],
            "text/html": [
              "<img src=\"https://cdn.kesci.com/rt_upload/33AD626DA0B94DB7A28D47697312B45D/q5jf5al2tv.png\">"
            ]
          },
          "metadata": {
            "tags": [],
            "needs_background": "light"
          }
        }
      ]
    },
    {
      "cell_type": "code",
      "metadata": {
        "graffitiCellId": "id_h1gobje",
        "jupyter": {},
        "tags": [],
        "id": "AB13F65A70A9484788F8004E427EC290",
        "scrolled": false,
        "colab_type": "code",
        "colab": {},
        "outputId": "d3fe6514-fa03-4067-d5ad-d8c041a6f92c"
      },
      "source": [
        "fit_and_plot(poly_features[0:2, :], poly_features[n_train:, :], labels[0:2], labels[n_train:])"
      ],
      "execution_count": 0,
      "outputs": [
        {
          "output_type": "stream",
          "text": [
            "final epoch: train loss 6.23520565032959 test loss 409.9844665527344\n",
            "weight: tensor([[ 0.9729, -0.9612,  0.7259]]) \n",
            "bias: tensor([1.6334])\n"
          ],
          "name": "stdout"
        },
        {
          "output_type": "display_data",
          "data": {
            "text/plain": [
              "<Figure size 432x288 with 1 Axes>"
            ],
            "text/html": [
              "<img src=\"https://cdn.kesci.com/rt_upload/AB13F65A70A9484788F8004E427EC290/q5jf5bd11u.png\">"
            ]
          },
          "metadata": {
            "tags": [],
            "needs_background": "light"
          }
        }
      ]
    },
    {
      "cell_type": "code",
      "metadata": {
        "graffitiCellId": "id_m6mthxc",
        "jupyter": {},
        "tags": [],
        "id": "51E803AFA42047D48605A9042CD266F8",
        "scrolled": false,
        "colab_type": "code",
        "colab": {},
        "outputId": "695f8194-57d7-46ac-8f33-676c1d053817"
      },
      "source": [
        "%matplotlib inline\n",
        "import torch\n",
        "import torch.nn as nn\n",
        "import numpy as np\n",
        "import sys\n",
        "sys.path.append(\"/home/kesci/input\")\n",
        "import d2lzh1981 as d2l\n",
        "\n",
        "print(torch.__version__)"
      ],
      "execution_count": 0,
      "outputs": [
        {
          "output_type": "stream",
          "text": [
            "1.3.0\n"
          ],
          "name": "stdout"
        }
      ]
    },
    {
      "cell_type": "code",
      "metadata": {
        "graffitiCellId": "id_3ymafxv",
        "jupyter": {},
        "tags": [],
        "id": "D66AE4FB939640948F151F6FF7C1740E",
        "scrolled": false,
        "colab_type": "code",
        "colab": {}
      },
      "source": [
        "n_train, n_test, num_inputs = 20, 100, 200\n",
        "true_w, true_b = torch.ones(num_inputs, 1) * 0.01, 0.05\n",
        "\n",
        "features = torch.randn((n_train + n_test, num_inputs))\n",
        "labels = torch.matmul(features, true_w) + true_b\n",
        "labels += torch.tensor(np.random.normal(0, 0.01, size=labels.size()), dtype=torch.float)\n",
        "train_features, test_features = features[:n_train, :], features[n_train:, :]\n",
        "train_labels, test_labels = labels[:n_train], labels[n_train:]"
      ],
      "execution_count": 0,
      "outputs": []
    },
    {
      "cell_type": "code",
      "metadata": {
        "graffitiCellId": "id_xd0w3ub",
        "jupyter": {},
        "tags": [],
        "id": "E1707F6923A742F69F84896E84B463FE",
        "scrolled": false,
        "colab_type": "code",
        "colab": {}
      },
      "source": [
        "# 定义参数初始化函数，初始化模型参数并且附上梯度\n",
        "def init_params():\n",
        "    w = torch.randn((num_inputs, 1), requires_grad=True)\n",
        "    b = torch.zeros(1, requires_grad=True)\n",
        "    return [w, b]"
      ],
      "execution_count": 0,
      "outputs": []
    },
    {
      "cell_type": "code",
      "metadata": {
        "graffitiCellId": "id_kkiguji",
        "jupyter": {},
        "tags": [],
        "id": "4709112E91504EF68681066730402A03",
        "scrolled": false,
        "colab_type": "code",
        "colab": {}
      },
      "source": [
        "def l2_penalty(w):\n",
        "    return (w**2).sum() / 2"
      ],
      "execution_count": 0,
      "outputs": []
    },
    {
      "cell_type": "code",
      "metadata": {
        "graffitiCellId": "id_6crgl61",
        "jupyter": {},
        "tags": [],
        "id": "3A369C128AE64990854186DAD85DDD7F",
        "scrolled": false,
        "colab_type": "code",
        "colab": {}
      },
      "source": [
        "batch_size, num_epochs, lr = 1, 100, 0.003\n",
        "net, loss = d2l.linreg, d2l.squared_loss\n",
        "\n",
        "dataset = torch.utils.data.TensorDataset(train_features, train_labels)\n",
        "train_iter = torch.utils.data.DataLoader(dataset, batch_size, shuffle=True)\n",
        "\n",
        "def fit_and_plot(lambd):\n",
        "    w, b = init_params()\n",
        "    train_ls, test_ls = [], []\n",
        "    for _ in range(num_epochs):\n",
        "        for X, y in train_iter:\n",
        "            # 添加了L2范数惩罚项\n",
        "            l = loss(net(X, w, b), y) + lambd * l2_penalty(w)\n",
        "            l = l.sum()\n",
        "            \n",
        "            if w.grad is not None:\n",
        "                w.grad.data.zero_()\n",
        "                b.grad.data.zero_()\n",
        "            l.backward()\n",
        "            d2l.sgd([w, b], lr, batch_size)\n",
        "        train_ls.append(loss(net(train_features, w, b), train_labels).mean().item())\n",
        "        test_ls.append(loss(net(test_features, w, b), test_labels).mean().item())\n",
        "    d2l.semilogy(range(1, num_epochs + 1), train_ls, 'epochs', 'loss',\n",
        "                 range(1, num_epochs + 1), test_ls, ['train', 'test'])\n",
        "    print('L2 norm of w:', w.norm().item())"
      ],
      "execution_count": 0,
      "outputs": []
    },
    {
      "cell_type": "code",
      "metadata": {
        "graffitiCellId": "id_6pmjf6b",
        "jupyter": {},
        "tags": [],
        "id": "C27406AAA0FD41C6801D55ED4B25D5EA",
        "scrolled": false,
        "colab_type": "code",
        "colab": {},
        "outputId": "9a0c1753-7a75-4d0d-b902-a24d9ddbee40"
      },
      "source": [
        "fit_and_plot(lambd=0)"
      ],
      "execution_count": 0,
      "outputs": [
        {
          "output_type": "stream",
          "text": [
            "L2 norm of w: 11.6444091796875\n"
          ],
          "name": "stdout"
        },
        {
          "output_type": "display_data",
          "data": {
            "text/plain": [
              "<Figure size 252x180 with 1 Axes>"
            ],
            "text/html": [
              "<img src=\"https://cdn.kesci.com/rt_upload/C27406AAA0FD41C6801D55ED4B25D5EA/q5jf5cs7lp.svg\">"
            ]
          },
          "metadata": {
            "tags": [],
            "needs_background": "light"
          }
        }
      ]
    },
    {
      "cell_type": "code",
      "metadata": {
        "graffitiCellId": "id_x1tkbn7",
        "jupyter": {},
        "tags": [],
        "id": "0770D8C23B8144C59D13D24390E471F0",
        "scrolled": false,
        "colab_type": "code",
        "colab": {},
        "outputId": "1b3f7d1f-df73-4815-f973-59aac690a11f"
      },
      "source": [
        "fit_and_plot(lambd=3)"
      ],
      "execution_count": 0,
      "outputs": [
        {
          "output_type": "stream",
          "text": [
            "L2 norm of w: 0.04063604772090912\n"
          ],
          "name": "stdout"
        },
        {
          "output_type": "display_data",
          "data": {
            "text/plain": [
              "<Figure size 252x180 with 1 Axes>"
            ],
            "text/html": [
              "<img src=\"https://cdn.kesci.com/rt_upload/0770D8C23B8144C59D13D24390E471F0/q5jf5d4mwp.svg\">"
            ]
          },
          "metadata": {
            "tags": [],
            "needs_background": "light"
          }
        }
      ]
    },
    {
      "cell_type": "code",
      "metadata": {
        "graffitiCellId": "id_b6kxfkc",
        "jupyter": {},
        "tags": [],
        "id": "20CFA1339D054931892561E254150368",
        "scrolled": false,
        "colab_type": "code",
        "colab": {}
      },
      "source": [
        "def fit_and_plot_pytorch(wd):\n",
        "    # 对权重参数衰减。权重名称一般是以weight结尾\n",
        "    net = nn.Linear(num_inputs, 1)\n",
        "    nn.init.normal_(net.weight, mean=0, std=1)\n",
        "    nn.init.normal_(net.bias, mean=0, std=1)\n",
        "    optimizer_w = torch.optim.SGD(params=[net.weight], lr=lr, weight_decay=wd) # 对权重参数衰减\n",
        "    optimizer_b = torch.optim.SGD(params=[net.bias], lr=lr)  # 不对偏差参数衰减\n",
        "    \n",
        "    train_ls, test_ls = [], []\n",
        "    for _ in range(num_epochs):\n",
        "        for X, y in train_iter:\n",
        "            l = loss(net(X), y).mean()\n",
        "            optimizer_w.zero_grad()\n",
        "            optimizer_b.zero_grad()\n",
        "            \n",
        "            l.backward()\n",
        "            \n",
        "            # 对两个optimizer实例分别调用step函数，从而分别更新权重和偏差\n",
        "            optimizer_w.step()\n",
        "            optimizer_b.step()\n",
        "        train_ls.append(loss(net(train_features), train_labels).mean().item())\n",
        "        test_ls.append(loss(net(test_features), test_labels).mean().item())\n",
        "    d2l.semilogy(range(1, num_epochs + 1), train_ls, 'epochs', 'loss',\n",
        "                 range(1, num_epochs + 1), test_ls, ['train', 'test'])\n",
        "    print('L2 norm of w:', net.weight.data.norm().item())"
      ],
      "execution_count": 0,
      "outputs": []
    },
    {
      "cell_type": "code",
      "metadata": {
        "graffitiCellId": "id_dxnud8x",
        "jupyter": {},
        "tags": [],
        "id": "525D01167F0E40509495588D6B0A0FB9",
        "scrolled": false,
        "colab_type": "code",
        "colab": {},
        "outputId": "87517771-b35f-4440-ad5c-62a28608ec8f"
      },
      "source": [
        "fit_and_plot_pytorch(0)"
      ],
      "execution_count": 0,
      "outputs": [
        {
          "output_type": "stream",
          "text": [
            "L2 norm of w: 13.361410140991211\n"
          ],
          "name": "stdout"
        },
        {
          "output_type": "display_data",
          "data": {
            "text/plain": [
              "<Figure size 252x180 with 1 Axes>"
            ],
            "text/html": [
              "<img src=\"https://cdn.kesci.com/rt_upload/525D01167F0E40509495588D6B0A0FB9/q5jf5e5i21.svg\">"
            ]
          },
          "metadata": {
            "tags": [],
            "needs_background": "light"
          }
        }
      ]
    },
    {
      "cell_type": "code",
      "metadata": {
        "graffitiCellId": "id_qclwxdh",
        "jupyter": {},
        "tags": [],
        "id": "3FAACA854B9545A8ADADDEB6EE17A680",
        "scrolled": false,
        "colab_type": "code",
        "colab": {},
        "outputId": "3ae831c6-fdd0-4da3-9bda-a595346321a9"
      },
      "source": [
        "fit_and_plot_pytorch(3)"
      ],
      "execution_count": 0,
      "outputs": [
        {
          "output_type": "stream",
          "text": [
            "L2 norm of w: 0.051789578050374985\n"
          ],
          "name": "stdout"
        },
        {
          "output_type": "display_data",
          "data": {
            "text/plain": [
              "<Figure size 252x180 with 1 Axes>"
            ],
            "text/html": [
              "<img src=\"https://cdn.kesci.com/rt_upload/3FAACA854B9545A8ADADDEB6EE17A680/q5jf5fa51u.svg\">"
            ]
          },
          "metadata": {
            "tags": [],
            "needs_background": "light"
          }
        }
      ]
    },
    {
      "cell_type": "code",
      "metadata": {
        "graffitiCellId": "id_0cw2xsh",
        "jupyter": {},
        "tags": [],
        "id": "30FE9592111F415A8C913AC04AD9BF9A",
        "scrolled": false,
        "colab_type": "code",
        "colab": {},
        "outputId": "f5fb99f6-10f6-405f-e382-1de247a1e420"
      },
      "source": [
        "%matplotlib inline\n",
        "import torch\n",
        "import torch.nn as nn\n",
        "import numpy as np\n",
        "import sys\n",
        "sys.path.append(\"/home/kesci/input\")\n",
        "import d2lzh1981 as d2l\n",
        "\n",
        "print(torch.__version__)"
      ],
      "execution_count": 0,
      "outputs": [
        {
          "output_type": "stream",
          "text": [
            "1.3.0\n"
          ],
          "name": "stdout"
        }
      ]
    },
    {
      "cell_type": "code",
      "metadata": {
        "graffitiCellId": "id_7mt4bcl",
        "jupyter": {},
        "tags": [],
        "id": "C6790DFD4650485AB8315E04E12D4C74",
        "scrolled": false,
        "colab_type": "code",
        "colab": {}
      },
      "source": [
        "def dropout(X, drop_prob):\n",
        "    X = X.float()\n",
        "    assert 0 <= drop_prob <= 1\n",
        "    keep_prob = 1 - drop_prob\n",
        "    # 这种情况下把全部元素都丢弃\n",
        "    if keep_prob == 0:\n",
        "        return torch.zeros_like(X)\n",
        "    mask = (torch.rand(X.shape) < keep_prob).float()\n",
        "    \n",
        "    return mask * X / keep_prob"
      ],
      "execution_count": 0,
      "outputs": []
    },
    {
      "cell_type": "code",
      "metadata": {
        "graffitiCellId": "id_ek4ildz",
        "jupyter": {},
        "tags": [],
        "id": "F961F801B5CB434683F8F82FD79C8F23",
        "scrolled": false,
        "colab_type": "code",
        "colab": {},
        "outputId": "262f102e-3ea9-4d25-f82a-0cd6c20dd862"
      },
      "source": [
        "X = torch.arange(16).view(2, 8)\n",
        "dropout(X, 0)"
      ],
      "execution_count": 0,
      "outputs": [
        {
          "output_type": "execute_result",
          "data": {
            "text/plain": [
              "tensor([[ 0.,  1.,  2.,  3.,  4.,  5.,  6.,  7.],\n",
              "        [ 8.,  9., 10., 11., 12., 13., 14., 15.]])"
            ]
          },
          "metadata": {
            "tags": []
          },
          "execution_count": 23
        }
      ]
    },
    {
      "cell_type": "code",
      "metadata": {
        "graffitiCellId": "id_i67qnbo",
        "jupyter": {},
        "tags": [],
        "id": "A2563ED1062D48728E6AA868A3A8C3F4",
        "scrolled": false,
        "colab_type": "code",
        "colab": {},
        "outputId": "6980795f-7a5f-4c3a-a14a-63f8da7ad2cb"
      },
      "source": [
        "dropout(X, 0.5)"
      ],
      "execution_count": 0,
      "outputs": [
        {
          "output_type": "execute_result",
          "data": {
            "text/plain": [
              "tensor([[ 0.,  0.,  0.,  6.,  8., 10.,  0., 14.],\n",
              "        [ 0.,  0., 20.,  0.,  0.,  0., 28.,  0.]])"
            ]
          },
          "metadata": {
            "tags": []
          },
          "execution_count": 24
        }
      ]
    },
    {
      "cell_type": "code",
      "metadata": {
        "graffitiCellId": "id_gwsj0hd",
        "jupyter": {},
        "tags": [],
        "id": "56DF0D9E4EE84D04A6CCE5180FF9D164",
        "scrolled": false,
        "colab_type": "code",
        "colab": {},
        "outputId": "e907cf45-300b-42df-91ba-1c2100d48cfc"
      },
      "source": [
        "dropout(X, 1.0)"
      ],
      "execution_count": 0,
      "outputs": [
        {
          "output_type": "execute_result",
          "data": {
            "text/plain": [
              "tensor([[0., 0., 0., 0., 0., 0., 0., 0.],\n",
              "        [0., 0., 0., 0., 0., 0., 0., 0.]])"
            ]
          },
          "metadata": {
            "tags": []
          },
          "execution_count": 25
        }
      ]
    },
    {
      "cell_type": "code",
      "metadata": {
        "graffitiCellId": "id_w81sasb",
        "jupyter": {},
        "tags": [],
        "id": "E3ECEB59A5F944898BE2C5ABEB513208",
        "scrolled": false,
        "colab_type": "code",
        "colab": {}
      },
      "source": [
        "# 参数的初始化\n",
        "num_inputs, num_outputs, num_hiddens1, num_hiddens2 = 784, 10, 256, 256\n",
        "\n",
        "W1 = torch.tensor(np.random.normal(0, 0.01, size=(num_inputs, num_hiddens1)), dtype=torch.float, requires_grad=True)\n",
        "b1 = torch.zeros(num_hiddens1, requires_grad=True)\n",
        "W2 = torch.tensor(np.random.normal(0, 0.01, size=(num_hiddens1, num_hiddens2)), dtype=torch.float, requires_grad=True)\n",
        "b2 = torch.zeros(num_hiddens2, requires_grad=True)\n",
        "W3 = torch.tensor(np.random.normal(0, 0.01, size=(num_hiddens2, num_outputs)), dtype=torch.float, requires_grad=True)\n",
        "b3 = torch.zeros(num_outputs, requires_grad=True)\n",
        "\n",
        "params = [W1, b1, W2, b2, W3, b3]"
      ],
      "execution_count": 0,
      "outputs": []
    },
    {
      "cell_type": "code",
      "metadata": {
        "graffitiCellId": "id_d24i59y",
        "jupyter": {},
        "tags": [],
        "id": "C3C7D8DC21FA471AA4AF11DFAC41D7E5",
        "scrolled": false,
        "colab_type": "code",
        "colab": {}
      },
      "source": [
        "drop_prob1, drop_prob2 = 0.2, 0.5\n",
        "\n",
        "def net(X, is_training=True):\n",
        "    X = X.view(-1, num_inputs)\n",
        "    H1 = (torch.matmul(X, W1) + b1).relu()\n",
        "    if is_training:  # 只在训练模型时使用丢弃法\n",
        "        H1 = dropout(H1, drop_prob1)  # 在第一层全连接后添加丢弃层\n",
        "    H2 = (torch.matmul(H1, W2) + b2).relu()\n",
        "    if is_training:\n",
        "        H2 = dropout(H2, drop_prob2)  # 在第二层全连接后添加丢弃层\n",
        "    return torch.matmul(H2, W3) + b3"
      ],
      "execution_count": 0,
      "outputs": []
    },
    {
      "cell_type": "code",
      "metadata": {
        "graffitiCellId": "id_ticmy78",
        "jupyter": {},
        "tags": [],
        "id": "73C1F705FAA14F4390B8D24CCF9E5673",
        "scrolled": false,
        "colab_type": "code",
        "colab": {}
      },
      "source": [
        "def evaluate_accuracy(data_iter, net):\n",
        "    acc_sum, n = 0.0, 0\n",
        "    for X, y in data_iter:\n",
        "        if isinstance(net, torch.nn.Module):\n",
        "            net.eval() # 评估模式, 这会关闭dropout\n",
        "            acc_sum += (net(X).argmax(dim=1) == y).float().sum().item()\n",
        "            net.train() # 改回训练模式\n",
        "        else: # 自定义的模型\n",
        "            if('is_training' in net.__code__.co_varnames): # 如果有is_training这个参数\n",
        "                # 将is_training设置成False\n",
        "                acc_sum += (net(X, is_training=False).argmax(dim=1) == y).float().sum().item() \n",
        "            else:\n",
        "                acc_sum += (net(X).argmax(dim=1) == y).float().sum().item() \n",
        "        n += y.shape[0]\n",
        "    return acc_sum / n"
      ],
      "execution_count": 0,
      "outputs": []
    },
    {
      "cell_type": "code",
      "metadata": {
        "graffitiCellId": "id_ryzllq8",
        "jupyter": {},
        "tags": [],
        "id": "B493E72017B54831A80790EE0AA3DB2C",
        "scrolled": false,
        "colab_type": "code",
        "colab": {},
        "outputId": "88d2489f-45db-46bc-96d0-a29770bffe76"
      },
      "source": [
        "num_epochs, lr, batch_size = 5, 100.0, 256  # 这里的学习率设置的很大，原因与之前相同。\n",
        "loss = torch.nn.CrossEntropyLoss()\n",
        "train_iter, test_iter = d2l.load_data_fashion_mnist(batch_size, root='/home/kesci/input/FashionMNIST2065')\n",
        "d2l.train_ch3(\n",
        "    net,\n",
        "    train_iter,\n",
        "    test_iter,\n",
        "    loss,\n",
        "    num_epochs,\n",
        "    batch_size,\n",
        "    params,\n",
        "    lr)\n"
      ],
      "execution_count": 0,
      "outputs": [
        {
          "output_type": "stream",
          "text": [
            "epoch 1, loss 0.0046, train acc 0.549, test acc 0.704\n",
            "epoch 2, loss 0.0023, train acc 0.785, test acc 0.737\n",
            "epoch 3, loss 0.0019, train acc 0.825, test acc 0.834\n",
            "epoch 4, loss 0.0017, train acc 0.842, test acc 0.763\n",
            "epoch 5, loss 0.0016, train acc 0.848, test acc 0.813\n"
          ],
          "name": "stdout"
        }
      ]
    },
    {
      "cell_type": "code",
      "metadata": {
        "graffitiCellId": "id_t8mnig0",
        "jupyter": {},
        "tags": [],
        "id": "28E345EC41EB48D8876B6A15A3E18FBD",
        "scrolled": false,
        "colab_type": "code",
        "colab": {}
      },
      "source": [
        "net = nn.Sequential(\n",
        "        d2l.FlattenLayer(),\n",
        "        nn.Linear(num_inputs, num_hiddens1),\n",
        "        nn.ReLU(),\n",
        "        nn.Dropout(drop_prob1),\n",
        "        nn.Linear(num_hiddens1, num_hiddens2), \n",
        "        nn.ReLU(),\n",
        "        nn.Dropout(drop_prob2),\n",
        "        nn.Linear(num_hiddens2, 10)\n",
        "        )\n",
        "\n",
        "for param in net.parameters():\n",
        "    nn.init.normal_(param, mean=0, std=0.01)"
      ],
      "execution_count": 0,
      "outputs": []
    },
    {
      "cell_type": "code",
      "metadata": {
        "graffitiCellId": "id_iba0hj1",
        "jupyter": {},
        "tags": [],
        "id": "2EDA1430541148BB863DC9071ED92323",
        "scrolled": false,
        "colab_type": "code",
        "colab": {},
        "outputId": "5b3e466f-989a-4497-fa3c-920527edc25b"
      },
      "source": [
        "optimizer = torch.optim.SGD(net.parameters(), lr=0.5)\n",
        "d2l.train_ch3(net, train_iter, test_iter, loss, num_epochs, batch_size, None, None, optimizer)"
      ],
      "execution_count": 0,
      "outputs": [
        {
          "output_type": "stream",
          "text": [
            "epoch 1, loss 0.0046, train acc 0.553, test acc 0.736\n",
            "epoch 2, loss 0.0023, train acc 0.785, test acc 0.803\n",
            "epoch 3, loss 0.0019, train acc 0.818, test acc 0.756\n",
            "epoch 4, loss 0.0018, train acc 0.835, test acc 0.829\n",
            "epoch 5, loss 0.0016, train acc 0.848, test acc 0.851\n"
          ],
          "name": "stdout"
        }
      ]
    }
  ]
}