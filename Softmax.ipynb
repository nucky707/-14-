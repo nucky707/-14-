{
  "nbformat": 4,
  "nbformat_minor": 0,
  "metadata": {
    "kernelspec": {
      "name": "python3",
      "display_name": "Python 3",
      "language": "python"
    },
    "language_info": {
      "name": "python",
      "version": "3.7.3",
      "mimetype": "text/x-python",
      "codemirror_mode": {
        "name": "ipython",
        "version": 3
      },
      "pygments_lexer": "ipython3",
      "nbconvert_exporter": "python",
      "file_extension": ".py"
    },
    "colab": {
      "name": "Softmax.ipynb",
      "provenance": []
    }
  },
  "cells": [
    {
      "cell_type": "code",
      "metadata": {
        "_cell_guid": "79c7e3d0-c299-4dcb-8224-4455121ee9b0",
        "_uuid": "d629ff2d2480ee46fbb7e2d37f6b5fab8052498a",
        "graffitiCellId": "id_my8ejol",
        "jupyter": {},
        "tags": [],
        "id": "9C804F2DABDA482BB4375CB0D36E011D",
        "scrolled": false,
        "colab_type": "code",
        "colab": {},
        "outputId": "a5ad72f0-7e64-449f-eab8-726034c37b36"
      },
      "source": [
        "# import needed package\n",
        "%matplotlib inline\n",
        "!pip install torchtext\n",
        "from IPython import display\n",
        "import matplotlib.pyplot as plt\n",
        "\n",
        "import torch\n",
        "import torchvision\n",
        "import torchvision.transforms as transforms\n",
        "import time\n",
        "\n",
        "import sys\n",
        "sys.path.append(\"/home/kesci/input\")\n",
        "import d2lzh1981 as d2l\n",
        "\n",
        "print(torch.__version__)\n",
        "print(torchvision.__version__)"
      ],
      "execution_count": 0,
      "outputs": [
        {
          "output_type": "stream",
          "text": [
            "\u001b[33mWARNING: The directory '/home/jovyan/.cache/pip/http' or its parent directory is not owned by the current user and the cache has been disabled. Please check the permissions and owner of that directory. If executing pip with sudo, you may want sudo's -H flag.\u001b[0m\n",
            "\u001b[33mWARNING: The directory '/home/jovyan/.cache/pip' or its parent directory is not owned by the current user and caching wheels has been disabled. check the permissions and owner of that directory. If executing pip with sudo, you may want sudo's -H flag.\u001b[0m\n",
            "Requirement already satisfied: torchtext in /opt/conda/lib/python3.7/site-packages (0.5.0)\n",
            "Requirement already satisfied: numpy in /opt/conda/lib/python3.7/site-packages (from torchtext) (1.17.2)\n",
            "Requirement already satisfied: tqdm in /opt/conda/lib/python3.7/site-packages (from torchtext) (4.32.2)\n",
            "Requirement already satisfied: six in /opt/conda/lib/python3.7/site-packages (from torchtext) (1.12.0)\n",
            "Requirement already satisfied: sentencepiece in /opt/conda/lib/python3.7/site-packages (from torchtext) (0.1.85)\n",
            "Requirement already satisfied: requests in /opt/conda/lib/python3.7/site-packages (from torchtext) (2.22.0)\n",
            "Requirement already satisfied: torch in /opt/conda/lib/python3.7/site-packages (from torchtext) (1.3.0)\n",
            "Requirement already satisfied: idna<2.9,>=2.5 in /opt/conda/lib/python3.7/site-packages (from requests->torchtext) (2.8)\n",
            "Requirement already satisfied: urllib3!=1.25.0,!=1.25.1,<1.26,>=1.21.1 in /opt/conda/lib/python3.7/site-packages (from requests->torchtext) (1.25.3)\n",
            "Requirement already satisfied: certifi>=2017.4.17 in /opt/conda/lib/python3.7/site-packages (from requests->torchtext) (2019.9.11)\n",
            "Requirement already satisfied: chardet<3.1.0,>=3.0.2 in /opt/conda/lib/python3.7/site-packages (from requests->torchtext) (3.0.4)\n",
            "1.3.0\n",
            "0.4.1a0+d94043a\n"
          ],
          "name": "stdout"
        }
      ]
    },
    {
      "cell_type": "code",
      "metadata": {
        "graffitiCellId": "id_no4tgy0",
        "jupyter": {},
        "tags": [],
        "id": "6FF62DC73B1D46128E613FC7DFFB3C3C",
        "scrolled": false,
        "colab_type": "code",
        "colab": {}
      },
      "source": [
        "mnist_train = torchvision.datasets.FashionMNIST(root='/home/kesci/input/FashionMNIST2065', train=True, download=True, transform=transforms.ToTensor())\n",
        "mnist_test = torchvision.datasets.FashionMNIST(root='/home/kesci/input/FashionMNIST2065', train=False, download=True, transform=transforms.ToTensor())"
      ],
      "execution_count": 0,
      "outputs": []
    },
    {
      "cell_type": "code",
      "metadata": {
        "graffitiCellId": "id_d4dkkil",
        "jupyter": {},
        "tags": [],
        "id": "B4B6EB3C4CF74C1D8034A9A349870804",
        "scrolled": false,
        "colab_type": "code",
        "colab": {},
        "outputId": "627d64e5-fd4b-4369-e824-03a1cc93d1da"
      },
      "source": [
        "# show result \n",
        "print(type(mnist_train))\n",
        "print(len(mnist_train), len(mnist_test))"
      ],
      "execution_count": 0,
      "outputs": [
        {
          "output_type": "stream",
          "text": [
            "<class 'torchvision.datasets.mnist.FashionMNIST'>\n",
            "60000 10000\n"
          ],
          "name": "stdout"
        }
      ]
    },
    {
      "cell_type": "code",
      "metadata": {
        "graffitiCellId": "id_2dk2d0m",
        "jupyter": {},
        "tags": [],
        "id": "C72CDF6B5BA64F36AAB028CFCB1242C9",
        "scrolled": false,
        "colab_type": "code",
        "colab": {},
        "outputId": "a98f5368-8e30-46c0-d3f4-56813080a6f9"
      },
      "source": [
        "mnist_PIL = torchvision.datasets.FashionMNIST(root='/home/kesci/input/FashionMNIST2065', train=True, download=True)\n",
        "PIL_feature, label = mnist_PIL[0]\n",
        "print(PIL_feature)"
      ],
      "execution_count": 0,
      "outputs": [
        {
          "output_type": "stream",
          "text": [
            "<PIL.Image.Image image mode=L size=28x28 at 0x7F91B25CAC88>\n"
          ],
          "name": "stdout"
        }
      ]
    },
    {
      "cell_type": "code",
      "metadata": {
        "graffitiCellId": "id_pku7gp5",
        "jupyter": {},
        "tags": [],
        "id": "B7454582B1484EE4B227BF145B0ED3BA",
        "scrolled": false,
        "colab_type": "code",
        "colab": {}
      },
      "source": [
        "def get_fashion_mnist_labels(labels):\n",
        "    text_labels = ['t-shirt', 'trouser', 'pullover', 'dress', 'coat',\n",
        "                   'sandal', 'shirt', 'sneaker', 'bag', 'ankle boot']\n",
        "    return [text_labels[int(i)] for i in labels]"
      ],
      "execution_count": 0,
      "outputs": []
    },
    {
      "cell_type": "code",
      "metadata": {
        "graffitiCellId": "id_1x2gagm",
        "jupyter": {},
        "tags": [],
        "id": "D241CBCCD1CD47F28B9480080B93D4FD",
        "scrolled": false,
        "colab_type": "code",
        "colab": {}
      },
      "source": [
        "def show_fashion_mnist(images, labels):\n",
        "    d2l.use_svg_display()\n",
        "    _, figs = plt.subplots(1, len(images), figsize=(12, 12))\n",
        "    for f, img, lbl in zip(figs, images, labels):\n",
        "        f.imshow(img.view((28, 28)).numpy())\n",
        "        f.set_title(lbl)\n",
        "        f.axes.get_xaxis().set_visible(False)\n",
        "        f.axes.get_yaxis().set_visible(False)\n",
        "    plt.show()"
      ],
      "execution_count": 0,
      "outputs": []
    },
    {
      "cell_type": "code",
      "metadata": {
        "graffitiCellId": "id_us9fuso",
        "jupyter": {},
        "tags": [],
        "id": "056F457B00454FFD81A3CB6AD966C508",
        "scrolled": false,
        "colab_type": "code",
        "colab": {},
        "outputId": "651a8ec3-7e89-4ee4-f04c-acda0a45d52c"
      },
      "source": [
        "X, y = [], []\n",
        "for i in range(10):\n",
        "    X.append(mnist_train[i][0]) \n",
        "    y.append(mnist_train[i][1]) \n",
        "show_fashion_mnist(X, get_fashion_mnist_labels(y))"
      ],
      "execution_count": 0,
      "outputs": [
        {
          "output_type": "display_data",
          "data": {
            "text/plain": [
              "<Figure size 864x864 with 10 Axes>"
            ],
            "text/html": [
              "<img src=\"https://cdn.kesci.com/rt_upload/056F457B00454FFD81A3CB6AD966C508/q5kkh46prg.svg\">"
            ]
          },
          "metadata": {
            "tags": [],
            "needs_background": "light"
          }
        }
      ]
    },
    {
      "cell_type": "code",
      "metadata": {
        "graffitiCellId": "id_uy1hu22",
        "jupyter": {},
        "tags": [],
        "id": "34AD2BCBAD9149428E1C29B6F5530BAC",
        "scrolled": false,
        "colab_type": "code",
        "colab": {}
      },
      "source": [
        "batch_size = 256\n",
        "num_workers = 4\n",
        "train_iter = torch.utils.data.DataLoader(mnist_train, batch_size=batch_size, shuffle=True, num_workers=num_workers)\n",
        "test_iter = torch.utils.data.DataLoader(mnist_test, batch_size=batch_size, shuffle=False, num_workers=num_workers)"
      ],
      "execution_count": 0,
      "outputs": []
    },
    {
      "cell_type": "code",
      "metadata": {
        "graffitiCellId": "id_2vdyxtx",
        "jupyter": {},
        "tags": [],
        "id": "2A439C938A5B43449F0160F5DACB4759",
        "scrolled": false,
        "colab_type": "code",
        "colab": {},
        "outputId": "5aab7cee-f13b-4740-a75f-a7edf4ebeb86"
      },
      "source": [
        "start = time.time()\n",
        "for X, y in train_iter:\n",
        "    continue\n",
        "print('%.2f sec' % (time.time() - start))"
      ],
      "execution_count": 0,
      "outputs": [
        {
          "output_type": "stream",
          "text": [
            "4.72 sec\n"
          ],
          "name": "stdout"
        }
      ]
    },
    {
      "cell_type": "code",
      "metadata": {
        "graffitiCellId": "id_c0aor6l",
        "jupyter": {},
        "tags": [],
        "id": "C47E4519B73C46558F23670B6C6D2CF4",
        "scrolled": false,
        "colab_type": "code",
        "colab": {},
        "outputId": "b1ade61b-2a52-4a9e-f1f1-18ab93cbf1fb"
      },
      "source": [
        "import torch\n",
        "import torchvision\n",
        "import numpy as np\n",
        "import sys\n",
        "sys.path.append(\"/home/kesci/input\")\n",
        "import d2lzh1981 as d2l\n",
        "\n",
        "print(torch.__version__)\n",
        "print(torchvision.__version__)"
      ],
      "execution_count": 0,
      "outputs": [
        {
          "output_type": "stream",
          "text": [
            "1.3.0\n",
            "0.4.1a0+d94043a\n"
          ],
          "name": "stdout"
        }
      ]
    },
    {
      "cell_type": "code",
      "metadata": {
        "graffitiCellId": "id_xcafpiw",
        "jupyter": {},
        "tags": [],
        "id": "FD4BCCEF1A044DF99791FB17D8134B6A",
        "scrolled": false,
        "colab_type": "code",
        "colab": {},
        "outputId": "d2eb9492-1ab8-48da-f952-baefcb26a8b4"
      },
      "source": [
        "num_inputs = 784\n",
        "print(28*28)\n",
        "num_outputs = 10\n",
        "\n",
        "W = torch.tensor(np.random.normal(0, 0.01, (num_inputs, num_outputs)), dtype=torch.float)\n",
        "b = torch.zeros(num_outputs, dtype=torch.float)"
      ],
      "execution_count": 0,
      "outputs": [
        {
          "output_type": "stream",
          "text": [
            "784\n"
          ],
          "name": "stdout"
        }
      ]
    },
    {
      "cell_type": "code",
      "metadata": {
        "graffitiCellId": "id_1ow0q3n",
        "jupyter": {},
        "tags": [],
        "id": "D5372FA087BA4BAF87E940582444FB2D",
        "scrolled": false,
        "colab_type": "code",
        "colab": {},
        "outputId": "f21def72-4612-4dcd-a0b0-893892499de1"
      },
      "source": [
        "W.requires_grad_(requires_grad=True)\n",
        "b.requires_grad_(requires_grad=True)"
      ],
      "execution_count": 0,
      "outputs": [
        {
          "output_type": "execute_result",
          "data": {
            "text/plain": [
              "tensor([0., 0., 0., 0., 0., 0., 0., 0., 0., 0.], requires_grad=True)"
            ]
          },
          "metadata": {
            "tags": []
          },
          "execution_count": 46
        }
      ]
    },
    {
      "cell_type": "code",
      "metadata": {
        "graffitiCellId": "id_s0m2c8a",
        "jupyter": {},
        "tags": [],
        "id": "94B0411C93ED4E6C83B5545D9339E395",
        "scrolled": false,
        "colab_type": "code",
        "colab": {},
        "outputId": "5bc95e6d-9cfe-461a-881c-add9943dc720"
      },
      "source": [
        "import torch\n",
        "from torch import nn\n",
        "from torch.nn import init\n",
        "import numpy as np\n",
        "import sys\n",
        "sys.path.append(\"/home/kesci/input\")\n",
        "import d2lzh1981 as d2l\n",
        "\n",
        "print(torch.__version__)"
      ],
      "execution_count": 0,
      "outputs": [
        {
          "output_type": "stream",
          "text": [
            "1.3.0\n"
          ],
          "name": "stdout"
        }
      ]
    },
    {
      "cell_type": "code",
      "metadata": {
        "graffitiCellId": "id_3ra54mv",
        "jupyter": {},
        "tags": [],
        "id": "08E33ED9A5684635874D11BFC0B488C6",
        "scrolled": false,
        "colab_type": "code",
        "colab": {}
      },
      "source": [
        "batch_size = 256\n",
        "train_iter, test_iter = d2l.load_data_fashion_mnist(batch_size, root='/home/kesci/input/FashionMNIST2065')"
      ],
      "execution_count": 0,
      "outputs": []
    },
    {
      "cell_type": "code",
      "metadata": {
        "graffitiCellId": "id_1s76ktf",
        "jupyter": {},
        "tags": [],
        "id": "01609B4BD2B444588B2C33751B48B9B0",
        "scrolled": false,
        "colab_type": "code",
        "colab": {}
      },
      "source": [
        "num_inputs = 784\n",
        "num_outputs = 10\n",
        "\n",
        "class LinearNet(nn.Module):\n",
        "    def __init__(self, num_inputs, num_outputs):\n",
        "        super(LinearNet, self).__init__()\n",
        "        self.linear = nn.Linear(num_inputs, num_outputs)\n",
        "    def forward(self, x): # x 的形状: (batch, 1, 28, 28)\n",
        "        y = self.linear(x.view(x.shape[0], -1))\n",
        "        return y\n",
        "    \n",
        "# net = LinearNet(num_inputs, num_outputs)\n",
        "\n",
        "class FlattenLayer(nn.Module):\n",
        "    def __init__(self):\n",
        "        super(FlattenLayer, self).__init__()\n",
        "    def forward(self, x): # x 的形状: (batch, *, *, ...)\n",
        "        return x.view(x.shape[0], -1)\n",
        "\n",
        "from collections import OrderedDict\n",
        "net = nn.Sequential(\n",
        "        # FlattenLayer(),\n",
        "        # LinearNet(num_inputs, num_outputs) \n",
        "        OrderedDict([\n",
        "           ('flatten', FlattenLayer()),\n",
        "           ('linear', nn.Linear(num_inputs, num_outputs))]) # 或者写成我们自己定义的 LinearNet(num_inputs, num_outputs) 也可以\n",
        "        )"
      ],
      "execution_count": 0,
      "outputs": []
    },
    {
      "cell_type": "code",
      "metadata": {
        "graffitiCellId": "id_id7oqtn",
        "jupyter": {},
        "tags": [],
        "id": "444F87CD78CC4DCE9E76E56B9D096E48",
        "scrolled": false,
        "colab_type": "code",
        "colab": {},
        "outputId": "ab8cbd75-2646-4c04-f3e5-82ca756cc557"
      },
      "source": [
        "init.normal_(net.linear.weight, mean=0, std=0.01)\n",
        "init.constant_(net.linear.bias, val=0)"
      ],
      "execution_count": 0,
      "outputs": [
        {
          "output_type": "execute_result",
          "data": {
            "text/plain": [
              "Parameter containing:\n",
              "tensor([0., 0., 0., 0., 0., 0., 0., 0., 0., 0.], requires_grad=True)"
            ]
          },
          "metadata": {
            "tags": []
          },
          "execution_count": 62
        }
      ]
    },
    {
      "cell_type": "code",
      "metadata": {
        "graffitiCellId": "id_knh2n50",
        "jupyter": {},
        "tags": [],
        "id": "EFA9FA88D866458F913194664286D8AB",
        "scrolled": false,
        "colab_type": "code",
        "colab": {}
      },
      "source": [
        "loss = nn.CrossEntropyLoss() \n",
        "# class torch.nn.CrossEntropyLoss(weight=None, size_average=None, ignore_index=-100, reduce=None, reduction='mean')"
      ],
      "execution_count": 0,
      "outputs": []
    },
    {
      "cell_type": "code",
      "metadata": {
        "graffitiCellId": "id_6l357pq",
        "jupyter": {},
        "tags": [],
        "id": "7DF366DFD7D349B59B0CA9D3211EB140",
        "scrolled": false,
        "colab_type": "code",
        "colab": {}
      },
      "source": [
        "optimizer = torch.optim.SGD(net.parameters(), lr=0.1) # 下面是函数原型\n",
        "# class torch.optim.SGD(params, lr=, momentum=0, dampening=0, weight_decay=0, nesterov=False)"
      ],
      "execution_count": 0,
      "outputs": []
    },
    {
      "cell_type": "code",
      "metadata": {
        "graffitiCellId": "id_0puuqtc",
        "jupyter": {},
        "tags": [],
        "id": "A49C9427C0E14DB9914E8970D98C422B",
        "scrolled": false,
        "colab_type": "code",
        "colab": {}
      },
      "source": [
        "num_epochs = 5\n",
        "d2l.train_ch3(net, train_iter, test_iter, loss, num_epochs, batch_size, None, None, optimizer)"
      ],
      "execution_count": 0,
      "outputs": []
    },
    {
      "cell_type": "code",
      "metadata": {
        "id": "E22850536592451FB68A5C86251B0062",
        "jupyter": {},
        "tags": [],
        "colab_type": "code",
        "colab": {}
      },
      "source": [
        ""
      ],
      "execution_count": 0,
      "outputs": []
    }
  ]
}