{
  "nbformat": 4,
  "nbformat_minor": 0,
  "metadata": {
    "kernelspec": {
      "name": "python3",
      "display_name": "Python 3",
      "language": "python"
    },
    "language_info": {
      "name": "python",
      "version": "3.7.3",
      "mimetype": "text/x-python",
      "codemirror_mode": {
        "name": "ipython",
        "version": 3
      },
      "pygments_lexer": "ipython3",
      "nbconvert_exporter": "python",
      "file_extension": ".py"
    },
    "colab": {
      "name": "Recurrent neural network.ipynb",
      "provenance": []
    }
  },
  "cells": [
    {
      "cell_type": "code",
      "metadata": {
        "graffitiCellId": "id_vljucfa",
        "jupyter": {},
        "tags": [],
        "id": "0A8DFF6F37CA40C1B87AAF9D0D361497",
        "scrolled": false,
        "colab_type": "code",
        "colab": {},
        "outputId": "43126b07-2c16-43da-964a-92cf73f87675"
      },
      "source": [
        "def one_hot(x, n_class, dtype=torch.float32):\n",
        "    result = torch.zeros(x.shape[0], n_class, dtype=dtype, device=x.device)  # shape: (n, n_class)\n",
        "    result.scatter_(1, x.long().view(-1, 1), 1)  # result[i, x[i, 0]] = 1\n",
        "    return result\n",
        "    \n",
        "x = torch.tensor([0, 2])\n",
        "x_one_hot = one_hot(x, vocab_size)\n",
        "print(x_one_hot)\n",
        "print(x_one_hot.shape)\n",
        "print(x_one_hot.sum(axis=1))"
      ],
      "execution_count": 0,
      "outputs": [
        {
          "output_type": "stream",
          "text": [
            "tensor([[1., 0., 0.,  ..., 0., 0., 0.],\n",
            "        [0., 0., 1.,  ..., 0., 0., 0.]])\n",
            "torch.Size([2, 1027])\n",
            "tensor([1., 1.])\n"
          ],
          "name": "stdout"
        }
      ]
    },
    {
      "cell_type": "code",
      "metadata": {
        "graffitiCellId": "id_961roi7",
        "jupyter": {},
        "tags": [],
        "id": "781B54CB28D741D9B8C2931ABD71F7F7",
        "scrolled": false,
        "colab_type": "code",
        "colab": {},
        "outputId": "f62358d3-eeeb-4a21-d073-49f8cec839a5"
      },
      "source": [
        "def to_onehot(X, n_class):\n",
        "    return [one_hot(X[:, i], n_class) for i in range(X.shape[1])]\n",
        "\n",
        "X = torch.arange(10).view(2, 5)\n",
        "inputs = to_onehot(X, vocab_size)\n",
        "print(len(inputs), inputs[0].shape)"
      ],
      "execution_count": 0,
      "outputs": [
        {
          "output_type": "stream",
          "text": [
            "5 torch.Size([2, 1027])\n"
          ],
          "name": "stdout"
        }
      ]
    },
    {
      "cell_type": "code",
      "metadata": {
        "graffitiCellId": "id_4667brq",
        "jupyter": {},
        "tags": [],
        "id": "C1F685ED1624479186E895EEECED6499",
        "scrolled": false,
        "colab_type": "code",
        "colab": {}
      },
      "source": [
        "num_inputs, num_hiddens, num_outputs = vocab_size, 256, vocab_size\n",
        "# num_inputs: d\n",
        "# num_hiddens: h, 隐藏单元的个数是超参数\n",
        "# num_outputs: q\n",
        "\n",
        "def get_params():\n",
        "    def _one(shape):\n",
        "        param = torch.zeros(shape, device=device, dtype=torch.float32)\n",
        "        nn.init.normal_(param, 0, 0.01)\n",
        "        return torch.nn.Parameter(param)\n",
        "\n",
        "    # 隐藏层参数\n",
        "    W_xh = _one((num_inputs, num_hiddens))\n",
        "    W_hh = _one((num_hiddens, num_hiddens))\n",
        "    b_h = torch.nn.Parameter(torch.zeros(num_hiddens, device=device))\n",
        "    # 输出层参数\n",
        "    W_hq = _one((num_hiddens, num_outputs))\n",
        "    b_q = torch.nn.Parameter(torch.zeros(num_outputs, device=device))\n",
        "    return (W_xh, W_hh, b_h, W_hq, b_q)"
      ],
      "execution_count": 0,
      "outputs": []
    },
    {
      "cell_type": "code",
      "metadata": {
        "graffitiCellId": "id_ffheq7o",
        "jupyter": {},
        "tags": [],
        "id": "E2C02FC273C543DE845D4CFD8F6B99EB",
        "scrolled": false,
        "colab_type": "code",
        "colab": {}
      },
      "source": [
        "def rnn(inputs, state, params):\n",
        "    # inputs和outputs皆为num_steps个形状为(batch_size, vocab_size)的矩阵\n",
        "    W_xh, W_hh, b_h, W_hq, b_q = params\n",
        "    H, = state\n",
        "    outputs = []\n",
        "    for X in inputs:\n",
        "        H = torch.tanh(torch.matmul(X, W_xh) + torch.matmul(H, W_hh) + b_h)\n",
        "        Y = torch.matmul(H, W_hq) + b_q\n",
        "        outputs.append(Y)\n",
        "    return outputs, (H,)"
      ],
      "execution_count": 0,
      "outputs": []
    },
    {
      "cell_type": "code",
      "metadata": {
        "graffitiCellId": "id_ogd1cln",
        "jupyter": {},
        "tags": [],
        "id": "79F6F77218D44C20A99A85D8CBD26DD3",
        "scrolled": false,
        "colab_type": "code",
        "colab": {}
      },
      "source": [
        "def init_rnn_state(batch_size, num_hiddens, device):\n",
        "    return (torch.zeros((batch_size, num_hiddens), device=device), )"
      ],
      "execution_count": 0,
      "outputs": []
    },
    {
      "cell_type": "code",
      "metadata": {
        "graffitiCellId": "id_5rof9df",
        "jupyter": {},
        "tags": [],
        "id": "DFFE1C2E29C9414A86EAB4D70A62A911",
        "scrolled": false,
        "colab_type": "code",
        "colab": {},
        "outputId": "3c95e851-1111-405c-9f17-2f3d6724c0b4"
      },
      "source": [
        "print(X.shape)\n",
        "print(num_hiddens)\n",
        "print(vocab_size)\n",
        "state = init_rnn_state(X.shape[0], num_hiddens, device)\n",
        "inputs = to_onehot(X.to(device), vocab_size)\n",
        "params = get_params()\n",
        "outputs, state_new = rnn(inputs, state, params)\n",
        "print(len(inputs), inputs[0].shape)\n",
        "print(len(outputs), outputs[0].shape)\n",
        "print(len(state), state[0].shape)\n",
        "print(len(state_new), state_new[0].shape)"
      ],
      "execution_count": 0,
      "outputs": [
        {
          "output_type": "stream",
          "text": [
            "torch.Size([2, 5])\n",
            "256\n",
            "1027\n",
            "5 torch.Size([2, 1027])\n",
            "5 torch.Size([2, 1027])\n",
            "1 torch.Size([2, 256])\n",
            "1 torch.Size([2, 256])\n"
          ],
          "name": "stdout"
        }
      ]
    },
    {
      "cell_type": "code",
      "metadata": {
        "graffitiCellId": "id_ddfzc4y",
        "jupyter": {},
        "tags": [],
        "id": "4845C2DF302D45B68317E8C65B9691C0",
        "scrolled": false,
        "colab_type": "code",
        "colab": {}
      },
      "source": [
        "def grad_clipping(params, theta, device):\n",
        "    norm = torch.tensor([0.0], device=device)\n",
        "    for param in params:\n",
        "        norm += (param.grad.data ** 2).sum()\n",
        "    norm = norm.sqrt().item()\n",
        "    if norm > theta:\n",
        "        for param in params:\n",
        "            param.grad.data *= (theta / norm)"
      ],
      "execution_count": 0,
      "outputs": []
    },
    {
      "cell_type": "code",
      "metadata": {
        "graffitiCellId": "id_e4mi857",
        "jupyter": {},
        "tags": [],
        "id": "228D7151704A45718C388511E8A0D1A6",
        "scrolled": false,
        "colab_type": "code",
        "colab": {}
      },
      "source": [
        "def predict_rnn(prefix, num_chars, rnn, params, init_rnn_state,\n",
        "                num_hiddens, vocab_size, device, idx_to_char, char_to_idx):\n",
        "    state = init_rnn_state(1, num_hiddens, device)\n",
        "    output = [char_to_idx[prefix[0]]]   # output记录prefix加上预测的num_chars个字符\n",
        "    for t in range(num_chars + len(prefix) - 1):\n",
        "        # 将上一时间步的输出作为当前时间步的输入\n",
        "        X = to_onehot(torch.tensor([[output[-1]]], device=device), vocab_size)\n",
        "        # 计算输出和更新隐藏状态\n",
        "        (Y, state) = rnn(X, state, params)\n",
        "        # 下一个时间步的输入是prefix里的字符或者当前的最佳预测字符\n",
        "        if t < len(prefix) - 1:\n",
        "            output.append(char_to_idx[prefix[t + 1]])\n",
        "        else:\n",
        "            output.append(Y[0].argmax(dim=1).item())\n",
        "    return ''.join([idx_to_char[i] for i in output])"
      ],
      "execution_count": 0,
      "outputs": []
    },
    {
      "cell_type": "markdown",
      "metadata": {
        "graffitiCellId": "id_157mdwx",
        "jupyter": {},
        "tags": [],
        "id": "5F877F47755642A299DF44270D5B7C54",
        "mdEditEnable": false,
        "colab_type": "text"
      },
      "source": [
        "我们先测试一下`predict_rnn`函数。我们将根据前缀“分开”创作长度为10个字符（不考虑前缀长度）的一段歌词。因为模型参数为随机值，所以预测结果也是随机的。"
      ]
    },
    {
      "cell_type": "code",
      "metadata": {
        "graffitiCellId": "id_slr2lmi",
        "jupyter": {},
        "tags": [],
        "id": "753869000A07429384C791FD3131BEF8",
        "scrolled": false,
        "colab_type": "code",
        "colab": {},
        "outputId": "f900e69b-383e-4107-f7ae-c64d01edd73d"
      },
      "source": [
        "predict_rnn('分开', 10, rnn, params, init_rnn_state, num_hiddens, vocab_size,\n",
        "            device, idx_to_char, char_to_idx)"
      ],
      "execution_count": 0,
      "outputs": [
        {
          "output_type": "execute_result",
          "data": {
            "text/plain": [
              "'分开濡时食提危踢拆田唱母'"
            ]
          },
          "metadata": {
            "tags": []
          },
          "execution_count": 10
        }
      ]
    },
    {
      "cell_type": "code",
      "metadata": {
        "graffitiCellId": "id_yzrgxwe",
        "jupyter": {},
        "tags": [],
        "id": "9FE06ACC79564A21B427C2AB90AC5BAA",
        "scrolled": false,
        "colab_type": "code",
        "colab": {}
      },
      "source": [
        "def train_and_predict_rnn(rnn, get_params, init_rnn_state, num_hiddens,\n",
        "                          vocab_size, device, corpus_indices, idx_to_char,\n",
        "                          char_to_idx, is_random_iter, num_epochs, num_steps,\n",
        "                          lr, clipping_theta, batch_size, pred_period,\n",
        "                          pred_len, prefixes):\n",
        "    if is_random_iter:\n",
        "        data_iter_fn = d2l.data_iter_random\n",
        "    else:\n",
        "        data_iter_fn = d2l.data_iter_consecutive\n",
        "    params = get_params()\n",
        "    loss = nn.CrossEntropyLoss()\n",
        "\n",
        "    for epoch in range(num_epochs):\n",
        "        if not is_random_iter:  # 如使用相邻采样，在epoch开始时初始化隐藏状态\n",
        "            state = init_rnn_state(batch_size, num_hiddens, device)\n",
        "        l_sum, n, start = 0.0, 0, time.time()\n",
        "        data_iter = data_iter_fn(corpus_indices, batch_size, num_steps, device)\n",
        "        for X, Y in data_iter:\n",
        "            if is_random_iter:  # 如使用随机采样，在每个小批量更新前初始化隐藏状态\n",
        "                state = init_rnn_state(batch_size, num_hiddens, device)\n",
        "            else:  # 否则需要使用detach函数从计算图分离隐藏状态\n",
        "                for s in state:\n",
        "                    s.detach_()\n",
        "            # inputs是num_steps个形状为(batch_size, vocab_size)的矩阵\n",
        "            inputs = to_onehot(X, vocab_size)\n",
        "            # outputs有num_steps个形状为(batch_size, vocab_size)的矩阵\n",
        "            (outputs, state) = rnn(inputs, state, params)\n",
        "            # 拼接之后形状为(num_steps * batch_size, vocab_size)\n",
        "            outputs = torch.cat(outputs, dim=0)\n",
        "            # Y的形状是(batch_size, num_steps)，转置后再变成形状为\n",
        "            # (num_steps * batch_size,)的向量，这样跟输出的行一一对应\n",
        "            y = torch.flatten(Y.T)\n",
        "            # 使用交叉熵损失计算平均分类误差\n",
        "            l = loss(outputs, y.long())\n",
        "            \n",
        "            # 梯度清0\n",
        "            if params[0].grad is not None:\n",
        "                for param in params:\n",
        "                    param.grad.data.zero_()\n",
        "            l.backward()\n",
        "            grad_clipping(params, clipping_theta, device)  # 裁剪梯度\n",
        "            d2l.sgd(params, lr, 1)  # 因为误差已经取过均值，梯度不用再做平均\n",
        "            l_sum += l.item() * y.shape[0]\n",
        "            n += y.shape[0]\n",
        "\n",
        "        if (epoch + 1) % pred_period == 0:\n",
        "            print('epoch %d, perplexity %f, time %.2f sec' % (\n",
        "                epoch + 1, math.exp(l_sum / n), time.time() - start))\n",
        "            for prefix in prefixes:\n",
        "                print(' -', predict_rnn(prefix, pred_len, rnn, params, init_rnn_state,\n",
        "                    num_hiddens, vocab_size, device, idx_to_char, char_to_idx))"
      ],
      "execution_count": 0,
      "outputs": []
    },
    {
      "cell_type": "code",
      "metadata": {
        "graffitiCellId": "id_r49e5nv",
        "jupyter": {},
        "tags": [],
        "id": "528CB0DB2860481C8C803D377E5B5C89",
        "scrolled": false,
        "colab_type": "code",
        "colab": {}
      },
      "source": [
        "num_epochs, num_steps, batch_size, lr, clipping_theta = 250, 35, 32, 1e2, 1e-2\n",
        "pred_period, pred_len, prefixes = 50, 50, ['分开', '不分开']"
      ],
      "execution_count": 0,
      "outputs": []
    },
    {
      "cell_type": "code",
      "metadata": {
        "graffitiCellId": "id_xnnajux",
        "jupyter": {},
        "tags": [],
        "id": "B020BFA4A5A442D285BB1A7FC65BEA2E",
        "scrolled": false,
        "colab_type": "code",
        "colab": {},
        "outputId": "9d921ef1-7c4d-441a-a2d4-5634f7e3fffd"
      },
      "source": [
        "train_and_predict_rnn(rnn, get_params, init_rnn_state, num_hiddens,\n",
        "                      vocab_size, device, corpus_indices, idx_to_char,\n",
        "                      char_to_idx, True, num_epochs, num_steps, lr,\n",
        "                      clipping_theta, batch_size, pred_period, pred_len,\n",
        "                      prefixes)"
      ],
      "execution_count": 0,
      "outputs": [
        {
          "output_type": "stream",
          "text": [
            "epoch 50, perplexity 65.808092, time 0.78 sec\n",
            " - 分开 我想要这样 我不要再想 我不要再想 我不要再想 我不要再想 我不要再想 我不要再想 我不要再想 我\n",
            " - 不分开 别颗去 一颗两 三颗四 一颗四 三颗四 一颗四 一颗四 一颗四 一颗四 一颗四 一颗四 一颗四 一\n",
            "epoch 100, perplexity 9.794889, time 0.72 sec\n",
            " - 分开 一直在美留 谁在它停 在小村外的溪边 默默等  什么 旧你在依旧 我有儿有些瘦 世色我遇见你是一场\n",
            " - 不分开吗 我不能再想 我不 我不 我不 我不 我不 我不 我不 我不 我不 我不 我不 我不 我不 我不 \n",
            "epoch 150, perplexity 2.772557, time 0.80 sec\n",
            " - 分开 有直在不妥 有话它停留 蜥蝪横怕落 不爽就 旧怪堂 是属于依 心故之 的片段 有一些风霜 老唱盘 \n",
            " - 不分开吗 然后将过不 我慢 失些  如  静里回的太快 想通 却又再考倒我 说散 你想很久了吧?的我 从等\n",
            "epoch 200, perplexity 1.601744, time 0.73 sec\n",
            " - 分开 那只都它满在我面妈 捏成你的形状啸而过 或愿说在后能 让梭时忆对着轻轻 我想就这样牵着你的手不放开\n",
            " - 不分开期 然后将过去 慢慢温习 让我爱上你 那场悲剧 是你完美演出的一场戏 宁愿心碎哭泣 再狠狠忘记 不是\n",
            "epoch 250, perplexity 1.323342, time 0.78 sec\n",
            " - 分开 出愿段的哭咒的天蛦丘好落 拜托当血穿永杨一定的诗篇 我给你的爱写在西元前 深埋在美索不达米亚平原 \n",
            " - 不分开扫把的胖女巫 用拉丁文念咒语啦啦呜 她养的黑猫笑起来像哭 啦啦啦呜 我来了我 在我感外的溪边河口默默\n"
          ],
          "name": "stdout"
        }
      ]
    },
    {
      "cell_type": "markdown",
      "metadata": {
        "graffitiCellId": "id_t650z1s",
        "jupyter": {},
        "tags": [],
        "id": "CC35E4A71367440F8EBB8C8F13F50677",
        "mdEditEnable": false,
        "colab_type": "text"
      },
      "source": [
        "接下来采用相邻采样训练模型并创作歌词。"
      ]
    },
    {
      "cell_type": "code",
      "metadata": {
        "graffitiCellId": "id_5cubvww",
        "jupyter": {},
        "tags": [],
        "id": "60A46F92EC144D4A81FFC0D73850D275",
        "scrolled": false,
        "colab_type": "code",
        "colab": {},
        "outputId": "c5909c95-c899-42ec-b041-6d4910b521f8"
      },
      "source": [
        "train_and_predict_rnn(rnn, get_params, init_rnn_state, num_hiddens,\n",
        "                      vocab_size, device, corpus_indices, idx_to_char,\n",
        "                      char_to_idx, False, num_epochs, num_steps, lr,\n",
        "                      clipping_theta, batch_size, pred_period, pred_len,\n",
        "                      prefixes)"
      ],
      "execution_count": 0,
      "outputs": [
        {
          "output_type": "stream",
          "text": [
            "epoch 50, perplexity 60.294393, time 0.74 sec\n",
            " - 分开 我想要你想 我不要再想 我不要再想 我不要再想 我不要再想 我不要再想 我不要再想 我不要再想 我\n",
            " - 不分开 我想要你 你有了 别不我的可爱女人 坏坏的让我疯狂的可爱女人 坏坏的让我疯狂的可爱女人 坏坏的让我\n",
            "epoch 100, perplexity 7.141162, time 0.72 sec\n",
            " - 分开 我已要再爱 我不要再想 我不 我不 我不要再想 我不 我不 我不要 爱情我的见快就像龙卷风 离能开\n",
            " - 不分开柳 你天黄一个棍 后知哈兮 快使用双截棍 哼哼哈兮 快使用双截棍 哼哼哈兮 快使用双截棍 哼哼哈兮 \n",
            "epoch 150, perplexity 2.090277, time 0.73 sec\n",
            " - 分开 我已要这是你在著 不想我都做得到 但那个人已经不是我 没有你在 我却多难熬  没有你在我有多难熬多\n",
            " - 不分开觉 你已经离 我想再好 这样心中 我一定带我 我的完空 不你是风 一一彩纵 在人心中 我一定带我妈走\n",
            "epoch 200, perplexity 1.305391, time 0.77 sec\n",
            " - 分开 我已要这样牵看你的手 它一定实现它一定像现 载著你 彷彿载著阳光 不管到你留都是晴天 蝴蝶自在飞力\n",
            " - 不分开觉 你已经离开我 不知不觉 我跟了这节奏 后知后觉 又过了一个秋 后知后觉 我该好好生活 我该好好生\n",
            "epoch 250, perplexity 1.230800, time 0.79 sec\n",
            " - 分开 我不要 是你看的太快了悲慢 担心今手身会大早 其么我也睡不着  昨晚梦里你来找 我才  原来我只想\n",
            " - 不分开觉 你在经离开我 不知不觉 你知了有节奏 后知后觉 后知了一个秋 后知后觉 我该好好生活 我该好好生\n"
          ],
          "name": "stdout"
        }
      ]
    },
    {
      "cell_type": "code",
      "metadata": {
        "graffitiCellId": "id_j3cpkcl",
        "jupyter": {},
        "tags": [],
        "id": "0299EF9E9126417B80153A137538E01E",
        "scrolled": false,
        "colab_type": "code",
        "colab": {},
        "outputId": "8b2e3b84-f02f-41c2-8230-a1a3ed354c11"
      },
      "source": [
        "rnn_layer = nn.RNN(input_size=vocab_size, hidden_size=num_hiddens)\n",
        "num_steps, batch_size = 35, 2\n",
        "X = torch.rand(num_steps, batch_size, vocab_size)\n",
        "state = None\n",
        "Y, state_new = rnn_layer(X, state)\n",
        "print(Y.shape, state_new.shape)"
      ],
      "execution_count": 0,
      "outputs": [
        {
          "output_type": "stream",
          "text": [
            "torch.Size([35, 2, 256]) torch.Size([1, 2, 256])\n"
          ],
          "name": "stdout"
        }
      ]
    },
    {
      "cell_type": "code",
      "metadata": {
        "graffitiCellId": "id_syy2qdo",
        "jupyter": {},
        "tags": [],
        "id": "9B2540FE03B44485818E407213E44E82",
        "scrolled": false,
        "colab_type": "code",
        "colab": {}
      },
      "source": [
        "class RNNModel(nn.Module):\n",
        "    def __init__(self, rnn_layer, vocab_size):\n",
        "        super(RNNModel, self).__init__()\n",
        "        self.rnn = rnn_layer\n",
        "        self.hidden_size = rnn_layer.hidden_size * (2 if rnn_layer.bidirectional else 1) \n",
        "        self.vocab_size = vocab_size\n",
        "        self.dense = nn.Linear(self.hidden_size, vocab_size)\n",
        "\n",
        "    def forward(self, inputs, state):\n",
        "        # inputs.shape: (batch_size, num_steps)\n",
        "        X = to_onehot(inputs, vocab_size)\n",
        "        X = torch.stack(X)  # X.shape: (num_steps, batch_size, vocab_size)\n",
        "        hiddens, state = self.rnn(X, state)\n",
        "        hiddens = hiddens.view(-1, hiddens.shape[-1])  # hiddens.shape: (num_steps * batch_size, hidden_size)\n",
        "        output = self.dense(hiddens)\n",
        "        return output, state"
      ],
      "execution_count": 0,
      "outputs": []
    },
    {
      "cell_type": "code",
      "metadata": {
        "graffitiCellId": "id_dkebt7t",
        "jupyter": {},
        "tags": [],
        "id": "470CA7EEF6C2443980C3D327EB4BAD73",
        "scrolled": false,
        "colab_type": "code",
        "colab": {}
      },
      "source": [
        "def predict_rnn_pytorch(prefix, num_chars, model, vocab_size, device, idx_to_char,\n",
        "                      char_to_idx):\n",
        "    state = None\n",
        "    output = [char_to_idx[prefix[0]]]  # output记录prefix加上预测的num_chars个字符\n",
        "    for t in range(num_chars + len(prefix) - 1):\n",
        "        X = torch.tensor([output[-1]], device=device).view(1, 1)\n",
        "        (Y, state) = model(X, state)  # 前向计算不需要传入模型参数\n",
        "        if t < len(prefix) - 1:\n",
        "            output.append(char_to_idx[prefix[t + 1]])\n",
        "        else:\n",
        "            output.append(Y.argmax(dim=1).item())\n",
        "    return ''.join([idx_to_char[i] for i in output])"
      ],
      "execution_count": 0,
      "outputs": []
    },
    {
      "cell_type": "code",
      "metadata": {
        "graffitiCellId": "id_dovnvrc",
        "jupyter": {},
        "tags": [],
        "id": "7000F425557A4047A9D7B0BD446C4B48",
        "scrolled": false,
        "colab_type": "code",
        "colab": {},
        "outputId": "5066eedb-ba0d-4a47-a2dd-550819c4d145"
      },
      "source": [
        "model = RNNModel(rnn_layer, vocab_size).to(device)\n",
        "predict_rnn_pytorch('分开', 10, model, vocab_size, device, idx_to_char, char_to_idx)"
      ],
      "execution_count": 0,
      "outputs": [
        {
          "output_type": "execute_result",
          "data": {
            "text/plain": [
              "'分开胸呵以轮轮轮轮轮轮轮'"
            ]
          },
          "metadata": {
            "tags": []
          },
          "execution_count": 18
        }
      ]
    },
    {
      "cell_type": "code",
      "metadata": {
        "graffitiCellId": "id_kqdlzc9",
        "jupyter": {},
        "tags": [],
        "id": "C6B0157AB1964E14AD52BFC3B4E8ACCE",
        "scrolled": false,
        "colab_type": "code",
        "colab": {}
      },
      "source": [
        "def train_and_predict_rnn_pytorch(model, num_hiddens, vocab_size, device,\n",
        "                                corpus_indices, idx_to_char, char_to_idx,\n",
        "                                num_epochs, num_steps, lr, clipping_theta,\n",
        "                                batch_size, pred_period, pred_len, prefixes):\n",
        "    loss = nn.CrossEntropyLoss()\n",
        "    optimizer = torch.optim.Adam(model.parameters(), lr=lr)\n",
        "    model.to(device)\n",
        "    for epoch in range(num_epochs):\n",
        "        l_sum, n, start = 0.0, 0, time.time()\n",
        "        data_iter = d2l.data_iter_consecutive(corpus_indices, batch_size, num_steps, device) # 相邻采样\n",
        "        state = None\n",
        "        for X, Y in data_iter:\n",
        "            if state is not None:\n",
        "                # 使用detach函数从计算图分离隐藏状态\n",
        "                if isinstance (state, tuple): # LSTM, state:(h, c)  \n",
        "                    state[0].detach_()\n",
        "                    state[1].detach_()\n",
        "                else: \n",
        "                    state.detach_()\n",
        "            (output, state) = model(X, state) # output.shape: (num_steps * batch_size, vocab_size)\n",
        "            y = torch.flatten(Y.T)\n",
        "            l = loss(output, y.long())\n",
        "            \n",
        "            optimizer.zero_grad()\n",
        "            l.backward()\n",
        "            grad_clipping(model.parameters(), clipping_theta, device)\n",
        "            optimizer.step()\n",
        "            l_sum += l.item() * y.shape[0]\n",
        "            n += y.shape[0]\n",
        "        \n",
        "\n",
        "        if (epoch + 1) % pred_period == 0:\n",
        "            print('epoch %d, perplexity %f, time %.2f sec' % (\n",
        "                epoch + 1, math.exp(l_sum / n), time.time() - start))\n",
        "            for prefix in prefixes:\n",
        "                print(' -', predict_rnn_pytorch(\n",
        "                    prefix, pred_len, model, vocab_size, device, idx_to_char,\n",
        "                    char_to_idx))"
      ],
      "execution_count": 0,
      "outputs": []
    },
    {
      "cell_type": "markdown",
      "metadata": {
        "graffitiCellId": "id_0ejh2ag",
        "jupyter": {},
        "tags": [],
        "id": "E271EA2BA38045BF93AD1CD9484A3194",
        "mdEditEnable": false,
        "colab_type": "text"
      },
      "source": [
        "训练模型。"
      ]
    },
    {
      "cell_type": "code",
      "metadata": {
        "graffitiCellId": "id_kn2ynjc",
        "jupyter": {},
        "tags": [],
        "id": "1FC86D37312346418E960DE255315FC0",
        "scrolled": false,
        "colab_type": "code",
        "colab": {},
        "outputId": "476884ca-a92c-4b8d-eaae-af5f03e6ab39"
      },
      "source": [
        "num_epochs, batch_size, lr, clipping_theta = 250, 32, 1e-3, 1e-2\n",
        "pred_period, pred_len, prefixes = 50, 50, ['分开', '不分开']\n",
        "train_and_predict_rnn_pytorch(model, num_hiddens, vocab_size, device,\n",
        "                            corpus_indices, idx_to_char, char_to_idx,\n",
        "                            num_epochs, num_steps, lr, clipping_theta,\n",
        "                            batch_size, pred_period, pred_len, prefixes)"
      ],
      "execution_count": 0,
      "outputs": [
        {
          "output_type": "stream",
          "text": [
            "epoch 50, perplexity 9.405654, time 0.52 sec\n",
            " - 分开始一起 三步四步望著天 看星星 一颗两颗三颗四颗 连成线背著背默默许下心愿  一枝杨柳 你的那我 在\n",
            " - 不分开 爱情你的手 一人的老斑鸠 腿短毛不多 快使用双截棍 哼哼哈兮 快使用双截棍 哼哼哈兮 快使用双截棍\n",
            "epoch 100, perplexity 1.255020, time 0.54 sec\n",
            " - 分开 我人了的屋我 一定令它心仪的母斑鸠 爱像一阵风 吹完美主  这样 还人的太快就是学怕眼口让我碰恨这\n",
            " - 不分开不想我多的脑袋有问题 随便说说 其实我早已经猜透看透不想多说 只是我怕眼泪撑不住 不懂 你的黑色幽默\n",
            "epoch 150, perplexity 1.064527, time 0.53 sec\n",
            " - 分开 我轻外的溪边 默默在一心抽离 有话不知不觉 一场悲剧 我对不起 藤蔓植物的爬满了伯爵的坟墓 古堡里\n",
            " - 不分开不想不多的脑 有教堂有你笑 我有多烦恼  没有你烦 有有样 别怪走 快后悔没说你 我不多难熬 我想就\n",
            "epoch 200, perplexity 1.033074, time 0.53 sec\n",
            " - 分开 我轻外的溪边 默默在一心向昏 的愿  古无着我只能 一个黑远 这想太久 这样我 不要再是你打我妈妈\n",
            " - 不分开你只会我一起睡著 样 娘子却只想你和汉堡 我想要你的微笑每天都能看到  我知道这里很美但家乡的你更美\n",
            "epoch 250, perplexity 1.047890, time 0.68 sec\n",
            " - 分开 我轻多的漫 却已在你人演  想要再直你 我想要这样牵着你的手不放开 爱可不可以简简单单没有伤害 你\n",
            " - 不分开不想不多的假  已无能为力再提起 决定中断熟悉 然后在这里 不限日期 然后将过去 慢慢温习 让我爱上\n"
          ],
          "name": "stdout"
        }
      ]
    }
  ]
}