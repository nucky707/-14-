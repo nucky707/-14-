{
  "nbformat": 4,
  "nbformat_minor": 0,
  "metadata": {
    "kernelspec": {
      "name": "python3",
      "display_name": "Python 3",
      "language": "python"
    },
    "language_info": {
      "name": "python",
      "version": "3.7.3",
      "mimetype": "text/x-python",
      "codemirror_mode": {
        "name": "ipython",
        "version": 3
      },
      "pygments_lexer": "ipython3",
      "nbconvert_exporter": "python",
      "file_extension": ".py"
    },
    "colab": {
      "name": "ModernCNN.ipynb",
      "provenance": []
    }
  },
  "cells": [
    {
      "cell_type": "code",
      "metadata": {
        "jupyter": {},
        "tags": [],
        "id": "DD41B540CFAB491B9D43105C3D90647C",
        "scrolled": false,
        "colab_type": "code",
        "colab": {}
      },
      "source": [
        "#目前GPU算力资源预计17日上线，在此之前本代码只能使用CPU运行。\n",
        "#考虑到本代码中的模型过大，CPU训练较慢，\n",
        "#我们还将代码上传了一份到 https://www.kaggle.com/boyuai/boyu-d2l-modernconvolutionalnetwork\n",
        "#如希望提前使用gpu运行请至kaggle。\n",
        "\n",
        "\n",
        "import time\n",
        "import torch\n",
        "from torch import nn, optim\n",
        "import torchvision\n",
        "import numpy as np\n",
        "import sys\n",
        "sys.path.append(\"/home/kesci/input/\") \n",
        "import d2lzh1981 as d2l\n",
        "import os\n",
        "import torch.nn.functional as F\n",
        "\n",
        "device = torch.device('cuda' if torch.cuda.is_available() else 'cpu')\n",
        "\n",
        "class AlexNet(nn.Module):\n",
        "    def __init__(self):\n",
        "        super(AlexNet, self).__init__()\n",
        "        self.conv = nn.Sequential(\n",
        "            nn.Conv2d(1, 96, 11, 4), # in_channels, out_channels, kernel_size, stride, padding\n",
        "            nn.ReLU(),\n",
        "            nn.MaxPool2d(3, 2), # kernel_size, stride\n",
        "            # 减小卷积窗口，使用填充为2来使得输入与输出的高和宽一致，且增大输出通道数\n",
        "            nn.Conv2d(96, 256, 5, 1, 2),\n",
        "            nn.ReLU(),\n",
        "            nn.MaxPool2d(3, 2),\n",
        "            # 连续3个卷积层，且使用更小的卷积窗口。除了最后的卷积层外，进一步增大了输出通道数。\n",
        "            # 前两个卷积层后不使用池化层来减小输入的高和宽\n",
        "            nn.Conv2d(256, 384, 3, 1, 1),\n",
        "            nn.ReLU(),\n",
        "            nn.Conv2d(384, 384, 3, 1, 1),\n",
        "            nn.ReLU(),\n",
        "            nn.Conv2d(384, 256, 3, 1, 1),\n",
        "            nn.ReLU(),\n",
        "            nn.MaxPool2d(3, 2)\n",
        "        )\n",
        "         # 这里全连接层的输出个数比LeNet中的大数倍。使用丢弃层来缓解过拟合\n",
        "        self.fc = nn.Sequential(\n",
        "            nn.Linear(256*5*5, 4096),\n",
        "            nn.ReLU(),\n",
        "            nn.Dropout(0.5),\n",
        "            #由于使用CPU镜像，精简网络，若为GPU镜像可添加该层\n",
        "            #nn.Linear(4096, 4096),\n",
        "            #nn.ReLU(),\n",
        "            #nn.Dropout(0.5),\n",
        "\n",
        "            # 输出层。由于这里使用Fashion-MNIST，所以用类别数为10，而非论文中的1000\n",
        "            nn.Linear(4096, 10),\n",
        "        )\n",
        "\n",
        "    def forward(self, img):\n",
        "\n",
        "        feature = self.conv(img)\n",
        "        output = self.fc(feature.view(img.shape[0], -1))\n",
        "        return output"
      ],
      "execution_count": 0,
      "outputs": []
    },
    {
      "cell_type": "code",
      "metadata": {
        "jupyter": {},
        "tags": [],
        "id": "237401462039416F8B5874A7DA7FD9F2",
        "scrolled": false,
        "colab_type": "code",
        "colab": {},
        "outputId": "a7bdd21f-193b-475d-f595-3ba1457bf2aa"
      },
      "source": [
        "net = AlexNet()\n",
        "print(net)"
      ],
      "execution_count": 0,
      "outputs": [
        {
          "output_type": "stream",
          "text": [
            "AlexNet(\n",
            "  (conv): Sequential(\n",
            "    (0): Conv2d(1, 96, kernel_size=(11, 11), stride=(4, 4))\n",
            "    (1): ReLU()\n",
            "    (2): MaxPool2d(kernel_size=3, stride=2, padding=0, dilation=1, ceil_mode=False)\n",
            "    (3): Conv2d(96, 256, kernel_size=(5, 5), stride=(1, 1), padding=(2, 2))\n",
            "    (4): ReLU()\n",
            "    (5): MaxPool2d(kernel_size=3, stride=2, padding=0, dilation=1, ceil_mode=False)\n",
            "    (6): Conv2d(256, 384, kernel_size=(3, 3), stride=(1, 1), padding=(1, 1))\n",
            "    (7): ReLU()\n",
            "    (8): Conv2d(384, 384, kernel_size=(3, 3), stride=(1, 1), padding=(1, 1))\n",
            "    (9): ReLU()\n",
            "    (10): Conv2d(384, 256, kernel_size=(3, 3), stride=(1, 1), padding=(1, 1))\n",
            "    (11): ReLU()\n",
            "    (12): MaxPool2d(kernel_size=3, stride=2, padding=0, dilation=1, ceil_mode=False)\n",
            "  )\n",
            "  (fc): Sequential(\n",
            "    (0): Linear(in_features=6400, out_features=4096, bias=True)\n",
            "    (1): ReLU()\n",
            "    (2): Dropout(p=0.5, inplace=False)\n",
            "    (3): Linear(in_features=4096, out_features=10, bias=True)\n",
            "  )\n",
            ")\n"
          ],
          "name": "stdout"
        }
      ]
    },
    {
      "cell_type": "code",
      "metadata": {
        "jupyter": {},
        "tags": [],
        "id": "8994A770DF884A5D87F60737C50D0A1F",
        "scrolled": false,
        "colab_type": "code",
        "colab": {},
        "outputId": "97c7b890-505c-4df3-f2df-f883da696bf4"
      },
      "source": [
        "# 本函数已保存在d2lzh_pytorch包中方便以后使用\n",
        "def load_data_fashion_mnist(batch_size, resize=None, root='/home/kesci/input/FashionMNIST2065'):\n",
        "    \"\"\"Download the fashion mnist dataset and then load into memory.\"\"\"\n",
        "    trans = []\n",
        "    if resize:\n",
        "        trans.append(torchvision.transforms.Resize(size=resize))\n",
        "    trans.append(torchvision.transforms.ToTensor())\n",
        "    \n",
        "    transform = torchvision.transforms.Compose(trans)\n",
        "    mnist_train = torchvision.datasets.FashionMNIST(root=root, train=True, download=True, transform=transform)\n",
        "    mnist_test = torchvision.datasets.FashionMNIST(root=root, train=False, download=True, transform=transform)\n",
        "\n",
        "    train_iter = torch.utils.data.DataLoader(mnist_train, batch_size=batch_size, shuffle=True, num_workers=2)\n",
        "    test_iter = torch.utils.data.DataLoader(mnist_test, batch_size=batch_size, shuffle=False, num_workers=2)\n",
        "\n",
        "    return train_iter, test_iter\n",
        "\n",
        "#batchsize=128\n",
        "batch_size = 16\n",
        "# 如出现“out of memory”的报错信息，可减小batch_size或resize\n",
        "train_iter, test_iter = load_data_fashion_mnist(batch_size,224)\n",
        "for X, Y in train_iter:\n",
        "    print('X =', X.shape,\n",
        "        '\\nY =', Y.type(torch.int32))\n",
        "    break\n",
        "    "
      ],
      "execution_count": 0,
      "outputs": [
        {
          "output_type": "stream",
          "text": [
            "X = torch.Size([16, 1, 224, 224]) \n",
            "Y = tensor([5, 2, 9, 3, 1, 8, 3, 3, 2, 6, 1, 6, 2, 4, 4, 8], dtype=torch.int32)\n"
          ],
          "name": "stdout"
        }
      ]
    },
    {
      "cell_type": "code",
      "metadata": {
        "jupyter": {},
        "tags": [],
        "id": "FB33F7F4BEE1486187254524422FDF80",
        "colab_type": "code",
        "colab": {}
      },
      "source": [
        "lr, num_epochs = 0.001, 3\n",
        "optimizer = torch.optim.Adam(net.parameters(), lr=lr)\n",
        "d2l.train_ch5(net, train_iter, test_iter, batch_size, optimizer, device, num_epochs)"
      ],
      "execution_count": 0,
      "outputs": []
    },
    {
      "cell_type": "code",
      "metadata": {
        "jupyter": {},
        "tags": [],
        "id": "AA4AB087A263436B90B719085FEABC67",
        "scrolled": false,
        "colab_type": "code",
        "colab": {}
      },
      "source": [
        "\n",
        "def vgg_block(num_convs, in_channels, out_channels): #卷积层个数，输入通道数，输出通道数\n",
        "    blk = []\n",
        "    for i in range(num_convs):\n",
        "        if i == 0:\n",
        "            blk.append(nn.Conv2d(in_channels, out_channels, kernel_size=3, padding=1))\n",
        "        else:\n",
        "            blk.append(nn.Conv2d(out_channels, out_channels, kernel_size=3, padding=1))\n",
        "        blk.append(nn.ReLU())\n",
        "    blk.append(nn.MaxPool2d(kernel_size=2, stride=2)) # 这里会使宽高减半\n",
        "    return nn.Sequential(*blk)"
      ],
      "execution_count": 0,
      "outputs": []
    },
    {
      "cell_type": "code",
      "metadata": {
        "jupyter": {},
        "tags": [],
        "id": "3199FD641C1F417FA3C6B65784A20CF2",
        "scrolled": false,
        "colab_type": "code",
        "colab": {}
      },
      "source": [
        "conv_arch = ((1, 1, 64), (1, 64, 128), (2, 128, 256), (2, 256, 512), (2, 512, 512))\n",
        "# 经过5个vgg_block, 宽高会减半5次, 变成 224/32 = 7\n",
        "fc_features = 512 * 7 * 7 # c * w * h\n",
        "fc_hidden_units = 4096 # 任意"
      ],
      "execution_count": 0,
      "outputs": []
    },
    {
      "cell_type": "code",
      "metadata": {
        "jupyter": {},
        "tags": [],
        "id": "08AA6A69F80B4DAC8FA831C6E5C9260B",
        "scrolled": false,
        "colab_type": "code",
        "colab": {}
      },
      "source": [
        "def vgg(conv_arch, fc_features, fc_hidden_units=4096):\n",
        "    net = nn.Sequential()\n",
        "    # 卷积层部分\n",
        "    for i, (num_convs, in_channels, out_channels) in enumerate(conv_arch):\n",
        "        # 每经过一个vgg_block都会使宽高减半\n",
        "        net.add_module(\"vgg_block_\" + str(i+1), vgg_block(num_convs, in_channels, out_channels))\n",
        "    # 全连接层部分\n",
        "    net.add_module(\"fc\", nn.Sequential(d2l.FlattenLayer(),\n",
        "                                 nn.Linear(fc_features, fc_hidden_units),\n",
        "                                 nn.ReLU(),\n",
        "                                 nn.Dropout(0.5),\n",
        "                                 nn.Linear(fc_hidden_units, fc_hidden_units),\n",
        "                                 nn.ReLU(),\n",
        "                                 nn.Dropout(0.5),\n",
        "                                 nn.Linear(fc_hidden_units, 10)\n",
        "                                ))\n",
        "    return net"
      ],
      "execution_count": 0,
      "outputs": []
    },
    {
      "cell_type": "code",
      "metadata": {
        "jupyter": {},
        "tags": [],
        "id": "A5FDDE9D6C404D868E3AB5E1731043D9",
        "scrolled": false,
        "colab_type": "code",
        "colab": {},
        "outputId": "feff2435-75a9-499f-e10e-2837b612ef69"
      },
      "source": [
        "net = vgg(conv_arch, fc_features, fc_hidden_units)\n",
        "X = torch.rand(1, 1, 224, 224)\n",
        "\n",
        "# named_children获取一级子模块及其名字(named_modules会返回所有子模块,包括子模块的子模块)\n",
        "for name, blk in net.named_children(): \n",
        "    X = blk(X)\n",
        "    print(name, 'output shape: ', X.shape)"
      ],
      "execution_count": 0,
      "outputs": [
        {
          "output_type": "stream",
          "text": [
            "vgg_block_1 output shape:  torch.Size([1, 64, 112, 112])\n",
            "vgg_block_2 output shape:  torch.Size([1, 128, 56, 56])\n",
            "vgg_block_3 output shape:  torch.Size([1, 256, 28, 28])\n",
            "vgg_block_4 output shape:  torch.Size([1, 512, 14, 14])\n",
            "vgg_block_5 output shape:  torch.Size([1, 512, 7, 7])\n",
            "fc output shape:  torch.Size([1, 10])\n"
          ],
          "name": "stdout"
        }
      ]
    },
    {
      "cell_type": "code",
      "metadata": {
        "jupyter": {},
        "tags": [],
        "id": "40A6F9278D034D4A874189A1F8F52ABF",
        "scrolled": false,
        "colab_type": "code",
        "colab": {},
        "outputId": "f328ab21-a985-4fd4-ac63-a47ee1927bd1"
      },
      "source": [
        "ratio = 8\n",
        "small_conv_arch = [(1, 1, 64//ratio), (1, 64//ratio, 128//ratio), (2, 128//ratio, 256//ratio), \n",
        "                   (2, 256//ratio, 512//ratio), (2, 512//ratio, 512//ratio)]\n",
        "net = vgg(small_conv_arch, fc_features // ratio, fc_hidden_units // ratio)\n",
        "print(net)"
      ],
      "execution_count": 0,
      "outputs": [
        {
          "output_type": "stream",
          "text": [
            "Sequential(\n",
            "  (vgg_block_1): Sequential(\n",
            "    (0): Conv2d(1, 8, kernel_size=(3, 3), stride=(1, 1), padding=(1, 1))\n",
            "    (1): ReLU()\n",
            "    (2): MaxPool2d(kernel_size=2, stride=2, padding=0, dilation=1, ceil_mode=False)\n",
            "  )\n",
            "  (vgg_block_2): Sequential(\n",
            "    (0): Conv2d(8, 16, kernel_size=(3, 3), stride=(1, 1), padding=(1, 1))\n",
            "    (1): ReLU()\n",
            "    (2): MaxPool2d(kernel_size=2, stride=2, padding=0, dilation=1, ceil_mode=False)\n",
            "  )\n",
            "  (vgg_block_3): Sequential(\n",
            "    (0): Conv2d(16, 32, kernel_size=(3, 3), stride=(1, 1), padding=(1, 1))\n",
            "    (1): ReLU()\n",
            "    (2): Conv2d(32, 32, kernel_size=(3, 3), stride=(1, 1), padding=(1, 1))\n",
            "    (3): ReLU()\n",
            "    (4): MaxPool2d(kernel_size=2, stride=2, padding=0, dilation=1, ceil_mode=False)\n",
            "  )\n",
            "  (vgg_block_4): Sequential(\n",
            "    (0): Conv2d(32, 64, kernel_size=(3, 3), stride=(1, 1), padding=(1, 1))\n",
            "    (1): ReLU()\n",
            "    (2): Conv2d(64, 64, kernel_size=(3, 3), stride=(1, 1), padding=(1, 1))\n",
            "    (3): ReLU()\n",
            "    (4): MaxPool2d(kernel_size=2, stride=2, padding=0, dilation=1, ceil_mode=False)\n",
            "  )\n",
            "  (vgg_block_5): Sequential(\n",
            "    (0): Conv2d(64, 64, kernel_size=(3, 3), stride=(1, 1), padding=(1, 1))\n",
            "    (1): ReLU()\n",
            "    (2): Conv2d(64, 64, kernel_size=(3, 3), stride=(1, 1), padding=(1, 1))\n",
            "    (3): ReLU()\n",
            "    (4): MaxPool2d(kernel_size=2, stride=2, padding=0, dilation=1, ceil_mode=False)\n",
            "  )\n",
            "  (fc): Sequential(\n",
            "    (0): FlattenLayer()\n",
            "    (1): Linear(in_features=3136, out_features=512, bias=True)\n",
            "    (2): ReLU()\n",
            "    (3): Dropout(p=0.5, inplace=False)\n",
            "    (4): Linear(in_features=512, out_features=512, bias=True)\n",
            "    (5): ReLU()\n",
            "    (6): Dropout(p=0.5, inplace=False)\n",
            "    (7): Linear(in_features=512, out_features=10, bias=True)\n",
            "  )\n",
            ")\n"
          ],
          "name": "stdout"
        }
      ]
    },
    {
      "cell_type": "code",
      "metadata": {
        "jupyter": {},
        "tags": [],
        "id": "5325FD0A7DB64D43809A660129617282",
        "scrolled": false,
        "colab_type": "code",
        "colab": {}
      },
      "source": [
        "batchsize=16\n",
        "#batch_size = 64\n",
        "# 如出现“out of memory”的报错信息，可减小batch_size或resize\n",
        "# train_iter, test_iter = d2l.load_data_fashion_mnist(batch_size, resize=224)\n",
        "\n",
        "lr, num_epochs = 0.001, 5\n",
        "optimizer = torch.optim.Adam(net.parameters(), lr=lr)\n",
        "d2l.train_ch5(net, train_iter, test_iter, batch_size, optimizer, device, num_epochs)"
      ],
      "execution_count": 0,
      "outputs": []
    },
    {
      "cell_type": "code",
      "metadata": {
        "jupyter": {},
        "tags": [],
        "id": "88FB988FED1F4CB08417E01A3C560459",
        "scrolled": false,
        "colab_type": "code",
        "colab": {}
      },
      "source": [
        "\n",
        "def nin_block(in_channels, out_channels, kernel_size, stride, padding):\n",
        "    blk = nn.Sequential(nn.Conv2d(in_channels, out_channels, kernel_size, stride, padding),\n",
        "                        nn.ReLU(),\n",
        "                        nn.Conv2d(out_channels, out_channels, kernel_size=1),\n",
        "                        nn.ReLU(),\n",
        "                        nn.Conv2d(out_channels, out_channels, kernel_size=1),\n",
        "                        nn.ReLU())\n",
        "    return blk"
      ],
      "execution_count": 0,
      "outputs": []
    },
    {
      "cell_type": "code",
      "metadata": {
        "jupyter": {},
        "tags": [],
        "id": "AB1A33FE0F1C451F87F390FEC87D334E",
        "scrolled": false,
        "colab_type": "code",
        "colab": {}
      },
      "source": [
        "# 已保存在d2lzh_pytorch\n",
        "class GlobalAvgPool2d(nn.Module):\n",
        "    # 全局平均池化层可通过将池化窗口形状设置成输入的高和宽实现\n",
        "    def __init__(self):\n",
        "        super(GlobalAvgPool2d, self).__init__()\n",
        "    def forward(self, x):\n",
        "        return F.avg_pool2d(x, kernel_size=x.size()[2:])\n",
        "\n",
        "net = nn.Sequential(\n",
        "    nin_block(1, 96, kernel_size=11, stride=4, padding=0),\n",
        "    nn.MaxPool2d(kernel_size=3, stride=2),\n",
        "    nin_block(96, 256, kernel_size=5, stride=1, padding=2),\n",
        "    nn.MaxPool2d(kernel_size=3, stride=2),\n",
        "    nin_block(256, 384, kernel_size=3, stride=1, padding=1),\n",
        "    nn.MaxPool2d(kernel_size=3, stride=2), \n",
        "    nn.Dropout(0.5),\n",
        "    # 标签类别数是10\n",
        "    nin_block(384, 10, kernel_size=3, stride=1, padding=1),\n",
        "    GlobalAvgPool2d(), \n",
        "    # 将四维的输出转成二维的输出，其形状为(批量大小, 10)\n",
        "    d2l.FlattenLayer())"
      ],
      "execution_count": 0,
      "outputs": []
    },
    {
      "cell_type": "code",
      "metadata": {
        "jupyter": {},
        "tags": [],
        "id": "08C2986CBEEF40F98825FC6FF163C572",
        "scrolled": false,
        "colab_type": "code",
        "colab": {},
        "outputId": "7f9a1466-0495-4de8-a12f-3429fb43e717"
      },
      "source": [
        "X = torch.rand(1, 1, 224, 224)\n",
        "for name, blk in net.named_children(): \n",
        "    X = blk(X)\n",
        "    print(name, 'output shape: ', X.shape)"
      ],
      "execution_count": 0,
      "outputs": [
        {
          "output_type": "stream",
          "text": [
            "0 output shape:  torch.Size([1, 96, 54, 54])\n",
            "1 output shape:  torch.Size([1, 96, 26, 26])\n",
            "2 output shape:  torch.Size([1, 256, 26, 26])\n",
            "3 output shape:  torch.Size([1, 256, 12, 12])\n",
            "4 output shape:  torch.Size([1, 384, 12, 12])\n",
            "5 output shape:  torch.Size([1, 384, 5, 5])\n",
            "6 output shape:  torch.Size([1, 384, 5, 5])\n",
            "7 output shape:  torch.Size([1, 10, 5, 5])\n",
            "8 output shape:  torch.Size([1, 10, 1, 1])\n",
            "9 output shape:  torch.Size([1, 10])\n"
          ],
          "name": "stdout"
        }
      ]
    },
    {
      "cell_type": "code",
      "metadata": {
        "jupyter": {},
        "tags": [],
        "id": "DBD61B6A08E1400996DCB60B4B570818",
        "scrolled": false,
        "colab_type": "code",
        "colab": {}
      },
      "source": [
        "batch_size = 128\n",
        "# 如出现“out of memory”的报错信息，可减小batch_size或resize\n",
        "#train_iter, test_iter = d2l.load_data_fashion_mnist(batch_size, resize=224)\n",
        "\n",
        "lr, num_epochs = 0.002, 5\n",
        "optimizer = torch.optim.Adam(net.parameters(), lr=lr)\n",
        "d2l.train_ch5(net, train_iter, test_iter, batch_size, optimizer, device, num_epochs)"
      ],
      "execution_count": 0,
      "outputs": []
    },
    {
      "cell_type": "code",
      "metadata": {
        "jupyter": {},
        "tags": [],
        "id": "E9CBC745630F489CB69A0001B076F199",
        "scrolled": false,
        "colab_type": "code",
        "colab": {}
      },
      "source": [
        "\n",
        "class Inception(nn.Module):\n",
        "    # c1 - c4为每条线路里的层的输出通道数\n",
        "    def __init__(self, in_c, c1, c2, c3, c4):\n",
        "        super(Inception, self).__init__()\n",
        "        # 线路1，单1 x 1卷积层\n",
        "        self.p1_1 = nn.Conv2d(in_c, c1, kernel_size=1)\n",
        "        # 线路2，1 x 1卷积层后接3 x 3卷积层\n",
        "        self.p2_1 = nn.Conv2d(in_c, c2[0], kernel_size=1)\n",
        "        self.p2_2 = nn.Conv2d(c2[0], c2[1], kernel_size=3, padding=1)\n",
        "        # 线路3，1 x 1卷积层后接5 x 5卷积层\n",
        "        self.p3_1 = nn.Conv2d(in_c, c3[0], kernel_size=1)\n",
        "        self.p3_2 = nn.Conv2d(c3[0], c3[1], kernel_size=5, padding=2)\n",
        "        # 线路4，3 x 3最大池化层后接1 x 1卷积层\n",
        "        self.p4_1 = nn.MaxPool2d(kernel_size=3, stride=1, padding=1)\n",
        "        self.p4_2 = nn.Conv2d(in_c, c4, kernel_size=1)\n",
        "\n",
        "    def forward(self, x):\n",
        "        p1 = F.relu(self.p1_1(x))\n",
        "        p2 = F.relu(self.p2_2(F.relu(self.p2_1(x))))\n",
        "        p3 = F.relu(self.p3_2(F.relu(self.p3_1(x))))\n",
        "        p4 = F.relu(self.p4_2(self.p4_1(x)))\n",
        "        return torch.cat((p1, p2, p3, p4), dim=1)  # 在通道维上连结输出"
      ],
      "execution_count": 0,
      "outputs": []
    },
    {
      "cell_type": "code",
      "metadata": {
        "jupyter": {},
        "tags": [],
        "id": "566939FB07C646D380806E2CA941FD85",
        "scrolled": false,
        "colab_type": "code",
        "colab": {}
      },
      "source": [
        "b1 = nn.Sequential(nn.Conv2d(1, 64, kernel_size=7, stride=2, padding=3),\n",
        "                   nn.ReLU(),\n",
        "                   nn.MaxPool2d(kernel_size=3, stride=2, padding=1))\n",
        "\n",
        "b2 = nn.Sequential(nn.Conv2d(64, 64, kernel_size=1),\n",
        "                   nn.Conv2d(64, 192, kernel_size=3, padding=1),\n",
        "                   nn.MaxPool2d(kernel_size=3, stride=2, padding=1))\n",
        "\n",
        "b3 = nn.Sequential(Inception(192, 64, (96, 128), (16, 32), 32),\n",
        "                   Inception(256, 128, (128, 192), (32, 96), 64),\n",
        "                   nn.MaxPool2d(kernel_size=3, stride=2, padding=1))\n",
        "\n",
        "b4 = nn.Sequential(Inception(480, 192, (96, 208), (16, 48), 64),\n",
        "                   Inception(512, 160, (112, 224), (24, 64), 64),\n",
        "                   Inception(512, 128, (128, 256), (24, 64), 64),\n",
        "                   Inception(512, 112, (144, 288), (32, 64), 64),\n",
        "                   Inception(528, 256, (160, 320), (32, 128), 128),\n",
        "                   nn.MaxPool2d(kernel_size=3, stride=2, padding=1))\n",
        "\n",
        "b5 = nn.Sequential(Inception(832, 256, (160, 320), (32, 128), 128),\n",
        "                   Inception(832, 384, (192, 384), (48, 128), 128),\n",
        "                   d2l.GlobalAvgPool2d())\n",
        "\n",
        "net = nn.Sequential(b1, b2, b3, b4, b5, \n",
        "                    d2l.FlattenLayer(), nn.Linear(1024, 10))\n",
        "\n",
        "net = nn.Sequential(b1, b2, b3, b4, b5, d2l.FlattenLayer(), nn.Linear(1024, 10))\n",
        "\n",
        "X = torch.rand(1, 1, 96, 96)\n",
        "\n",
        "for blk in net.children(): \n",
        "    X = blk(X)\n",
        "    print('output shape: ', X.shape)\n",
        "\n",
        "#batchsize=128\n",
        "batch_size = 16\n",
        "# 如出现“out of memory”的报错信息，可减小batch_size或resize\n",
        "#train_iter, test_iter = d2l.load_data_fashion_mnist(batch_size, resize=96)\n",
        "\n",
        "lr, num_epochs = 0.001, 5\n",
        "optimizer = torch.optim.Adam(net.parameters(), lr=lr)\n",
        "d2l.train_ch5(net, train_iter, test_iter, batch_size, optimizer, device, num_epochs)"
      ],
      "execution_count": 0,
      "outputs": []
    }
  ]
}