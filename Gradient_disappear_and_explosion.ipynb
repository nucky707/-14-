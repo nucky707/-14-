{
  "nbformat": 4,
  "nbformat_minor": 0,
  "metadata": {
    "kernelspec": {
      "name": "python3",
      "display_name": "Python 3",
      "language": "python"
    },
    "language_info": {
      "name": "python",
      "version": "3.7.3",
      "mimetype": "text/x-python",
      "codemirror_mode": {
        "name": "ipython",
        "version": 3
      },
      "pygments_lexer": "ipython3",
      "nbconvert_exporter": "python",
      "file_extension": ".py"
    },
    "colab": {
      "name": "Gradient disappear and explosion.ipynb",
      "provenance": []
    }
  },
  "cells": [
    {
      "cell_type": "code",
      "metadata": {
        "_cell_guid": "b1076dfc-b9ad-4769-8c92-a6c4dae69d19",
        "_uuid": "8f2839f25d086af736a60e9eeb907d3b93b6e0e5",
        "graffitiCellId": "id_rppdqvv",
        "jupyter": {},
        "tags": [],
        "id": "4B7D88B7F9D5401988D5CFAEAEE4D60D",
        "scrolled": false,
        "colab_type": "code",
        "colab": {},
        "outputId": "49e1dd78-e772-4aae-cbe0-ee67c347af42"
      },
      "source": [
        "%matplotlib inline\n",
        "import torch\n",
        "import torch.nn as nn\n",
        "import numpy as np\n",
        "import pandas as pd\n",
        "import sys\n",
        "sys.path.append(\"/home/kesci/input\")\n",
        "import d2lzh1981 as d2l\n",
        "print(torch.__version__)\n",
        "torch.set_default_tensor_type(torch.FloatTensor)"
      ],
      "execution_count": 0,
      "outputs": [
        {
          "output_type": "stream",
          "text": [
            "1.3.0\n"
          ],
          "name": "stdout"
        }
      ]
    },
    {
      "cell_type": "code",
      "metadata": {
        "_cell_guid": "",
        "_uuid": "",
        "graffitiCellId": "id_55zhkwj",
        "jupyter": {},
        "tags": [],
        "id": "22499724CB544EE9A4E993DACA2C59A4",
        "scrolled": false,
        "colab_type": "code",
        "colab": {}
      },
      "source": [
        "test_data = pd.read_csv(\"/home/kesci/input/houseprices2807/house-prices-advanced-regression-techniques/test.csv\")\n",
        "train_data = pd.read_csv(\"/home/kesci/input/houseprices2807/house-prices-advanced-regression-techniques/train.csv\")"
      ],
      "execution_count": 0,
      "outputs": []
    },
    {
      "cell_type": "code",
      "metadata": {
        "graffitiCellId": "id_v638azx",
        "jupyter": {},
        "tags": [],
        "id": "F73F0440A4E541AC89BC9839E785E9E7",
        "scrolled": false,
        "colab_type": "code",
        "colab": {},
        "outputId": "64f46760-a128-4212-8e56-bf84caf52ea1"
      },
      "source": [
        "train_data.shape"
      ],
      "execution_count": 0,
      "outputs": [
        {
          "output_type": "execute_result",
          "data": {
            "text/plain": [
              "(1460, 81)"
            ]
          },
          "metadata": {
            "tags": []
          },
          "execution_count": 7
        }
      ]
    },
    {
      "cell_type": "code",
      "metadata": {
        "graffitiCellId": "id_8omgjxj",
        "jupyter": {},
        "tags": [],
        "id": "DE998F1F94ED44B18D390D31888DC149",
        "scrolled": false,
        "colab_type": "code",
        "colab": {},
        "outputId": "f7c311d9-de30-4630-bed1-4c3d746316e8"
      },
      "source": [
        "test_data.shape"
      ],
      "execution_count": 0,
      "outputs": [
        {
          "output_type": "execute_result",
          "data": {
            "text/plain": [
              "(1459, 80)"
            ]
          },
          "metadata": {
            "tags": []
          },
          "execution_count": 8
        }
      ]
    },
    {
      "cell_type": "code",
      "metadata": {
        "graffitiCellId": "id_rexdt8z",
        "jupyter": {},
        "tags": [],
        "id": "CEAD0C35ECB14AB68E21195D77993F02",
        "scrolled": false,
        "colab_type": "code",
        "colab": {},
        "outputId": "3bf115d6-8a36-40f3-871b-34d4528103cf"
      },
      "source": [
        "train_data.iloc[0:4, [0, 1, 2, 3, -3, -2, -1]]"
      ],
      "execution_count": 0,
      "outputs": [
        {
          "output_type": "execute_result",
          "data": {
            "text/plain": [
              "   Id  MSSubClass MSZoning  LotFrontage SaleType SaleCondition  SalePrice\n",
              "0   1          60       RL         65.0       WD        Normal     208500\n",
              "1   2          20       RL         80.0       WD        Normal     181500\n",
              "2   3          60       RL         68.0       WD        Normal     223500\n",
              "3   4          70       RL         60.0       WD       Abnorml     140000"
            ],
            "text/html": [
              "<div>\n",
              "<style scoped>\n",
              "    .dataframe tbody tr th:only-of-type {\n",
              "        vertical-align: middle;\n",
              "    }\n",
              "\n",
              "    .dataframe tbody tr th {\n",
              "        vertical-align: top;\n",
              "    }\n",
              "\n",
              "    .dataframe thead th {\n",
              "        text-align: right;\n",
              "    }\n",
              "</style>\n",
              "<table border=\"1\" class=\"dataframe\">\n",
              "  <thead>\n",
              "    <tr style=\"text-align: right;\">\n",
              "      <th></th>\n",
              "      <th>Id</th>\n",
              "      <th>MSSubClass</th>\n",
              "      <th>MSZoning</th>\n",
              "      <th>LotFrontage</th>\n",
              "      <th>SaleType</th>\n",
              "      <th>SaleCondition</th>\n",
              "      <th>SalePrice</th>\n",
              "    </tr>\n",
              "  </thead>\n",
              "  <tbody>\n",
              "    <tr>\n",
              "      <td>0</td>\n",
              "      <td>1</td>\n",
              "      <td>60</td>\n",
              "      <td>RL</td>\n",
              "      <td>65.0</td>\n",
              "      <td>WD</td>\n",
              "      <td>Normal</td>\n",
              "      <td>208500</td>\n",
              "    </tr>\n",
              "    <tr>\n",
              "      <td>1</td>\n",
              "      <td>2</td>\n",
              "      <td>20</td>\n",
              "      <td>RL</td>\n",
              "      <td>80.0</td>\n",
              "      <td>WD</td>\n",
              "      <td>Normal</td>\n",
              "      <td>181500</td>\n",
              "    </tr>\n",
              "    <tr>\n",
              "      <td>2</td>\n",
              "      <td>3</td>\n",
              "      <td>60</td>\n",
              "      <td>RL</td>\n",
              "      <td>68.0</td>\n",
              "      <td>WD</td>\n",
              "      <td>Normal</td>\n",
              "      <td>223500</td>\n",
              "    </tr>\n",
              "    <tr>\n",
              "      <td>3</td>\n",
              "      <td>4</td>\n",
              "      <td>70</td>\n",
              "      <td>RL</td>\n",
              "      <td>60.0</td>\n",
              "      <td>WD</td>\n",
              "      <td>Abnorml</td>\n",
              "      <td>140000</td>\n",
              "    </tr>\n",
              "  </tbody>\n",
              "</table>\n",
              "</div>"
            ]
          },
          "metadata": {
            "tags": []
          },
          "execution_count": 9
        }
      ]
    },
    {
      "cell_type": "code",
      "metadata": {
        "graffitiCellId": "id_ws1qrzt",
        "jupyter": {},
        "tags": [],
        "id": "AE00A8F4623744409F49F7C0DC5373DB",
        "scrolled": false,
        "colab_type": "code",
        "colab": {}
      },
      "source": [
        "all_features = pd.concat((train_data.iloc[:, 1:-1], test_data.iloc[:, 1:]))"
      ],
      "execution_count": 0,
      "outputs": []
    },
    {
      "cell_type": "code",
      "metadata": {
        "graffitiCellId": "id_gr89sii",
        "jupyter": {},
        "tags": [],
        "id": "A89CC9C91E08484598F763A008CF05BB",
        "scrolled": false,
        "colab_type": "code",
        "colab": {}
      },
      "source": [
        "numeric_features = all_features.dtypes[all_features.dtypes != 'object'].index\n",
        "all_features[numeric_features] = all_features[numeric_features].apply(\n",
        "    lambda x: (x - x.mean()) / (x.std()))\n",
        "# 标准化后，每个数值特征的均值变为0，所以可以直接用0来替换缺失值\n",
        "all_features[numeric_features] = all_features[numeric_features].fillna(0)"
      ],
      "execution_count": 0,
      "outputs": []
    },
    {
      "cell_type": "code",
      "metadata": {
        "graffitiCellId": "id_9q56n3m",
        "jupyter": {},
        "tags": [],
        "id": "39725C56CC4F4D2E9A262B58041C1339",
        "scrolled": false,
        "colab_type": "code",
        "colab": {},
        "outputId": "663b3d02-7bff-4b03-ed5b-c80469b85330"
      },
      "source": [
        "# dummy_na=True将缺失值也当作合法的特征值并为其创建指示特征\n",
        "all_features = pd.get_dummies(all_features, dummy_na=True)\n",
        "all_features.shape"
      ],
      "execution_count": 0,
      "outputs": [
        {
          "output_type": "execute_result",
          "data": {
            "text/plain": [
              "(2919, 331)"
            ]
          },
          "metadata": {
            "tags": []
          },
          "execution_count": 12
        }
      ]
    },
    {
      "cell_type": "code",
      "metadata": {
        "graffitiCellId": "id_wnd1cmy",
        "jupyter": {},
        "tags": [],
        "id": "6010D2628BF648D8B9C852A881CF99E0",
        "scrolled": false,
        "colab_type": "code",
        "colab": {}
      },
      "source": [
        "n_train = train_data.shape[0]\n",
        "train_features = torch.tensor(all_features[:n_train].values, dtype=torch.float)\n",
        "test_features = torch.tensor(all_features[n_train:].values, dtype=torch.float)\n",
        "train_labels = torch.tensor(train_data.SalePrice.values, dtype=torch.float).view(-1, 1)"
      ],
      "execution_count": 0,
      "outputs": []
    },
    {
      "cell_type": "code",
      "metadata": {
        "graffitiCellId": "id_pg3x6ue",
        "jupyter": {},
        "tags": [],
        "id": "40D1A426AE804E958139EEBEDDB5456B",
        "scrolled": false,
        "colab_type": "code",
        "colab": {}
      },
      "source": [
        "loss = torch.nn.MSELoss()\n",
        "\n",
        "def get_net(feature_num):\n",
        "    net = nn.Linear(feature_num, 1)\n",
        "    for param in net.parameters():\n",
        "        nn.init.normal_(param, mean=0, std=0.01)\n",
        "    return net"
      ],
      "execution_count": 0,
      "outputs": []
    },
    {
      "cell_type": "code",
      "metadata": {
        "graffitiCellId": "id_qjz6u65",
        "jupyter": {},
        "tags": [],
        "id": "387CB5F1C97A4A1F8943165FA3C0BE11",
        "scrolled": false,
        "colab_type": "code",
        "colab": {}
      },
      "source": [
        "def log_rmse(net, features, labels):\n",
        "    with torch.no_grad():\n",
        "        # 将小于1的值设成1，使得取对数时数值更稳定\n",
        "        clipped_preds = torch.max(net(features), torch.tensor(1.0))\n",
        "        rmse = torch.sqrt(2 * loss(clipped_preds.log(), labels.log()).mean())\n",
        "    return rmse.item()"
      ],
      "execution_count": 0,
      "outputs": []
    },
    {
      "cell_type": "code",
      "metadata": {
        "graffitiCellId": "id_erbtdm9",
        "jupyter": {},
        "tags": [],
        "id": "DDC3C34CDD804C048FA12AFA5A5812A5",
        "scrolled": false,
        "colab_type": "code",
        "colab": {}
      },
      "source": [
        "def train(net, train_features, train_labels, test_features, test_labels,\n",
        "          num_epochs, learning_rate, weight_decay, batch_size):\n",
        "    train_ls, test_ls = [], []\n",
        "    dataset = torch.utils.data.TensorDataset(train_features, train_labels)\n",
        "    train_iter = torch.utils.data.DataLoader(dataset, batch_size, shuffle=True)\n",
        "    # 这里使用了Adam优化算法\n",
        "    optimizer = torch.optim.Adam(params=net.parameters(), lr=learning_rate, weight_decay=weight_decay) \n",
        "    net = net.float()\n",
        "    for epoch in range(num_epochs):\n",
        "        for X, y in train_iter:\n",
        "            l = loss(net(X.float()), y.float())\n",
        "            optimizer.zero_grad()\n",
        "            l.backward()\n",
        "            optimizer.step()\n",
        "        train_ls.append(log_rmse(net, train_features, train_labels))\n",
        "        if test_labels is not None:\n",
        "            test_ls.append(log_rmse(net, test_features, test_labels))\n",
        "    return train_ls, test_ls"
      ],
      "execution_count": 0,
      "outputs": []
    },
    {
      "cell_type": "code",
      "metadata": {
        "graffitiCellId": "id_mrp7nyy",
        "jupyter": {},
        "tags": [],
        "id": "2D7D3C06E1D24E238F0DA935CD81B0B8",
        "scrolled": false,
        "colab_type": "code",
        "colab": {}
      },
      "source": [
        "def get_k_fold_data(k, i, X, y):\n",
        "    # 返回第i折交叉验证时所需要的训练和验证数据\n",
        "    assert k > 1\n",
        "    fold_size = X.shape[0] // k\n",
        "    X_train, y_train = None, None\n",
        "    for j in range(k):\n",
        "        idx = slice(j * fold_size, (j + 1) * fold_size)\n",
        "        X_part, y_part = X[idx, :], y[idx]\n",
        "        if j == i:\n",
        "            X_valid, y_valid = X_part, y_part\n",
        "        elif X_train is None:\n",
        "            X_train, y_train = X_part, y_part\n",
        "        else:\n",
        "            X_train = torch.cat((X_train, X_part), dim=0)\n",
        "            y_train = torch.cat((y_train, y_part), dim=0)\n",
        "    return X_train, y_train, X_valid, y_valid"
      ],
      "execution_count": 0,
      "outputs": []
    },
    {
      "cell_type": "code",
      "metadata": {
        "graffitiCellId": "id_83qykff",
        "jupyter": {},
        "tags": [],
        "id": "B8FDE10586B445E28ABA5E786A6B6509",
        "scrolled": false,
        "colab_type": "code",
        "colab": {}
      },
      "source": [
        "def k_fold(k, X_train, y_train, num_epochs,\n",
        "           learning_rate, weight_decay, batch_size):\n",
        "    train_l_sum, valid_l_sum = 0, 0\n",
        "    for i in range(k):\n",
        "        data = get_k_fold_data(k, i, X_train, y_train)\n",
        "        net = get_net(X_train.shape[1])\n",
        "        train_ls, valid_ls = train(net, *data, num_epochs, learning_rate,\n",
        "                                   weight_decay, batch_size)\n",
        "        train_l_sum += train_ls[-1]\n",
        "        valid_l_sum += valid_ls[-1]\n",
        "        if i == 0:\n",
        "            d2l.semilogy(range(1, num_epochs + 1), train_ls, 'epochs', 'rmse',\n",
        "                         range(1, num_epochs + 1), valid_ls,\n",
        "                         ['train', 'valid'])\n",
        "        print('fold %d, train rmse %f, valid rmse %f' % (i, train_ls[-1], valid_ls[-1]))\n",
        "    return train_l_sum / k, valid_l_sum / k"
      ],
      "execution_count": 0,
      "outputs": []
    },
    {
      "cell_type": "code",
      "metadata": {
        "graffitiCellId": "id_tlka7i5",
        "jupyter": {},
        "tags": [],
        "id": "989B1E6DC2F046A6899429AC97B29EC0",
        "scrolled": false,
        "colab_type": "code",
        "colab": {},
        "outputId": "984f86b7-3a55-4111-ec05-d3dd9ccb171b"
      },
      "source": [
        "k, num_epochs, lr, weight_decay, batch_size = 5, 100, 5, 0, 64\n",
        "train_l, valid_l = k_fold(k, train_features, train_labels, num_epochs, lr, weight_decay, batch_size)\n",
        "print('%d-fold validation: avg train rmse %f, avg valid rmse %f' % (k, train_l, valid_l))"
      ],
      "execution_count": 0,
      "outputs": [
        {
          "output_type": "stream",
          "text": [
            "fold 0, train rmse 0.241365, valid rmse 0.223083\n",
            "fold 1, train rmse 0.229118, valid rmse 0.267488\n",
            "fold 2, train rmse 0.232072, valid rmse 0.237995\n",
            "fold 3, train rmse 0.238050, valid rmse 0.218671\n",
            "fold 4, train rmse 0.231004, valid rmse 0.259185\n",
            "5-fold validation: avg train rmse 0.234322, avg valid rmse 0.241284\n"
          ],
          "name": "stdout"
        },
        {
          "output_type": "display_data",
          "data": {
            "text/plain": [
              "<Figure size 252x180 with 1 Axes>"
            ],
            "text/html": [
              "<img src=\"https://cdn.kesci.com/rt_upload/989B1E6DC2F046A6899429AC97B29EC0/q5jfhgk0ux.svg\">"
            ]
          },
          "metadata": {
            "tags": [],
            "needs_background": "light"
          }
        }
      ]
    },
    {
      "cell_type": "code",
      "metadata": {
        "graffitiCellId": "id_bfeohke",
        "jupyter": {},
        "tags": [],
        "id": "6439054A3497425386D81BAF6A0E5914",
        "scrolled": false,
        "colab_type": "code",
        "colab": {}
      },
      "source": [
        "def train_and_pred(train_features, test_features, train_labels, test_data,\n",
        "                   num_epochs, lr, weight_decay, batch_size):\n",
        "    net = get_net(train_features.shape[1])\n",
        "    train_ls, _ = train(net, train_features, train_labels, None, None,\n",
        "                        num_epochs, lr, weight_decay, batch_size)\n",
        "    d2l.semilogy(range(1, num_epochs + 1), train_ls, 'epochs', 'rmse')\n",
        "    print('train rmse %f' % train_ls[-1])\n",
        "    preds = net(test_features).detach().numpy()\n",
        "    test_data['SalePrice'] = pd.Series(preds.reshape(1, -1)[0])\n",
        "    submission = pd.concat([test_data['Id'], test_data['SalePrice']], axis=1)\n",
        "    submission.to_csv('./submission.csv', index=False)\n",
        "    # sample_submission_data = pd.read_csv(\"../input/house-prices-advanced-regression-techniques/sample_submission.csv\")\n"
      ],
      "execution_count": 0,
      "outputs": []
    },
    {
      "cell_type": "code",
      "metadata": {
        "graffitiCellId": "id_y9xgm83",
        "jupyter": {},
        "tags": [],
        "id": "9F99F864AB2946B6A6AD66AADBD44F2D",
        "colab_type": "code",
        "colab": {}
      },
      "source": [
        "train_and_pred(train_features, test_features, train_labels, test_data, num_epochs, lr, weight_decay, batch_size)"
      ],
      "execution_count": 0,
      "outputs": []
    }
  ]
}