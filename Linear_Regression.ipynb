{
  "nbformat": 4,
  "nbformat_minor": 0,
  "metadata": {
    "kernelspec": {
      "name": "python3",
      "display_name": "Python 3",
      "language": "python"
    },
    "language_info": {
      "name": "python",
      "version": "3.7.3",
      "mimetype": "text/x-python",
      "codemirror_mode": {
        "name": "ipython",
        "version": 3
      },
      "pygments_lexer": "ipython3",
      "nbconvert_exporter": "python",
      "file_extension": ".py"
    },
    "colab": {
      "name": "Linear Regression.ipynb",
      "provenance": []
    }
  },
  "cells": [
    {
      "cell_type": "code",
      "metadata": {
        "graffitiCellId": "id_bp6luds",
        "jupyter": {},
        "tags": [],
        "id": "631AD2C3EA1A431287E30A95D535D877",
        "scrolled": false,
        "colab_type": "code",
        "colab": {}
      },
      "source": [
        "import torch\n",
        "import time\n",
        "\n",
        "# init variable a, b as 1000 dimension vector\n",
        "n = 1000\n",
        "a = torch.ones(n)\n",
        "b = torch.ones(n)\n"
      ],
      "execution_count": 0,
      "outputs": []
    },
    {
      "cell_type": "code",
      "metadata": {
        "graffitiCellId": "id_xxj5nbf",
        "jupyter": {},
        "tags": [],
        "id": "55B0FCA128314322808F46633FA9B944",
        "scrolled": false,
        "colab_type": "code",
        "colab": {}
      },
      "source": [
        "# define a timer class to record time\n",
        "class Timer(object):\n",
        "    \"\"\"Record multiple running times.\"\"\"\n",
        "    def __init__(self):\n",
        "        self.times = []\n",
        "        self.start()\n",
        "\n",
        "    def start(self):\n",
        "        # start the timer\n",
        "        self.start_time = time.time()\n",
        "\n",
        "    def stop(self):\n",
        "        # stop the timer and record time into a list\n",
        "        self.times.append(time.time() - self.start_time)\n",
        "        return self.times[-1]\n",
        "\n",
        "    def avg(self):\n",
        "        # calculate the average and return\n",
        "        return sum(self.times)/len(self.times)\n",
        "\n",
        "    def sum(self):\n",
        "        # return the sum of recorded time\n",
        "        return sum(self.times)"
      ],
      "execution_count": 0,
      "outputs": []
    },
    {
      "cell_type": "code",
      "metadata": {
        "graffitiCellId": "id_eoz706b",
        "jupyter": {},
        "tags": [],
        "id": "DF2AACFBA2EA42698CC82C33AF79AEDB",
        "scrolled": false,
        "colab_type": "code",
        "colab": {},
        "outputId": "c8ad0310-8b5d-4f74-e371-f216c6e01ba6"
      },
      "source": [
        "timer = Timer()\n",
        "c = torch.zeros(n)\n",
        "for i in range(n):\n",
        "    c[i] = a[i] + b[i]\n",
        "'%.5f sec' % timer.stop()"
      ],
      "execution_count": 0,
      "outputs": [
        {
          "output_type": "execute_result",
          "data": {
            "text/plain": [
              "'0.01216 sec'"
            ]
          },
          "metadata": {
            "tags": []
          },
          "execution_count": 4
        }
      ]
    },
    {
      "cell_type": "code",
      "metadata": {
        "graffitiCellId": "id_a8sw68j",
        "jupyter": {},
        "tags": [],
        "id": "6D2503874A514A7590AF8F710B5F325C",
        "scrolled": false,
        "colab_type": "code",
        "colab": {},
        "outputId": "de828c38-dd6f-4954-ff54-c0b14c63148c"
      },
      "source": [
        "timer.start()\n",
        "d = a + b\n",
        "'%.5f sec' % timer.stop()"
      ],
      "execution_count": 0,
      "outputs": [
        {
          "output_type": "execute_result",
          "data": {
            "text/plain": [
              "'0.00036 sec'"
            ]
          },
          "metadata": {
            "tags": []
          },
          "execution_count": 5
        }
      ]
    },
    {
      "cell_type": "code",
      "metadata": {
        "graffitiCellId": "id_3snj2zc",
        "jupyter": {},
        "tags": [],
        "id": "B3148881D9514B898929430997FD781C",
        "scrolled": false,
        "colab_type": "code",
        "colab": {},
        "outputId": "387b47e1-0671-4d5e-b711-aadc72975275"
      },
      "source": [
        "# import packages and modules\n",
        "%matplotlib inline\n",
        "import torch\n",
        "from IPython import display\n",
        "from matplotlib import pyplot as plt\n",
        "import numpy as np\n",
        "import random\n",
        "\n",
        "print(torch.__version__)"
      ],
      "execution_count": 0,
      "outputs": [
        {
          "output_type": "stream",
          "text": [
            "1.3.0\n"
          ],
          "name": "stdout"
        }
      ]
    },
    {
      "cell_type": "code",
      "metadata": {
        "graffitiCellId": "id_h3bosrm",
        "jupyter": {},
        "tags": [],
        "id": "1A5F9ED7F99643A3A440960077439F0F",
        "scrolled": false,
        "colab_type": "code",
        "colab": {}
      },
      "source": [
        "# set input feature number \n",
        "num_inputs = 2\n",
        "# set example number\n",
        "num_examples = 1000\n",
        "\n",
        "# set true weight and bias in order to generate corresponded label\n",
        "true_w = [2, -3.4]\n",
        "true_b = 4.2\n",
        "\n",
        "features = torch.randn(num_examples, num_inputs,\n",
        "                      dtype=torch.float32)\n",
        "labels = true_w[0] * features[:, 0] + true_w[1] * features[:, 1] + true_b\n",
        "labels += torch.tensor(np.random.normal(0, 0.01, size=labels.size()),\n",
        "                       dtype=torch.float32)"
      ],
      "execution_count": 0,
      "outputs": []
    },
    {
      "cell_type": "code",
      "metadata": {
        "graffitiCellId": "id_ov2af2a",
        "jupyter": {},
        "tags": [],
        "id": "8E2E1E16060241C6A33E4CF1EC65DF1D",
        "scrolled": false,
        "colab_type": "code",
        "colab": {},
        "outputId": "a189e4f5-0fb7-4cd0-bcf1-375b0acf3294"
      },
      "source": [
        "plt.scatter(features[:, 1].numpy(), labels.numpy(), 1);"
      ],
      "execution_count": 0,
      "outputs": [
        {
          "output_type": "display_data",
          "data": {
            "text/plain": [
              "<Figure size 432x288 with 1 Axes>"
            ],
            "text/html": [
              "<img src=\"https://cdn.kesci.com/rt_upload/8E2E1E16060241C6A33E4CF1EC65DF1D/q5khh4rs47.png\">"
            ]
          },
          "metadata": {
            "tags": [],
            "needs_background": "light"
          }
        }
      ]
    },
    {
      "cell_type": "code",
      "metadata": {
        "graffitiCellId": "id_0tj7eus",
        "jupyter": {},
        "tags": [],
        "id": "A6E1419DA00C4ABF8CBF0E0F0B2B9E35",
        "scrolled": false,
        "colab_type": "code",
        "colab": {}
      },
      "source": [
        "def data_iter(batch_size, features, labels):\n",
        "    num_examples = len(features)\n",
        "    indices = list(range(num_examples))\n",
        "    random.shuffle(indices)  # random read 10 samples\n",
        "    for i in range(0, num_examples, batch_size):\n",
        "        j = torch.LongTensor(indices[i: min(i + batch_size, num_examples)]) # the last time may be not enough for a whole batch\n",
        "        yield  features.index_select(0, j), labels.index_select(0, j)"
      ],
      "execution_count": 0,
      "outputs": []
    },
    {
      "cell_type": "code",
      "metadata": {
        "graffitiCellId": "id_xc0arq3",
        "jupyter": {},
        "tags": [],
        "id": "1DA3BC30E43E4F76970F712D89BDBC4D",
        "scrolled": false,
        "colab_type": "code",
        "colab": {},
        "outputId": "52f386df-91f9-4169-d6e1-22b6d084c5f8"
      },
      "source": [
        "batch_size = 10\n",
        "\n",
        "for X, y in data_iter(batch_size, features, labels):\n",
        "    print(X, '\\n', y)\n",
        "    break"
      ],
      "execution_count": 0,
      "outputs": [
        {
          "output_type": "stream",
          "text": [
            "tensor([[ 0.3405,  0.9018],\n",
            "        [ 0.4998, -0.2403],\n",
            "        [-0.4785, -1.0008],\n",
            "        [-0.0779, -0.4784],\n",
            "        [ 0.0421,  0.6632],\n",
            "        [-0.7571, -0.7455],\n",
            "        [ 2.1479, -0.5964],\n",
            "        [-0.8937, -0.1500],\n",
            "        [ 0.0794,  0.7240],\n",
            "        [ 1.5828, -0.3184]]) \n",
            " tensor([ 1.8013,  6.0142,  6.6434,  5.6860,  2.0276,  5.2186, 10.5251,  2.9352,\n",
            "         1.8980,  8.4750])\n"
          ],
          "name": "stdout"
        }
      ]
    },
    {
      "cell_type": "code",
      "metadata": {
        "graffitiCellId": "id_g06bzki",
        "jupyter": {},
        "tags": [],
        "id": "6B11AC0E574140CD9C2E722B05D0049D",
        "scrolled": false,
        "colab_type": "code",
        "colab": {},
        "outputId": "2f15c137-bb0a-4c6f-a511-8c7800b21205"
      },
      "source": [
        "w = torch.tensor(np.random.normal(0, 0.01, (num_inputs, 1)), dtype=torch.float32)\n",
        "b = torch.zeros(1, dtype=torch.float32)\n",
        "\n",
        "w.requires_grad_(requires_grad=True)\n",
        "b.requires_grad_(requires_grad=True)"
      ],
      "execution_count": 0,
      "outputs": [
        {
          "output_type": "execute_result",
          "data": {
            "text/plain": [
              "tensor([0.], requires_grad=True)"
            ]
          },
          "metadata": {
            "tags": []
          },
          "execution_count": 11
        }
      ]
    },
    {
      "cell_type": "code",
      "metadata": {
        "graffitiCellId": "id_l8xu5kf",
        "jupyter": {},
        "tags": [],
        "id": "8DFF5BDD78884936899E3CE720BEEE3C",
        "scrolled": false,
        "colab_type": "code",
        "colab": {}
      },
      "source": [
        "def linreg(X, w, b):\n",
        "    return torch.mm(X, w) + b"
      ],
      "execution_count": 0,
      "outputs": []
    },
    {
      "cell_type": "code",
      "metadata": {
        "graffitiCellId": "id_r9p6ncn",
        "jupyter": {},
        "tags": [],
        "id": "58A55DD7B46842578BEA1A8689456B1A",
        "scrolled": false,
        "colab_type": "code",
        "colab": {}
      },
      "source": [
        "def squared_loss(y_hat, y): \n",
        "    return (y_hat - y.view(y_hat.size())) ** 2 / 2"
      ],
      "execution_count": 0,
      "outputs": []
    },
    {
      "cell_type": "code",
      "metadata": {
        "graffitiCellId": "id_e41t41x",
        "jupyter": {},
        "tags": [],
        "id": "E9676D1B4F80473B894A4ADA3691D2E0",
        "scrolled": false,
        "colab_type": "code",
        "colab": {}
      },
      "source": [
        "def sgd(params, lr, batch_size): \n",
        "    for param in params:\n",
        "        param.data -= lr * param.grad / batch_size # ues .data to operate param without gradient track"
      ],
      "execution_count": 0,
      "outputs": []
    },
    {
      "cell_type": "code",
      "metadata": {
        "graffitiCellId": "id_ht68g0d",
        "jupyter": {},
        "tags": [],
        "id": "8C7AA862EE5A4AEAB3CB980F15870D06",
        "scrolled": false,
        "colab_type": "code",
        "colab": {},
        "outputId": "770887b0-db5c-484d-f9a0-c0eb118b8c30"
      },
      "source": [
        "# super parameters init\n",
        "lr = 0.03\n",
        "num_epochs = 5\n",
        "\n",
        "net = linreg\n",
        "loss = squared_loss\n",
        "\n",
        "# training\n",
        "for epoch in range(num_epochs):  # training repeats num_epochs times\n",
        "    # in each epoch, all the samples in dataset will be used once\n",
        "    \n",
        "    # X is the feature and y is the label of a batch sample\n",
        "    for X, y in data_iter(batch_size, features, labels):\n",
        "        l = loss(net(X, w, b), y).sum()  \n",
        "        # calculate the gradient of batch sample loss \n",
        "        l.backward()  \n",
        "        # using small batch random gradient descent to iter model parameters\n",
        "        sgd([w, b], lr, batch_size)  \n",
        "        # reset parameter gradient\n",
        "        w.grad.data.zero_()\n",
        "        b.grad.data.zero_()\n",
        "    train_l = loss(net(features, w, b), labels)\n",
        "    print('epoch %d, loss %f' % (epoch + 1, train_l.mean().item()))"
      ],
      "execution_count": 0,
      "outputs": [
        {
          "output_type": "stream",
          "text": [
            "epoch 1, loss 0.030952\n",
            "epoch 2, loss 0.000108\n",
            "epoch 3, loss 0.000050\n",
            "epoch 4, loss 0.000050\n",
            "epoch 5, loss 0.000050\n"
          ],
          "name": "stdout"
        }
      ]
    },
    {
      "cell_type": "code",
      "metadata": {
        "graffitiCellId": "id_6t702dg",
        "jupyter": {},
        "tags": [],
        "id": "2E791A3F92EF4CCF91E2096630C0E8D9",
        "scrolled": false,
        "colab_type": "code",
        "colab": {},
        "outputId": "701fe54d-cd32-4024-d741-61b457fc7ee6"
      },
      "source": [
        "w, true_w, b, true_b"
      ],
      "execution_count": 0,
      "outputs": [
        {
          "output_type": "execute_result",
          "data": {
            "text/plain": [
              "(tensor([[ 2.0001],\n",
              "         [-3.4006]], requires_grad=True),\n",
              " [2, -3.4],\n",
              " tensor([4.1998], requires_grad=True),\n",
              " 4.2)"
            ]
          },
          "metadata": {
            "tags": []
          },
          "execution_count": 16
        }
      ]
    },
    {
      "cell_type": "code",
      "metadata": {
        "graffitiCellId": "id_sdic11w",
        "jupyter": {},
        "tags": [],
        "id": "D5CCF3AE67794558930978F1815C38B9",
        "scrolled": false,
        "colab_type": "code",
        "colab": {},
        "outputId": "af5cffff-0e9e-413f-cbf1-f29ae7d3d1d6"
      },
      "source": [
        "import torch\n",
        "from torch import nn\n",
        "import numpy as np\n",
        "torch.manual_seed(1)\n",
        "\n",
        "print(torch.__version__)\n",
        "torch.set_default_tensor_type('torch.FloatTensor')"
      ],
      "execution_count": 0,
      "outputs": [
        {
          "output_type": "stream",
          "text": [
            "1.3.0\n"
          ],
          "name": "stdout"
        }
      ]
    },
    {
      "cell_type": "code",
      "metadata": {
        "graffitiCellId": "id_k7z5rd0",
        "jupyter": {},
        "tags": [],
        "id": "83C2DB9468394624BB4934DBF194A353",
        "scrolled": false,
        "colab_type": "code",
        "colab": {}
      },
      "source": [
        "num_inputs = 2\n",
        "num_examples = 1000\n",
        "\n",
        "true_w = [2, -3.4]\n",
        "true_b = 4.2\n",
        "\n",
        "features = torch.tensor(np.random.normal(0, 1, (num_examples, num_inputs)), dtype=torch.float)\n",
        "labels = true_w[0] * features[:, 0] + true_w[1] * features[:, 1] + true_b\n",
        "labels += torch.tensor(np.random.normal(0, 0.01, size=labels.size()), dtype=torch.float)"
      ],
      "execution_count": 0,
      "outputs": []
    },
    {
      "cell_type": "code",
      "metadata": {
        "graffitiCellId": "id_bxmqh9f",
        "jupyter": {},
        "tags": [],
        "id": "8704CA375BF04440839AB16AA995E3AB",
        "scrolled": false,
        "colab_type": "code",
        "colab": {}
      },
      "source": [
        "import torch.utils.data as Data\n",
        "\n",
        "batch_size = 10\n",
        "\n",
        "# combine featues and labels of dataset\n",
        "dataset = Data.TensorDataset(features, labels)\n",
        "\n",
        "# put dataset into DataLoader\n",
        "data_iter = Data.DataLoader(\n",
        "    dataset=dataset,            # torch TensorDataset format\n",
        "    batch_size=batch_size,      # mini batch size\n",
        "    shuffle=True,               # whether shuffle the data or not\n",
        "    num_workers=2,              # read data in multithreading\n",
        ")"
      ],
      "execution_count": 0,
      "outputs": []
    },
    {
      "cell_type": "code",
      "metadata": {
        "graffitiCellId": "id_nnjw15x",
        "scrolled": false,
        "jupyter": {},
        "tags": [],
        "id": "C1FFC0FD8F5741D78AFD26B883BE192C",
        "colab_type": "code",
        "colab": {},
        "outputId": "af569412-54b3-45d5-e341-fff48b7180a6"
      },
      "source": [
        "for X, y in data_iter:\n",
        "    print(X, '\\n', y)\n",
        "    break"
      ],
      "execution_count": 0,
      "outputs": [
        {
          "output_type": "stream",
          "text": [
            "tensor([[-2.2536,  0.7641],\n",
            "        [ 0.1192, -0.1859],\n",
            "        [ 1.4400, -2.1984],\n",
            "        [-0.5828,  2.1122],\n",
            "        [-0.4004, -0.5972],\n",
            "        [-0.3552, -0.9153],\n",
            "        [-0.4168,  2.3914],\n",
            "        [ 1.0123, -0.3755],\n",
            "        [ 0.8284,  0.4609],\n",
            "        [-1.1718, -0.2559]]) \n",
            " tensor([-2.9058,  5.0620, 14.5611, -4.1357,  5.4450,  6.6150, -4.7626,  7.4959,\n",
            "         4.2784,  2.7301])\n"
          ],
          "name": "stdout"
        }
      ]
    },
    {
      "cell_type": "code",
      "metadata": {
        "graffitiCellId": "id_gxy6vho",
        "jupyter": {},
        "tags": [],
        "id": "28DD8C6981314D148B5FD1915639151C",
        "scrolled": false,
        "colab_type": "code",
        "colab": {},
        "outputId": "c0ba70a2-4054-45ec-a07b-7113d7062a3f"
      },
      "source": [
        "class LinearNet(nn.Module):\n",
        "    def __init__(self, n_feature):\n",
        "        super(LinearNet, self).__init__()      # call father function to init \n",
        "        self.linear = nn.Linear(n_feature, 1)  # function prototype: `torch.nn.Linear(in_features, out_features, bias=True)`\n",
        "\n",
        "    def forward(self, x):\n",
        "        y = self.linear(x)\n",
        "        return y\n",
        "    \n",
        "net = LinearNet(num_inputs)\n",
        "print(net)"
      ],
      "execution_count": 0,
      "outputs": [
        {
          "output_type": "stream",
          "text": [
            "LinearNet(\n",
            "  (linear): Linear(in_features=2, out_features=1, bias=True)\n",
            ")\n"
          ],
          "name": "stdout"
        }
      ]
    },
    {
      "cell_type": "code",
      "metadata": {
        "graffitiCellId": "id_q5pjt1j",
        "jupyter": {},
        "tags": [],
        "id": "56CADFC7B65448BC989411C2C9950816",
        "scrolled": false,
        "colab_type": "code",
        "colab": {},
        "outputId": "ccc15348-4424-401a-cebd-e2e3c4a67c41"
      },
      "source": [
        "# ways to init a multilayer network\n",
        "# method one\n",
        "net = nn.Sequential(\n",
        "    nn.Linear(num_inputs, 1)\n",
        "    # other layers can be added here\n",
        "    )\n",
        "\n",
        "# method two\n",
        "net = nn.Sequential()\n",
        "net.add_module('linear', nn.Linear(num_inputs, 1))\n",
        "# net.add_module ......\n",
        "\n",
        "# method three\n",
        "from collections import OrderedDict\n",
        "net = nn.Sequential(OrderedDict([\n",
        "          ('linear', nn.Linear(num_inputs, 1))\n",
        "          # ......\n",
        "        ]))\n",
        "\n",
        "print(net)\n",
        "print(net[0])"
      ],
      "execution_count": 0,
      "outputs": [
        {
          "output_type": "stream",
          "text": [
            "Sequential(\n",
            "  (linear): Linear(in_features=2, out_features=1, bias=True)\n",
            ")\n",
            "Linear(in_features=2, out_features=1, bias=True)\n"
          ],
          "name": "stdout"
        }
      ]
    },
    {
      "cell_type": "code",
      "metadata": {
        "graffitiCellId": "id_zdl7vmt",
        "jupyter": {},
        "tags": [],
        "id": "025B064D1ED1432385DEE75240A790F6",
        "scrolled": false,
        "colab_type": "code",
        "colab": {},
        "outputId": "dea57c54-2897-4751-c84f-64b20e3f53e2"
      },
      "source": [
        "from torch.nn import init\n",
        "\n",
        "init.normal_(net[0].weight, mean=0.0, std=0.01)\n",
        "init.constant_(net[0].bias, val=0.0)  # or you can use `net[0].bias.data.fill_(0)` to modify it directly"
      ],
      "execution_count": 0,
      "outputs": [
        {
          "output_type": "execute_result",
          "data": {
            "text/plain": [
              "Parameter containing:\n",
              "tensor([0.], requires_grad=True)"
            ]
          },
          "metadata": {
            "tags": []
          },
          "execution_count": 23
        }
      ]
    },
    {
      "cell_type": "code",
      "metadata": {
        "graffitiCellId": "id_7s9m78k",
        "jupyter": {},
        "tags": [],
        "id": "C6A909A717B545E6802264EBD711588D",
        "scrolled": false,
        "colab_type": "code",
        "colab": {},
        "outputId": "1c483b07-eaa4-40f3-d2d8-cc166b693582"
      },
      "source": [
        "for param in net.parameters():\n",
        "    print(param)"
      ],
      "execution_count": 0,
      "outputs": [
        {
          "output_type": "stream",
          "text": [
            "Parameter containing:\n",
            "tensor([[-0.0142, -0.0161]], requires_grad=True)\n",
            "Parameter containing:\n",
            "tensor([0.], requires_grad=True)\n"
          ],
          "name": "stdout"
        }
      ]
    },
    {
      "cell_type": "code",
      "metadata": {
        "graffitiCellId": "id_or1wah4",
        "jupyter": {},
        "tags": [],
        "id": "B721F8DD4811434BB1984B5B2DABC143",
        "scrolled": false,
        "colab_type": "code",
        "colab": {}
      },
      "source": [
        "loss = nn.MSELoss()    # nn built-in squared loss function\n",
        "                       # function prototype: `torch.nn.MSELoss(size_average=None, reduce=None, reduction='mean')`"
      ],
      "execution_count": 0,
      "outputs": []
    },
    {
      "cell_type": "code",
      "metadata": {
        "graffitiCellId": "id_pmx4gbq",
        "jupyter": {},
        "tags": [],
        "id": "1998CEB53B534F178AC6223011627B0B",
        "scrolled": false,
        "colab_type": "code",
        "colab": {},
        "outputId": "73076b79-5a54-47f1-f553-04501e7f918d"
      },
      "source": [
        "import torch.optim as optim\n",
        "\n",
        "optimizer = optim.SGD(net.parameters(), lr=0.03)   # built-in random gradient descent function\n",
        "print(optimizer)  # function prototype: `torch.optim.SGD(params, lr=, momentum=0, dampening=0, weight_decay=0, nesterov=False)`"
      ],
      "execution_count": 0,
      "outputs": [
        {
          "output_type": "stream",
          "text": [
            "SGD (\n",
            "Parameter Group 0\n",
            "    dampening: 0\n",
            "    lr: 0.03\n",
            "    momentum: 0\n",
            "    nesterov: False\n",
            "    weight_decay: 0\n",
            ")\n"
          ],
          "name": "stdout"
        }
      ]
    },
    {
      "cell_type": "code",
      "metadata": {
        "graffitiCellId": "id_qj2fl3l",
        "jupyter": {},
        "tags": [],
        "id": "A4B0F83F71F94728811A619F1AE74CD2",
        "scrolled": false,
        "colab_type": "code",
        "colab": {},
        "outputId": "4e5ffb51-9b0d-457e-81f0-63d204cfc160"
      },
      "source": [
        "num_epochs = 3\n",
        "for epoch in range(1, num_epochs + 1):\n",
        "    for X, y in data_iter:\n",
        "        output = net(X)\n",
        "        l = loss(output, y.view(-1, 1))\n",
        "        optimizer.zero_grad() # reset gradient, equal to net.zero_grad()\n",
        "        l.backward()\n",
        "        optimizer.step()\n",
        "    print('epoch %d, loss: %f' % (epoch, l.item()))"
      ],
      "execution_count": 0,
      "outputs": [
        {
          "output_type": "stream",
          "text": [
            "epoch 1, loss: 0.000314\n",
            "epoch 2, loss: 0.000151\n",
            "epoch 3, loss: 0.000142\n"
          ],
          "name": "stdout"
        }
      ]
    },
    {
      "cell_type": "code",
      "metadata": {
        "graffitiCellId": "id_ke4hsr4",
        "jupyter": {},
        "tags": [],
        "id": "704087439A114181B3A7FE79539127AB",
        "scrolled": false,
        "colab_type": "code",
        "colab": {},
        "outputId": "1811c9f9-c5c1-4cb2-dc41-08b40570322c"
      },
      "source": [
        "# result comparision\n",
        "dense = net[0]\n",
        "print(true_w, dense.weight.data)\n",
        "print(true_b, dense.bias.data)"
      ],
      "execution_count": 0,
      "outputs": [
        {
          "output_type": "stream",
          "text": [
            "[2, -3.4] tensor([[ 2.0001, -3.4004]])\n",
            "4.2 tensor([4.1996])\n"
          ],
          "name": "stdout"
        }
      ]
    }
  ]
}