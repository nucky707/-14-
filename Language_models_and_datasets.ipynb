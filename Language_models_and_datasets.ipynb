{
  "nbformat": 4,
  "nbformat_minor": 0,
  "metadata": {
    "kernelspec": {
      "name": "python3",
      "display_name": "Python 3",
      "language": "python"
    },
    "language_info": {
      "name": "python",
      "version": "3.7.3",
      "mimetype": "text/x-python",
      "codemirror_mode": {
        "name": "ipython",
        "version": 3
      },
      "pygments_lexer": "ipython3",
      "nbconvert_exporter": "python",
      "file_extension": ".py"
    },
    "colab": {
      "name": "Language models and datasets.ipynb",
      "provenance": []
    }
  },
  "cells": [
    {
      "cell_type": "code",
      "metadata": {
        "graffitiCellId": "id_210oytz",
        "jupyter": {},
        "tags": [],
        "id": "434D33D454FB42C38C6F9816E9E1FBF4",
        "scrolled": false,
        "colab_type": "code",
        "colab": {},
        "outputId": "37b6c622-765d-44e3-bd92-41c68e7445c8"
      },
      "source": [
        "with open('/home/kesci/input/jaychou_lyrics4703/jaychou_lyrics.txt') as f:\n",
        "    corpus_chars = f.read()\n",
        "print(len(corpus_chars))\n",
        "print(corpus_chars[: 40])\n",
        "corpus_chars = corpus_chars.replace('\\n', ' ').replace('\\r', ' ')\n",
        "corpus_chars = corpus_chars[: 10000]"
      ],
      "execution_count": 0,
      "outputs": [
        {
          "output_type": "stream",
          "text": [
            "63282\n",
            "想要有直升机\n",
            "想要和你飞到宇宙去\n",
            "想要和你融化在一起\n",
            "融化在宇宙里\n",
            "我每天每天每\n"
          ],
          "name": "stdout"
        }
      ]
    },
    {
      "cell_type": "code",
      "metadata": {
        "graffitiCellId": "id_rpxalgy",
        "jupyter": {},
        "tags": [],
        "id": "B76CFE1C0F69419AA0019EC506E6A7EB",
        "scrolled": false,
        "colab_type": "code",
        "colab": {},
        "outputId": "cb525225-6c56-43cf-c80f-04d7b50bf017"
      },
      "source": [
        "idx_to_char = list(set(corpus_chars)) # 去重，得到索引到字符的映射\n",
        "char_to_idx = {char: i for i, char in enumerate(idx_to_char)} # 字符到索引的映射\n",
        "vocab_size = len(char_to_idx)\n",
        "print(vocab_size)\n",
        "\n",
        "corpus_indices = [char_to_idx[char] for char in corpus_chars]  # 将每个字符转化为索引，得到一个索引的序列\n",
        "sample = corpus_indices[: 20]\n",
        "print('chars:', ''.join([idx_to_char[idx] for idx in sample]))\n",
        "print('indices:', sample)"
      ],
      "execution_count": 0,
      "outputs": [
        {
          "output_type": "stream",
          "text": [
            "1027\n",
            "chars: 想要有直升机 想要和你飞到宇宙去 想要和\n",
            "indices: [1022, 648, 1025, 366, 208, 792, 199, 1022, 648, 641, 607, 625, 26, 155, 130, 5, 199, 1022, 648, 641]\n"
          ],
          "name": "stdout"
        }
      ]
    },
    {
      "cell_type": "code",
      "metadata": {
        "graffitiCellId": "id_g98p1e0",
        "jupyter": {},
        "tags": [],
        "id": "82B3F014ECB14F099961B196CF98D42F",
        "scrolled": false,
        "colab_type": "code",
        "colab": {}
      },
      "source": [
        "def load_data_jay_lyrics():\n",
        "    with open('/home/kesci/input/jaychou_lyrics4703/jaychou_lyrics.txt') as f:\n",
        "        corpus_chars = f.read()\n",
        "    corpus_chars = corpus_chars.replace('\\n', ' ').replace('\\r', ' ')\n",
        "    corpus_chars = corpus_chars[0:10000]\n",
        "    idx_to_char = list(set(corpus_chars))\n",
        "    char_to_idx = dict([(char, i) for i, char in enumerate(idx_to_char)])\n",
        "    vocab_size = len(char_to_idx)\n",
        "    corpus_indices = [char_to_idx[char] for char in corpus_chars]\n",
        "    return corpus_indices, char_to_idx, idx_to_char, vocab_size"
      ],
      "execution_count": 0,
      "outputs": []
    },
    {
      "cell_type": "code",
      "metadata": {
        "graffitiCellId": "id_07sma6k",
        "jupyter": {},
        "tags": [],
        "id": "31D18572438E4FE5856F1F24BB0C430C",
        "scrolled": false,
        "colab_type": "code",
        "colab": {}
      },
      "source": [
        "import torch\n",
        "import random\n",
        "def data_iter_random(corpus_indices, batch_size, num_steps, device=None):\n",
        "    # 减1是因为对于长度为n的序列，X最多只有包含其中的前n - 1个字符\n",
        "    num_examples = (len(corpus_indices) - 1) // num_steps  # 下取整，得到不重叠情况下的样本个数\n",
        "    example_indices = [i * num_steps for i in range(num_examples)]  # 每个样本的第一个字符在corpus_indices中的下标\n",
        "    random.shuffle(example_indices)\n",
        "\n",
        "    def _data(i):\n",
        "        # 返回从i开始的长为num_steps的序列\n",
        "        return corpus_indices[i: i + num_steps]\n",
        "    if device is None:\n",
        "        device = torch.device('cuda' if torch.cuda.is_available() else 'cpu')\n",
        "    \n",
        "    for i in range(0, num_examples, batch_size):\n",
        "        # 每次选出batch_size个随机样本\n",
        "        batch_indices = example_indices[i: i + batch_size]  # 当前batch的各个样本的首字符的下标\n",
        "        X = [_data(j) for j in batch_indices]\n",
        "        Y = [_data(j + 1) for j in batch_indices]\n",
        "        yield torch.tensor(X, device=device), torch.tensor(Y, device=device)"
      ],
      "execution_count": 0,
      "outputs": []
    },
    {
      "cell_type": "code",
      "metadata": {
        "graffitiCellId": "id_30cx4t4",
        "jupyter": {},
        "tags": [],
        "id": "5E8FDD7CDC6E43D884D4976DAB8A9191",
        "scrolled": false,
        "colab_type": "code",
        "colab": {},
        "outputId": "6167cee4-3ac4-4f60-e125-cf5bce66d32f"
      },
      "source": [
        "my_seq = list(range(30))\n",
        "for X, Y in data_iter_random(my_seq, batch_size=2, num_steps=6):\n",
        "    print('X: ', X, '\\nY:', Y, '\\n')"
      ],
      "execution_count": 0,
      "outputs": [
        {
          "output_type": "stream",
          "text": [
            "X:  tensor([[ 6,  7,  8,  9, 10, 11],\n",
            "        [12, 13, 14, 15, 16, 17]]) \n",
            "Y: tensor([[ 7,  8,  9, 10, 11, 12],\n",
            "        [13, 14, 15, 16, 17, 18]]) \n",
            "\n",
            "X:  tensor([[ 0,  1,  2,  3,  4,  5],\n",
            "        [18, 19, 20, 21, 22, 23]]) \n",
            "Y: tensor([[ 1,  2,  3,  4,  5,  6],\n",
            "        [19, 20, 21, 22, 23, 24]]) \n",
            "\n"
          ],
          "name": "stdout"
        }
      ]
    },
    {
      "cell_type": "code",
      "metadata": {
        "graffitiCellId": "id_6omgvln",
        "jupyter": {},
        "tags": [],
        "id": "8A18E8E0E87641EE84B8FE61A1D9ADD6",
        "scrolled": false,
        "colab_type": "code",
        "colab": {}
      },
      "source": [
        "def data_iter_consecutive(corpus_indices, batch_size, num_steps, device=None):\n",
        "    if device is None:\n",
        "        device = torch.device('cuda' if torch.cuda.is_available() else 'cpu')\n",
        "    corpus_len = len(corpus_indices) // batch_size * batch_size  # 保留下来的序列的长度\n",
        "    corpus_indices = corpus_indices[: corpus_len]  # 仅保留前corpus_len个字符\n",
        "    indices = torch.tensor(corpus_indices, device=device)\n",
        "    indices = indices.view(batch_size, -1)  # resize成(batch_size, )\n",
        "    batch_num = (indices.shape[1] - 1) // num_steps\n",
        "    for i in range(batch_num):\n",
        "        i = i * num_steps\n",
        "        X = indices[:, i: i + num_steps]\n",
        "        Y = indices[:, i + 1: i + num_steps + 1]\n",
        "        yield X, Y"
      ],
      "execution_count": 0,
      "outputs": []
    },
    {
      "cell_type": "code",
      "metadata": {
        "graffitiCellId": "id_7t0gy91",
        "jupyter": {},
        "tags": [],
        "id": "6C18F0586CE64AC290556069BD63B15A",
        "scrolled": false,
        "colab_type": "code",
        "colab": {},
        "outputId": "d5d91613-3a4a-47c2-ba00-1670f7675a6c"
      },
      "source": [
        "for X, Y in data_iter_consecutive(my_seq, batch_size=2, num_steps=6):\n",
        "    print('X: ', X, '\\nY:', Y, '\\n')"
      ],
      "execution_count": 0,
      "outputs": [
        {
          "output_type": "stream",
          "text": [
            "X:  tensor([[ 0,  1,  2,  3,  4,  5],\n",
            "        [15, 16, 17, 18, 19, 20]]) \n",
            "Y: tensor([[ 1,  2,  3,  4,  5,  6],\n",
            "        [16, 17, 18, 19, 20, 21]]) \n",
            "\n",
            "X:  tensor([[ 6,  7,  8,  9, 10, 11],\n",
            "        [21, 22, 23, 24, 25, 26]]) \n",
            "Y: tensor([[ 7,  8,  9, 10, 11, 12],\n",
            "        [22, 23, 24, 25, 26, 27]]) \n",
            "\n"
          ],
          "name": "stdout"
        }
      ]
    }
  ]
}