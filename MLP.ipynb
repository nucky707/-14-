{
  "nbformat": 4,
  "nbformat_minor": 0,
  "metadata": {
    "kernelspec": {
      "name": "python3",
      "display_name": "Python 3",
      "language": "python"
    },
    "language_info": {
      "name": "python",
      "version": "3.7.3",
      "mimetype": "text/x-python",
      "codemirror_mode": {
        "name": "ipython",
        "version": 3
      },
      "pygments_lexer": "ipython3",
      "nbconvert_exporter": "python",
      "file_extension": ".py"
    },
    "colab": {
      "name": "MLP.ipynb",
      "provenance": []
    }
  },
  "cells": [
    {
      "cell_type": "code",
      "metadata": {
        "_cell_guid": "b1076dfc-b9ad-4769-8c92-a6c4dae69d19",
        "_uuid": "8f2839f25d086af736a60e9eeb907d3b93b6e0e5",
        "graffitiCellId": "id_ucmhsyy",
        "jupyter": {},
        "tags": [],
        "id": "C052F0E71D3D4AF984A86C9CA4175221",
        "scrolled": false,
        "colab_type": "code",
        "colab": {},
        "outputId": "b2aaa0c4-bdd7-40f3-df2e-a9cae59aea93"
      },
      "source": [
        "%matplotlib inline\n",
        "import torch\n",
        "import numpy as np\n",
        "import matplotlib.pyplot as plt\n",
        "import sys\n",
        "sys.path.append(\"/home/kesci/input\")\n",
        "import d2lzh1981 as d2l\n",
        "print(torch.__version__)"
      ],
      "execution_count": 0,
      "outputs": [
        {
          "output_type": "stream",
          "text": [
            "1.3.0\n"
          ],
          "name": "stdout"
        }
      ]
    },
    {
      "cell_type": "code",
      "metadata": {
        "_cell_guid": "79c7e3d0-c299-4dcb-8224-4455121ee9b0",
        "_uuid": "d629ff2d2480ee46fbb7e2d37f6b5fab8052498a",
        "graffitiCellId": "id_9a5gym1",
        "jupyter": {},
        "tags": [],
        "id": "B51407B8D4D445F793ACED139CA02873",
        "scrolled": false,
        "colab_type": "code",
        "colab": {}
      },
      "source": [
        "def xyplot(x_vals, y_vals, name):\n",
        "    # d2l.set_figsize(figsize=(5, 2.5))\n",
        "    plt.plot(x_vals.detach().numpy(), y_vals.detach().numpy())\n",
        "    plt.xlabel('x')\n",
        "    plt.ylabel(name + '(x)')"
      ],
      "execution_count": 0,
      "outputs": []
    },
    {
      "cell_type": "code",
      "metadata": {
        "graffitiCellId": "id_r7e89xp",
        "jupyter": {},
        "tags": [],
        "id": "070825B6A382411DA5BD7D14E67E8D54",
        "scrolled": false,
        "colab_type": "code",
        "colab": {},
        "outputId": "d5359d81-c286-48c0-8b54-c72abf15fc1a"
      },
      "source": [
        "x = torch.arange(-8.0, 8.0, 0.1, requires_grad=True)\n",
        "y = x.relu()\n",
        "xyplot(x, y, 'relu')"
      ],
      "execution_count": 0,
      "outputs": [
        {
          "output_type": "display_data",
          "data": {
            "text/plain": [
              "<Figure size 432x288 with 1 Axes>"
            ],
            "text/html": [
              "<img src=\"https://cdn.kesci.com/rt_upload/070825B6A382411DA5BD7D14E67E8D54/q5hv7cdtna.png\">"
            ]
          },
          "metadata": {
            "tags": [],
            "needs_background": "light"
          }
        }
      ]
    },
    {
      "cell_type": "code",
      "metadata": {
        "graffitiCellId": "id_ltygoau",
        "jupyter": {},
        "tags": [],
        "id": "BFB05150DBD1474D9A9ECCB9CDF1DD39",
        "scrolled": false,
        "colab_type": "code",
        "colab": {},
        "outputId": "c4f1da1d-8771-4f7c-c410-82ffdad6cf01"
      },
      "source": [
        "y.sum().backward()\n",
        "xyplot(x, x.grad, 'grad of relu')"
      ],
      "execution_count": 0,
      "outputs": [
        {
          "output_type": "display_data",
          "data": {
            "text/plain": [
              "<Figure size 432x288 with 1 Axes>"
            ],
            "text/html": [
              "<img src=\"https://cdn.kesci.com/rt_upload/BFB05150DBD1474D9A9ECCB9CDF1DD39/q5hv7c3pxb.png\">"
            ]
          },
          "metadata": {
            "tags": [],
            "needs_background": "light"
          }
        }
      ]
    },
    {
      "cell_type": "code",
      "metadata": {
        "graffitiCellId": "id_a5oy7ht",
        "jupyter": {},
        "tags": [],
        "id": "68FCB4E8142144458F13128B370D1C91",
        "scrolled": false,
        "colab_type": "code",
        "colab": {},
        "outputId": "02399e7a-1655-45cd-8dfc-f5965435dc66"
      },
      "source": [
        "y = x.sigmoid()\n",
        "xyplot(x, y, 'sigmoid')"
      ],
      "execution_count": 0,
      "outputs": [
        {
          "output_type": "display_data",
          "data": {
            "text/plain": [
              "<Figure size 432x288 with 1 Axes>"
            ],
            "text/html": [
              "<img src=\"https://cdn.kesci.com/rt_upload/68FCB4E8142144458F13128B370D1C91/q5hv7dor11.png\">"
            ]
          },
          "metadata": {
            "tags": [],
            "needs_background": "light"
          }
        }
      ]
    },
    {
      "cell_type": "code",
      "metadata": {
        "graffitiCellId": "id_1ps84t4",
        "jupyter": {},
        "tags": [],
        "id": "878C7B8823304F72860965E119A21412",
        "scrolled": false,
        "colab_type": "code",
        "colab": {},
        "outputId": "920c2356-548e-4459-e853-f2dc63972791"
      },
      "source": [
        "x.grad.zero_()\n",
        "y.sum().backward()\n",
        "xyplot(x, x.grad, 'grad of sigmoid')"
      ],
      "execution_count": 0,
      "outputs": [
        {
          "output_type": "display_data",
          "data": {
            "text/plain": [
              "<Figure size 432x288 with 1 Axes>"
            ],
            "text/html": [
              "<img src=\"https://cdn.kesci.com/rt_upload/878C7B8823304F72860965E119A21412/q5hv7dpse9.png\">"
            ]
          },
          "metadata": {
            "tags": [],
            "needs_background": "light"
          }
        }
      ]
    },
    {
      "cell_type": "code",
      "metadata": {
        "graffitiCellId": "id_m4ur5k0",
        "jupyter": {},
        "tags": [],
        "id": "92D16076309F42169482834C0B6ABB24",
        "scrolled": false,
        "colab_type": "code",
        "colab": {},
        "outputId": "81989db5-9d0d-4df5-c784-0efe28bfc842"
      },
      "source": [
        "y = x.tanh()\n",
        "xyplot(x, y, 'tanh')"
      ],
      "execution_count": 0,
      "outputs": [
        {
          "output_type": "display_data",
          "data": {
            "text/plain": [
              "<Figure size 432x288 with 1 Axes>"
            ],
            "text/html": [
              "<img src=\"https://cdn.kesci.com/rt_upload/92D16076309F42169482834C0B6ABB24/q5hv7dfeso.png\">"
            ]
          },
          "metadata": {
            "tags": [],
            "needs_background": "light"
          }
        }
      ]
    },
    {
      "cell_type": "code",
      "metadata": {
        "graffitiCellId": "id_i1mi17x",
        "jupyter": {},
        "tags": [],
        "id": "CB16F4B33E664E14BCE8E52D8B37C47F",
        "scrolled": false,
        "colab_type": "code",
        "colab": {},
        "outputId": "5b7eee6c-39f1-4aaa-f6d8-6536da0ebcd0"
      },
      "source": [
        "x.grad.zero_()\n",
        "y.sum().backward()\n",
        "xyplot(x, x.grad, 'grad of tanh')"
      ],
      "execution_count": 0,
      "outputs": [
        {
          "output_type": "display_data",
          "data": {
            "text/plain": [
              "<Figure size 432x288 with 1 Axes>"
            ],
            "text/html": [
              "<img src=\"https://cdn.kesci.com/rt_upload/CB16F4B33E664E14BCE8E52D8B37C47F/q5hv7ejc8y.png\">"
            ]
          },
          "metadata": {
            "tags": [],
            "needs_background": "light"
          }
        }
      ]
    },
    {
      "cell_type": "code",
      "metadata": {
        "graffitiCellId": "id_6a7tvf7",
        "jupyter": {},
        "tags": [],
        "id": "78607977A6E44F26AE3FCB420BFB8692",
        "scrolled": false,
        "colab_type": "code",
        "colab": {},
        "outputId": "6f21802d-5022-426a-eb9f-df1ae2555e85"
      },
      "source": [
        "import torch\n",
        "import numpy as np\n",
        "import sys\n",
        "sys.path.append(\"/home/kesci/input\")\n",
        "import d2lzh1981 as d2l\n",
        "print(torch.__version__)"
      ],
      "execution_count": 0,
      "outputs": [
        {
          "output_type": "stream",
          "text": [
            "1.3.0\n"
          ],
          "name": "stdout"
        }
      ]
    },
    {
      "cell_type": "code",
      "metadata": {
        "graffitiCellId": "id_6ko1fuu",
        "jupyter": {},
        "tags": [],
        "id": "62706F910EA649E2AF9E51DD0579239B",
        "scrolled": false,
        "colab_type": "code",
        "colab": {}
      },
      "source": [
        "batch_size = 256\n",
        "train_iter, test_iter = d2l.load_data_fashion_mnist(batch_size,root='/home/kesci/input/FashionMNIST2065')"
      ],
      "execution_count": 0,
      "outputs": []
    },
    {
      "cell_type": "code",
      "metadata": {
        "graffitiCellId": "id_a3vvut6",
        "jupyter": {},
        "tags": [],
        "id": "48A8DC61D8194E3890FDCF01C10C07AB",
        "scrolled": false,
        "colab_type": "code",
        "colab": {}
      },
      "source": [
        "num_inputs, num_outputs, num_hiddens = 784, 10, 256\n",
        "\n",
        "W1 = torch.tensor(np.random.normal(0, 0.01, (num_inputs, num_hiddens)), dtype=torch.float)\n",
        "b1 = torch.zeros(num_hiddens, dtype=torch.float)\n",
        "W2 = torch.tensor(np.random.normal(0, 0.01, (num_hiddens, num_outputs)), dtype=torch.float)\n",
        "b2 = torch.zeros(num_outputs, dtype=torch.float)\n",
        "\n",
        "params = [W1, b1, W2, b2]\n",
        "for param in params:\n",
        "    param.requires_grad_(requires_grad=True)"
      ],
      "execution_count": 0,
      "outputs": []
    },
    {
      "cell_type": "code",
      "metadata": {
        "graffitiCellId": "id_2mvw62w",
        "jupyter": {},
        "tags": [],
        "id": "314B5039D00444F1A141936DA9DEEFC7",
        "scrolled": false,
        "colab_type": "code",
        "colab": {}
      },
      "source": [
        "def relu(X):\n",
        "    return torch.max(input=X, other=torch.tensor(0.0))"
      ],
      "execution_count": 0,
      "outputs": []
    },
    {
      "cell_type": "code",
      "metadata": {
        "graffitiCellId": "id_pxbcyd5",
        "jupyter": {},
        "tags": [],
        "id": "EC0C168D06FD42BA88530E69F21654FF",
        "scrolled": false,
        "colab_type": "code",
        "colab": {}
      },
      "source": [
        "def net(X):\n",
        "    X = X.view((-1, num_inputs))\n",
        "    H = relu(torch.matmul(X, W1) + b1)\n",
        "    return torch.matmul(H, W2) + b2"
      ],
      "execution_count": 0,
      "outputs": []
    },
    {
      "cell_type": "code",
      "metadata": {
        "graffitiCellId": "id_ep9jbkk",
        "jupyter": {},
        "tags": [],
        "id": "228E4F03614B4D4F8FD4136585679D30",
        "scrolled": false,
        "colab_type": "code",
        "colab": {}
      },
      "source": [
        "loss = torch.nn.CrossEntropyLoss()"
      ],
      "execution_count": 0,
      "outputs": []
    },
    {
      "cell_type": "code",
      "metadata": {
        "graffitiCellId": "id_zzbl9up",
        "jupyter": {},
        "tags": [],
        "id": "35447C7516C14503951036182938A66C",
        "scrolled": false,
        "colab_type": "code",
        "colab": {},
        "outputId": "99309792-8d7d-4adf-d42d-234e13e9d70b"
      },
      "source": [
        "num_epochs, lr = 5, 100.0\n",
        "# def train_ch3(net, train_iter, test_iter, loss, num_epochs, batch_size,\n",
        "#               params=None, lr=None, optimizer=None):\n",
        "#     for epoch in range(num_epochs):\n",
        "#         train_l_sum, train_acc_sum, n = 0.0, 0.0, 0\n",
        "#         for X, y in train_iter:\n",
        "#             y_hat = net(X)\n",
        "#             l = loss(y_hat, y).sum()\n",
        "#             \n",
        "#             # 梯度清零\n",
        "#             if optimizer is not None:\n",
        "#                 optimizer.zero_grad()\n",
        "#             elif params is not None and params[0].grad is not None:\n",
        "#                 for param in params:\n",
        "#                     param.grad.data.zero_()\n",
        "#            \n",
        "#             l.backward()\n",
        "#             if optimizer is None:\n",
        "#                 d2l.sgd(params, lr, batch_size)\n",
        "#             else:\n",
        "#                 optimizer.step()  # “softmax回归的简洁实现”一节将用到\n",
        "#             \n",
        "#             \n",
        "#             train_l_sum += l.item()\n",
        "#             train_acc_sum += (y_hat.argmax(dim=1) == y).sum().item()\n",
        "#             n += y.shape[0]\n",
        "#         test_acc = evaluate_accuracy(test_iter, net)\n",
        "#         print('epoch %d, loss %.4f, train acc %.3f, test acc %.3f'\n",
        "#               % (epoch + 1, train_l_sum / n, train_acc_sum / n, test_acc))\n",
        "\n",
        "d2l.train_ch3(net, train_iter, test_iter, loss, num_epochs, batch_size, params, lr)"
      ],
      "execution_count": 0,
      "outputs": [
        {
          "output_type": "stream",
          "text": [
            "epoch 1, loss 0.0030, train acc 0.712, test acc 0.806\n",
            "epoch 2, loss 0.0019, train acc 0.821, test acc 0.806\n",
            "epoch 3, loss 0.0017, train acc 0.847, test acc 0.825\n",
            "epoch 4, loss 0.0015, train acc 0.856, test acc 0.834\n",
            "epoch 5, loss 0.0015, train acc 0.863, test acc 0.847\n"
          ],
          "name": "stdout"
        }
      ]
    },
    {
      "cell_type": "code",
      "metadata": {
        "graffitiCellId": "id_y3ww285",
        "jupyter": {},
        "tags": [],
        "id": "717B8BFCFA264BF18F5A0A4972F73194",
        "scrolled": false,
        "colab_type": "code",
        "colab": {},
        "outputId": "e96a29b8-1654-4472-d599-be992735c730"
      },
      "source": [
        "import torch\n",
        "from torch import nn\n",
        "from torch.nn import init\n",
        "import numpy as np\n",
        "import sys\n",
        "sys.path.append(\"/home/kesci/input\")\n",
        "import d2lzh1981 as d2l\n",
        "\n",
        "print(torch.__version__)"
      ],
      "execution_count": 0,
      "outputs": [
        {
          "output_type": "stream",
          "text": [
            "1.3.0\n"
          ],
          "name": "stdout"
        }
      ]
    },
    {
      "cell_type": "code",
      "metadata": {
        "graffitiCellId": "id_r2zss0i",
        "jupyter": {},
        "tags": [],
        "id": "5B2A503B8DF6469698CC54C189494FAA",
        "scrolled": false,
        "colab_type": "code",
        "colab": {}
      },
      "source": [
        "num_inputs, num_outputs, num_hiddens = 784, 10, 256\n",
        "    \n",
        "net = nn.Sequential(\n",
        "        d2l.FlattenLayer(),\n",
        "        nn.Linear(num_inputs, num_hiddens),\n",
        "        nn.ReLU(),\n",
        "        nn.Linear(num_hiddens, num_outputs), \n",
        "        )\n",
        "    \n",
        "for params in net.parameters():\n",
        "    init.normal_(params, mean=0, std=0.01)"
      ],
      "execution_count": 0,
      "outputs": []
    },
    {
      "cell_type": "code",
      "metadata": {
        "graffitiCellId": "id_0az2fbu",
        "jupyter": {},
        "tags": [],
        "id": "505BC0B5184046608BEB4A54C249172C",
        "scrolled": false,
        "colab_type": "code",
        "colab": {},
        "outputId": "4cb12cf4-b9d7-4451-9005-6b8c250bd25c"
      },
      "source": [
        "batch_size = 256\n",
        "train_iter, test_iter = d2l.load_data_fashion_mnist(batch_size,root='/home/kesci/input/FashionMNIST2065')\n",
        "loss = torch.nn.CrossEntropyLoss()\n",
        "\n",
        "optimizer = torch.optim.SGD(net.parameters(), lr=0.5)\n",
        "\n",
        "num_epochs = 5\n",
        "d2l.train_ch3(net, train_iter, test_iter, loss, num_epochs, batch_size, None, None, optimizer)"
      ],
      "execution_count": 0,
      "outputs": [
        {
          "output_type": "stream",
          "text": [
            "epoch 1, loss 0.0031, train acc 0.701, test acc 0.774\n",
            "epoch 2, loss 0.0019, train acc 0.821, test acc 0.806\n",
            "epoch 3, loss 0.0017, train acc 0.841, test acc 0.805\n",
            "epoch 4, loss 0.0015, train acc 0.855, test acc 0.834\n",
            "epoch 5, loss 0.0014, train acc 0.866, test acc 0.840\n"
          ],
          "name": "stdout"
        }
      ]
    }
  ]
}