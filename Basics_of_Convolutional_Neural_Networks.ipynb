{
  "nbformat": 4,
  "nbformat_minor": 0,
  "metadata": {
    "kernelspec": {
      "name": "python3",
      "display_name": "Python 3",
      "language": "python"
    },
    "language_info": {
      "name": "python",
      "version": "3.7.3",
      "mimetype": "text/x-python",
      "codemirror_mode": {
        "name": "ipython",
        "version": 3
      },
      "pygments_lexer": "ipython3",
      "nbconvert_exporter": "python",
      "file_extension": ".py"
    },
    "colab": {
      "name": "Basics of Convolutional Neural Networks.ipynb",
      "provenance": []
    }
  },
  "cells": [
    {
      "cell_type": "code",
      "metadata": {
        "graffitiCellId": "id_nculyfq",
        "jupyter": {},
        "tags": [],
        "id": "27AD46C637CE4BF88964BE3C22E6D4DB",
        "scrolled": false,
        "colab_type": "code",
        "colab": {}
      },
      "source": [
        "import torch \n",
        "import torch.nn as nn\n",
        "\n",
        "def corr2d(X, K):\n",
        "    H, W = X.shape\n",
        "    h, w = K.shape\n",
        "    Y = torch.zeros(H - h + 1, W - w + 1)\n",
        "    for i in range(Y.shape[0]):\n",
        "        for j in range(Y.shape[1]):\n",
        "            Y[i, j] = (X[i: i + h, j: j + w] * K).sum()\n",
        "    return Y"
      ],
      "execution_count": 0,
      "outputs": []
    },
    {
      "cell_type": "code",
      "metadata": {
        "graffitiCellId": "id_ou9gykf",
        "jupyter": {},
        "tags": [],
        "id": "D6B5388CE30B4280A8EAC9C1E6160CED",
        "scrolled": false,
        "colab_type": "code",
        "colab": {},
        "outputId": "20783c1c-67b1-4f12-d1b1-ec678abd6394"
      },
      "source": [
        "X = torch.tensor([[0, 1, 2], [3, 4, 5], [6, 7, 8]])\n",
        "K = torch.tensor([[0, 1], [2, 3]])\n",
        "Y = corr2d(X, K)\n",
        "print(Y)"
      ],
      "execution_count": 0,
      "outputs": [
        {
          "output_type": "stream",
          "text": [
            "tensor([[19., 25.],\n",
            "        [37., 43.]])\n"
          ],
          "name": "stdout"
        }
      ]
    },
    {
      "cell_type": "code",
      "metadata": {
        "graffitiCellId": "id_wqfawao",
        "jupyter": {},
        "tags": [],
        "id": "02665E066AC949A2985642A92FC6352A",
        "scrolled": false,
        "colab_type": "code",
        "colab": {}
      },
      "source": [
        "class Conv2D(nn.Module):\n",
        "    def __init__(self, kernel_size):\n",
        "        super(Conv2D, self).__init__()\n",
        "        self.weight = nn.Parameter(torch.randn(kernel_size))\n",
        "        self.bias = nn.Parameter(torch.randn(1))\n",
        "\n",
        "    def forward(self, x):\n",
        "        return corr2d(x, self.weight) + self.bias"
      ],
      "execution_count": 0,
      "outputs": []
    },
    {
      "cell_type": "code",
      "metadata": {
        "graffitiCellId": "id_w4j38om",
        "jupyter": {},
        "tags": [],
        "id": "F7CC03E43D714175ADD7D490EE3BC0CB",
        "scrolled": false,
        "colab_type": "code",
        "colab": {},
        "outputId": "75b511c2-7e7c-4ce5-f307-9fb0cc0478b2"
      },
      "source": [
        "X = torch.ones(6, 8)\n",
        "Y = torch.zeros(6, 7)\n",
        "X[:, 2: 6] = 0\n",
        "Y[:, 1] = 1\n",
        "Y[:, 5] = -1\n",
        "print(X)\n",
        "print(Y)"
      ],
      "execution_count": 0,
      "outputs": [
        {
          "output_type": "stream",
          "text": [
            "tensor([[1., 1., 0., 0., 0., 0., 1., 1.],\n",
            "        [1., 1., 0., 0., 0., 0., 1., 1.],\n",
            "        [1., 1., 0., 0., 0., 0., 1., 1.],\n",
            "        [1., 1., 0., 0., 0., 0., 1., 1.],\n",
            "        [1., 1., 0., 0., 0., 0., 1., 1.],\n",
            "        [1., 1., 0., 0., 0., 0., 1., 1.]])\n",
            "tensor([[ 0.,  1.,  0.,  0.,  0., -1.,  0.],\n",
            "        [ 0.,  1.,  0.,  0.,  0., -1.,  0.],\n",
            "        [ 0.,  1.,  0.,  0.,  0., -1.,  0.],\n",
            "        [ 0.,  1.,  0.,  0.,  0., -1.,  0.],\n",
            "        [ 0.,  1.,  0.,  0.,  0., -1.,  0.],\n",
            "        [ 0.,  1.,  0.,  0.,  0., -1.,  0.]])\n"
          ],
          "name": "stdout"
        }
      ]
    },
    {
      "cell_type": "code",
      "metadata": {
        "graffitiCellId": "id_d05ejpd",
        "jupyter": {},
        "tags": [],
        "id": "1D790E2D3B7E4835994C7198A830DA9D",
        "scrolled": false,
        "colab_type": "code",
        "colab": {},
        "outputId": "68a6d4a4-37bf-478e-834e-8d3199ab3b7b"
      },
      "source": [
        "conv2d = Conv2D(kernel_size=(1, 2))\n",
        "step = 30\n",
        "lr = 0.01\n",
        "for i in range(step):\n",
        "    Y_hat = conv2d(X)\n",
        "    l = ((Y_hat - Y) ** 2).sum()\n",
        "    l.backward()\n",
        "    # 梯度下降\n",
        "    conv2d.weight.data -= lr * conv2d.weight.grad\n",
        "    conv2d.bias.data -= lr * conv2d.bias.grad\n",
        "    \n",
        "    # 梯度清零\n",
        "    conv2d.weight.grad.zero_()\n",
        "    conv2d.bias.grad.zero_()\n",
        "    if (i + 1) % 5 == 0:\n",
        "        print('Step %d, loss %.3f' % (i + 1, l.item()))\n",
        "        \n",
        "print(conv2d.weight.data)\n",
        "print(conv2d.bias.data)"
      ],
      "execution_count": 0,
      "outputs": [
        {
          "output_type": "stream",
          "text": [
            "Step 5, loss 4.569\n",
            "Step 10, loss 0.949\n",
            "Step 15, loss 0.228\n",
            "Step 20, loss 0.060\n",
            "Step 25, loss 0.016\n",
            "Step 30, loss 0.004\n",
            "tensor([[ 1.0161, -1.0177]])\n",
            "tensor([0.0009])\n"
          ],
          "name": "stdout"
        }
      ]
    },
    {
      "cell_type": "code",
      "metadata": {
        "graffitiCellId": "id_50vlm3f",
        "jupyter": {},
        "tags": [],
        "id": "8C48648624FC4CB98EB0FC69A020F59C",
        "scrolled": false,
        "colab_type": "code",
        "colab": {},
        "outputId": "75e91265-3b86-4ac8-ad82-a84335a3f911"
      },
      "source": [
        "X = torch.rand(4, 2, 3, 5)\n",
        "print(X.shape)\n",
        "\n",
        "conv2d = nn.Conv2d(in_channels=2, out_channels=3, kernel_size=(3, 5), stride=1, padding=(1, 2))\n",
        "Y = conv2d(X)\n",
        "print('Y.shape: ', Y.shape)\n",
        "print('weight.shape: ', conv2d.weight.shape)\n",
        "print('bias.shape: ', conv2d.bias.shape)"
      ],
      "execution_count": 0,
      "outputs": [
        {
          "output_type": "stream",
          "text": [
            "torch.Size([4, 2, 3, 5])\n",
            "Y.shape:  torch.Size([4, 3, 3, 5])\n",
            "weight.shape:  torch.Size([3, 2, 3, 5])\n",
            "bias.shape:  torch.Size([3])\n"
          ],
          "name": "stdout"
        }
      ]
    },
    {
      "cell_type": "code",
      "metadata": {
        "graffitiCellId": "id_euby6h0",
        "jupyter": {},
        "tags": [],
        "id": "055AED0960484D6F8B219367AC8542F5",
        "scrolled": false,
        "colab_type": "code",
        "colab": {},
        "outputId": "a3f4ecd7-defe-44ef-ca2b-29ae2a5c3d84"
      },
      "source": [
        "X = torch.arange(32, dtype=torch.float32).view(1, 2, 4, 4)\n",
        "pool2d = nn.MaxPool2d(kernel_size=3, padding=1, stride=(2, 1))\n",
        "Y = pool2d(X)\n",
        "print(X)\n",
        "print(Y)"
      ],
      "execution_count": 0,
      "outputs": [
        {
          "output_type": "stream",
          "text": [
            "tensor([[[[ 0.,  1.,  2.,  3.],\n",
            "          [ 4.,  5.,  6.,  7.],\n",
            "          [ 8.,  9., 10., 11.],\n",
            "          [12., 13., 14., 15.]],\n",
            "\n",
            "         [[16., 17., 18., 19.],\n",
            "          [20., 21., 22., 23.],\n",
            "          [24., 25., 26., 27.],\n",
            "          [28., 29., 30., 31.]]]])\n",
            "tensor([[[[ 5.,  6.,  7.,  7.],\n",
            "          [13., 14., 15., 15.]],\n",
            "\n",
            "         [[21., 22., 23., 23.],\n",
            "          [29., 30., 31., 31.]]]])\n"
          ],
          "name": "stdout"
        }
      ]
    }
  ]
}