{
  "nbformat": 4,
  "nbformat_minor": 0,
  "metadata": {
    "kernelspec": {
      "name": "python3",
      "display_name": "Python 3",
      "language": "python"
    },
    "language_info": {
      "name": "python",
      "version": "3.7.3",
      "mimetype": "text/x-python",
      "codemirror_mode": {
        "name": "ipython",
        "version": 3
      },
      "pygments_lexer": "ipython3",
      "nbconvert_exporter": "python",
      "file_extension": ".py"
    },
    "colab": {
      "name": "LeNet.ipynb",
      "provenance": []
    }
  },
  "cells": [
    {
      "cell_type": "code",
      "metadata": {
        "colab_type": "code",
        "graffitiCellId": "id_r0mf24i",
        "id": "DHAr1_2J1jMC",
        "jupyter": {},
        "tags": [],
        "scrolled": false,
        "colab": {}
      },
      "source": [
        "#import\n",
        "import sys\n",
        "sys.path.append(\"/home/kesci/input\")\n",
        "import d2lzh1981 as d2l\n",
        "import torch\n",
        "import torch.nn as nn\n",
        "import torch.optim as optim\n",
        "import time"
      ],
      "execution_count": 0,
      "outputs": []
    },
    {
      "cell_type": "code",
      "metadata": {
        "colab_type": "code",
        "graffitiCellId": "id_jxhddby",
        "id": "hp3vLYIbdbhd",
        "jupyter": {},
        "tags": [],
        "scrolled": false,
        "colab": {}
      },
      "source": [
        "#net\n",
        "class Flatten(torch.nn.Module):  #展平操作\n",
        "    def forward(self, x):\n",
        "        return x.view(x.shape[0], -1)\n",
        "\n",
        "class Reshape(torch.nn.Module): #将图像大小重定型\n",
        "    def forward(self, x):\n",
        "        return x.view(-1,1,28,28)      #(B x C x H x W)\n",
        "    \n",
        "net = torch.nn.Sequential(     #Lelet                                                  \n",
        "    Reshape(),\n",
        "    nn.Conv2d(in_channels=1, out_channels=6, kernel_size=5, padding=2), #b*1*28*28  =>b*6*28*28\n",
        "    nn.Sigmoid(),                                                       \n",
        "    nn.AvgPool2d(kernel_size=2, stride=2),                              #b*6*28*28  =>b*6*14*14\n",
        "    nn.Conv2d(in_channels=6, out_channels=16, kernel_size=5),           #b*6*14*14  =>b*16*10*10\n",
        "    nn.Sigmoid(),\n",
        "    nn.AvgPool2d(kernel_size=2, stride=2),                              #b*16*10*10  => b*16*5*5\n",
        "    Flatten(),                                                          #b*16*5*5   => b*400\n",
        "    nn.Linear(in_features=16*5*5, out_features=120),\n",
        "    nn.Sigmoid(),\n",
        "    nn.Linear(120, 84),\n",
        "    nn.Sigmoid(),\n",
        "    nn.Linear(84, 10)\n",
        ")"
      ],
      "execution_count": 0,
      "outputs": []
    },
    {
      "cell_type": "code",
      "metadata": {
        "colab_type": "code",
        "graffitiCellId": "id_l3of2c4",
        "id": "yiamwgtvdbhh",
        "outputId": "88be586b-b793-48b7-f4e2-7e598cecd22e",
        "jupyter": {},
        "tags": [],
        "scrolled": false,
        "colab": {
          "base_uri": "https://localhost:8080/",
          "height": 238
        }
      },
      "source": [
        "#print\n",
        "X = torch.randn(size=(1,1,28,28), dtype = torch.float32)\n",
        "for layer in net:\n",
        "    X = layer(X)\n",
        "    print(layer.__class__.__name__,'output shape: \\t',X.shape)"
      ],
      "execution_count": 0,
      "outputs": [
        {
          "output_type": "stream",
          "text": [
            "Reshape output shape: \t torch.Size([1, 1, 28, 28])\n",
            "Conv2d output shape: \t torch.Size([1, 6, 28, 28])\n",
            "Sigmoid output shape: \t torch.Size([1, 6, 28, 28])\n",
            "AvgPool2d output shape: \t torch.Size([1, 6, 14, 14])\n",
            "Conv2d output shape: \t torch.Size([1, 16, 10, 10])\n",
            "Sigmoid output shape: \t torch.Size([1, 16, 10, 10])\n",
            "AvgPool2d output shape: \t torch.Size([1, 16, 5, 5])\n",
            "Flatten output shape: \t torch.Size([1, 400])\n",
            "Linear output shape: \t torch.Size([1, 120])\n",
            "Sigmoid output shape: \t torch.Size([1, 120])\n",
            "Linear output shape: \t torch.Size([1, 84])\n",
            "Sigmoid output shape: \t torch.Size([1, 84])\n",
            "Linear output shape: \t torch.Size([1, 10])\n"
          ],
          "name": "stdout"
        }
      ]
    },
    {
      "cell_type": "code",
      "metadata": {
        "colab_type": "code",
        "graffitiCellId": "id_f0dgnij",
        "id": "ECMwOKTzdbhr",
        "outputId": "9a7f2ac9-c95b-4bbb-e902-dcfbfd16301a",
        "scrolled": false,
        "jupyter": {},
        "tags": [],
        "colab": {
          "base_uri": "https://localhost:8080/",
          "height": 275
        }
      },
      "source": [
        "# 数据\n",
        "batch_size = 256\n",
        "train_iter, test_iter = d2l.load_data_fashion_mnist(\n",
        "    batch_size=batch_size, root='/home/kesci/input/FashionMNIST2065')\n",
        "print(len(train_iter))\n"
      ],
      "execution_count": 0,
      "outputs": [
        {
          "output_type": "stream",
          "text": [
            "235\n"
          ],
          "name": "stdout"
        }
      ]
    },
    {
      "cell_type": "code",
      "metadata": {
        "graffitiCellId": "id_d5nld6i",
        "jupyter": {},
        "tags": [],
        "id": "4FE5CE6E20494BFE898E9D8EAAF30C7B",
        "scrolled": false,
        "colab_type": "code",
        "colab": {},
        "outputId": "b4e306af-8f0d-4dd0-8bdd-27dbbe5ef1b2"
      },
      "source": [
        "#数据展示\n",
        "import matplotlib.pyplot as plt\n",
        "def show_fashion_mnist(images, labels):\n",
        "    d2l.use_svg_display()\n",
        "    # 这里的_表示我们忽略（不使用）的变量\n",
        "    _, figs = plt.subplots(1, len(images), figsize=(12, 12))\n",
        "    for f, img, lbl in zip(figs, images, labels):\n",
        "        f.imshow(img.view((28, 28)).numpy())\n",
        "        f.set_title(lbl)\n",
        "        f.axes.get_xaxis().set_visible(False)\n",
        "        f.axes.get_yaxis().set_visible(False)\n",
        "    plt.show()\n",
        "\n",
        "for Xdata,ylabel in train_iter:\n",
        "    break\n",
        "X, y = [], []\n",
        "for i in range(10):\n",
        "    print(Xdata[i].shape,ylabel[i].numpy())\n",
        "    X.append(Xdata[i]) # 将第i个feature加到X中\n",
        "    y.append(ylabel[i].numpy()) # 将第i个label加到y中\n",
        "show_fashion_mnist(X, y)"
      ],
      "execution_count": 0,
      "outputs": [
        {
          "output_type": "stream",
          "text": [
            "torch.Size([1, 28, 28]) 3\n",
            "torch.Size([1, 28, 28]) 8\n",
            "torch.Size([1, 28, 28]) 1\n",
            "torch.Size([1, 28, 28]) 4\n",
            "torch.Size([1, 28, 28]) 0\n",
            "torch.Size([1, 28, 28]) 0\n",
            "torch.Size([1, 28, 28]) 4\n",
            "torch.Size([1, 28, 28]) 9\n",
            "torch.Size([1, 28, 28]) 4\n",
            "torch.Size([1, 28, 28]) 7\n"
          ],
          "name": "stdout"
        },
        {
          "output_type": "display_data",
          "data": {
            "text/plain": [
              "<Figure size 864x864 with 10 Axes>"
            ],
            "text/html": [
              "<img src=\"https://cdn.kesci.com/rt_upload/4FE5CE6E20494BFE898E9D8EAAF30C7B/q5ndypu2sq.svg\">"
            ]
          },
          "metadata": {
            "tags": [],
            "needs_background": "light"
          }
        }
      ]
    },
    {
      "cell_type": "code",
      "metadata": {
        "colab_type": "code",
        "graffitiCellId": "id_xnv8h9s",
        "id": "Y3zs_KyHdbhv",
        "outputId": "da77a9d2-55c9-4781-8132-7ebba7f6f3f6",
        "jupyter": {},
        "tags": [],
        "scrolled": false,
        "colab": {
          "base_uri": "https://localhost:8080/",
          "height": 34
        }
      },
      "source": [
        "# This function has been saved in the d2l package for future use\n",
        "#use GPU\n",
        "def try_gpu():\n",
        "    \"\"\"If GPU is available, return torch.device as cuda:0; else return torch.device as cpu.\"\"\"\n",
        "    if torch.cuda.is_available():\n",
        "        device = torch.device('cuda:0')\n",
        "    else:\n",
        "        device = torch.device('cpu')\n",
        "    return device\n",
        "\n",
        "device = try_gpu()\n",
        "device"
      ],
      "execution_count": 0,
      "outputs": [
        {
          "output_type": "execute_result",
          "data": {
            "text/plain": [
              "device(type='cpu')"
            ]
          },
          "metadata": {
            "tags": []
          },
          "execution_count": 6
        }
      ]
    },
    {
      "cell_type": "code",
      "metadata": {
        "colab_type": "code",
        "graffitiCellId": "id_x6dxfdo",
        "id": "g4iEi1U8dbh0",
        "jupyter": {},
        "tags": [],
        "scrolled": false,
        "colab": {}
      },
      "source": [
        "\n",
        "#计算准确率\n",
        "'''\n",
        "(1). net.train()\n",
        "  启用 BatchNormalization 和 Dropout，将BatchNormalization和Dropout置为True\n",
        "(2). net.eval()\n",
        "不启用 BatchNormalization 和 Dropout，将BatchNormalization和Dropout置为False\n",
        "'''\n",
        "\n",
        "def evaluate_accuracy(data_iter, net,device=torch.device('cpu')):\n",
        "    \"\"\"Evaluate accuracy of a model on the given data set.\"\"\"\n",
        "    acc_sum,n = torch.tensor([0],dtype=torch.float32,device=device),0\n",
        "    for X,y in data_iter:\n",
        "        # If device is the GPU, copy the data to the GPU.\n",
        "        X,y = X.to(device),y.to(device)\n",
        "        net.eval()\n",
        "        with torch.no_grad():\n",
        "            y = y.long()\n",
        "            acc_sum += torch.sum((torch.argmax(net(X), dim=1) == y))  #[[0.2 ,0.4 ,0.5 ,0.6 ,0.8] ,[ 0.1,0.2 ,0.4 ,0.3 ,0.1]] => [ 4 , 2 ]\n",
        "            n += y.shape[0]\n",
        "    return acc_sum.item()/n"
      ],
      "execution_count": 0,
      "outputs": []
    },
    {
      "cell_type": "code",
      "metadata": {
        "colab_type": "code",
        "graffitiCellId": "id_e22sitj",
        "id": "WQ8PZBb4dbh4",
        "jupyter": {},
        "tags": [],
        "scrolled": false,
        "colab": {}
      },
      "source": [
        "#训练函数\n",
        "def train_ch5(net, train_iter, test_iter,criterion, num_epochs, batch_size, device,lr=None):\n",
        "    \"\"\"Train and evaluate a model with CPU or GPU.\"\"\"\n",
        "    print('training on', device)\n",
        "    net.to(device)\n",
        "    optimizer = optim.SGD(net.parameters(), lr=lr)\n",
        "    for epoch in range(num_epochs):\n",
        "        train_l_sum = torch.tensor([0.0],dtype=torch.float32,device=device)\n",
        "        train_acc_sum = torch.tensor([0.0],dtype=torch.float32,device=device)\n",
        "        n, start = 0, time.time()\n",
        "        for X, y in train_iter:\n",
        "            net.train()\n",
        "            \n",
        "            optimizer.zero_grad()\n",
        "            X,y = X.to(device),y.to(device) \n",
        "            y_hat = net(X)\n",
        "            loss = criterion(y_hat, y)\n",
        "            loss.backward()\n",
        "            optimizer.step()\n",
        "            \n",
        "            with torch.no_grad():\n",
        "                y = y.long()\n",
        "                train_l_sum += loss.float()\n",
        "                train_acc_sum += (torch.sum((torch.argmax(y_hat, dim=1) == y))).float()\n",
        "                n += y.shape[0]\n",
        "        test_acc = evaluate_accuracy(test_iter, net,device)\n",
        "        print('epoch %d, loss %.4f, train acc %.3f, test acc %.3f, '\n",
        "              'time %.1f sec'\n",
        "              % (epoch + 1, train_l_sum/n, train_acc_sum/n, test_acc,\n",
        "                 time.time() - start))"
      ],
      "execution_count": 0,
      "outputs": []
    },
    {
      "cell_type": "code",
      "metadata": {
        "colab_type": "code",
        "graffitiCellId": "id_k8iyyir",
        "id": "SRwnEh4ndbh7",
        "outputId": "abcc9495-ed33-41a2-c6f5-7bcb8b82c3e4",
        "scrolled": false,
        "jupyter": {},
        "tags": [],
        "colab": {
          "base_uri": "https://localhost:8080/",
          "height": 119
        }
      },
      "source": [
        "# 训练\n",
        "lr, num_epochs = 0.9, 10\n",
        "\n",
        "def init_weights(m):\n",
        "    if type(m) == nn.Linear or type(m) == nn.Conv2d:\n",
        "        torch.nn.init.xavier_uniform_(m.weight)\n",
        "\n",
        "net.apply(init_weights)\n",
        "net = net.to(device)\n",
        "\n",
        "criterion = nn.CrossEntropyLoss()   #交叉熵描述了两个概率分布之间的距离，交叉熵越小说明两者之间越接近\n",
        "train_ch5(net, train_iter, test_iter, criterion,num_epochs, batch_size,device, lr)"
      ],
      "execution_count": 0,
      "outputs": [
        {
          "output_type": "stream",
          "text": [
            "training on cpu\n",
            "epoch 1, loss 0.0091, train acc 0.100, test acc 0.168, time 21.6 sec\n",
            "epoch 2, loss 0.0065, train acc 0.355, test acc 0.599, time 21.5 sec\n",
            "epoch 3, loss 0.0035, train acc 0.651, test acc 0.665, time 21.8 sec\n",
            "epoch 4, loss 0.0028, train acc 0.717, test acc 0.723, time 21.7 sec\n",
            "epoch 5, loss 0.0025, train acc 0.746, test acc 0.753, time 21.4 sec\n",
            "epoch 6, loss 0.0023, train acc 0.767, test acc 0.754, time 21.5 sec\n",
            "epoch 7, loss 0.0022, train acc 0.782, test acc 0.785, time 21.3 sec\n",
            "epoch 8, loss 0.0021, train acc 0.798, test acc 0.791, time 21.8 sec\n",
            "epoch 9, loss 0.0019, train acc 0.811, test acc 0.790, time 22.0 sec\n",
            "epoch 10, loss 0.0019, train acc 0.821, test acc 0.804, time 22.1 sec\n"
          ],
          "name": "stdout"
        }
      ]
    },
    {
      "cell_type": "code",
      "metadata": {
        "graffitiCellId": "id_y3tdhvt",
        "jupyter": {},
        "tags": [],
        "id": "6C2C48F49CD24FB38F6B313B6EC1983F",
        "scrolled": false,
        "colab_type": "code",
        "colab": {},
        "outputId": "2141738a-ebed-4052-abe4-bd60f82114c3"
      },
      "source": [
        "# test\n",
        "for testdata,testlabe in test_iter:\n",
        "    testdata,testlabe = testdata.to(device),testlabe.to(device)\n",
        "    break\n",
        "print(testdata.shape,testlabe.shape)\n",
        "net.eval()\n",
        "y_pre = net(testdata)\n",
        "print(torch.argmax(y_pre,dim=1)[:10])\n",
        "print(testlabe[:10])"
      ],
      "execution_count": 0,
      "outputs": [
        {
          "output_type": "stream",
          "text": [
            "torch.Size([256, 1, 28, 28]) torch.Size([256])\n",
            "tensor([9, 2, 1, 1, 6, 1, 2, 6, 5, 7])\n",
            "tensor([9, 2, 1, 1, 6, 1, 4, 6, 5, 7])\n"
          ],
          "name": "stdout"
        }
      ]
    }
  ]
}